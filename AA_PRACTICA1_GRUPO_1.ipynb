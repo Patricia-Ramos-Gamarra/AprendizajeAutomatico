{
  "cells": [
    {
      "cell_type": "markdown",
      "source": [
        "GRUPO A1\n",
        "\n",
        "Lucía Chicharro Saugar, María Montero Gómez, Patricia Ramos Gamarra y Lydia Sánchez-Cano Sánchez"
      ],
      "metadata": {
        "id": "Dgmh62J_pZWm"
      }
    },
    {
      "cell_type": "markdown",
      "metadata": {
        "id": "lORAqI4Lwarr"
      },
      "source": [
        "\n",
        "\n",
        "# **Diseño, Entrenamiento y Test de un Sistema de Redes de Neuronas  Artificiales.**"
      ]
    },
    {
      "cell_type": "markdown",
      "metadata": {
        "id": "OoRMwmSHwyZA"
      },
      "source": [
        "El objetivo es crear un modelo de Red de Neuronas Artificiales que sea capaz de reconocer y clasificar imágenes de ropa en sus diferentes  tipologías. Este modelo será definido, configurado, entrenado, evaluado y mejorado para posteriormente usarlo para hacer predicciones.\n",
        "\n",
        "Para ello crearemos un modelo en Keras aplicando de una tirada todos los pasos al conjunto de datos Fashion-MNIST.Fashion-MNIST es un conjunto de datos de las imágenes de los artículos de Zalando, una tienda de moda online alemana especializada en ventas de ropa y zapatos. El conjunto de datos contiene 70K imágenes en escala de grises en 10 categorías. Estas imágenes muestran prendas individuales de ropa en baja resolución\n",
        "(28 x 28 píxeles).\n",
        "\n",
        "La clasificación la haremos según la siguiente tabla:\n",
        "\n",
        "\n",
        "![tabla.png](data:image/png;base64,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)"
      ]
    },
    {
      "cell_type": "code",
      "execution_count": 1,
      "metadata": {
        "colab": {
          "base_uri": "https://localhost:8080/"
        },
        "id": "BaH__emoxlIu",
        "outputId": "2eefba07-b0db-4948-8961-21f91dcc24a0"
      },
      "outputs": [
        {
          "output_type": "stream",
          "name": "stdout",
          "text": [
            "Colab only includes TensorFlow 2.x; %tensorflow_version has no effect.\n",
            "2.9.0\n",
            "GPU Available: []\n",
            "2.9.2\n"
          ]
        }
      ],
      "source": [
        "# 1._ IMPORTAMOS KERAS\n",
        "%tensorflow_version 2.x\n",
        "import tensorflow as tf\n",
        "from tensorflow import keras\n",
        "print(tf.keras.__version__)\n",
        "print(\"GPU Available:\", tf.config.list_physical_devices('GPU'))\n",
        "print(tf.__version__)"
      ]
    },
    {
      "cell_type": "markdown",
      "metadata": {
        "id": "N6tvrU2gtUUK"
      },
      "source": [
        "Cargamos el conjunto de datos que vamos a utilizar."
      ]
    },
    {
      "cell_type": "code",
      "execution_count": 2,
      "metadata": {
        "id": "AMnuOiLuyJUg"
      },
      "outputs": [],
      "source": [
        "# 2.- CARGAMOS EL CONJUNTO DE DATOS Fashion_MNIST EN KERAS\n",
        "# fashion-mnist = tf.keras.datasets.fashion_mnist\n",
        "from keras.datasets import fashion_mnist\n",
        "\n",
        "(train_images, train_labels), (test_images, test_labels) = fashion_mnist.load_data()"
      ]
    },
    {
      "cell_type": "markdown",
      "metadata": {
        "id": "Fs-v2uFntbdO"
      },
      "source": [
        "`train_images y train_labels ` son las imágenes y las etiquetas que vamos a usar como conjunto de entrenamiento.\n",
        "\n",
        "En el caso de `test_images, test_labels` , hacen referencia a las imágenes y las etiquetas de test que se usarán cuando el modelo ya esté entrenado."
      ]
    },
    {
      "cell_type": "code",
      "execution_count": 3,
      "metadata": {
        "colab": {
          "base_uri": "https://localhost:8080/"
        },
        "id": "P2cmYezpzBX1",
        "outputId": "b6b200dd-935e-4a49-df4e-015e1f9536bd"
      },
      "outputs": [
        {
          "output_type": "stream",
          "name": "stdout",
          "text": [
            "(60000, 28, 28)\n"
          ]
        }
      ],
      "source": [
        "print(train_images.shape)"
      ]
    },
    {
      "cell_type": "markdown",
      "metadata": {
        "id": "9PTqNcgYzGSm"
      },
      "source": [
        "Como ya sabíamos, utilizamos 60000 imágenes de entramiento de 28*28 píxeles."
      ]
    },
    {
      "cell_type": "code",
      "execution_count": 4,
      "metadata": {
        "colab": {
          "base_uri": "https://localhost:8080/"
        },
        "id": "Gw5nY6eNzS8m",
        "outputId": "144707a4-c89e-47e6-e808-70447f345513"
      },
      "outputs": [
        {
          "output_type": "stream",
          "name": "stdout",
          "text": [
            "(10000, 28, 28)\n"
          ]
        }
      ],
      "source": [
        "print(test_images.shape)"
      ]
    },
    {
      "cell_type": "markdown",
      "metadata": {
        "id": "deCDpi9azZa8"
      },
      "source": [
        "En el caso de las imágenes de test, tenemos 10000 imágenes de 28*28 píxeles."
      ]
    },
    {
      "cell_type": "code",
      "execution_count": 5,
      "metadata": {
        "colab": {
          "base_uri": "https://localhost:8080/"
        },
        "id": "OYSkjQkDzuIn",
        "outputId": "4ad2eaf0-550a-4028-8d1d-ae7d41232329"
      },
      "outputs": [
        {
          "output_type": "stream",
          "name": "stdout",
          "text": [
            "[[  0   0   0   0   0   0   0   0   0   0   0   0   0   0   0   0   0   0   0   0   0   0   0   0   0   0   0   0]\n",
            " [  0   0   0   0   0   0   0   0   0   0   0   0   0   0   0   0   0   0   0   0   0   0   0   0   0   0   0   0]\n",
            " [  0   0   0   0   0   0   0   0   0   0   0   0   0   0   0   0   0   0   0   0   0   0   0   0   0   0   0   0]\n",
            " [  0   0   0   0   0   0   0   0   0   0   0   0   0   0   0   0   0   0   0   0   0   0   0   0   0   0   0   0]\n",
            " [  0   0   0   0   0   0   0   0   0   0   0   0   0   0   0   0   0   0   0   0   0   0   0   0   0   0   0   0]\n",
            " [  0   0   0   0   0   0   0   0   0   0   0   0   0   0   0   0   0   0   0   0   0   0   0   0   0   0   0   0]\n",
            " [  0   0   0   0   0   0   0   0   0   0   0   0   0   0   0   0   0   0   0   0   0   0   0   0   0   0   0   0]\n",
            " [  0   0   0   0   0   0   0   0   0   0   0   0   0   0   0   0   0   0   0   0   0   0   0   0   0   0   0   0]\n",
            " [  0   0   0   0   0   0   0   0   0   0   0   0   0   0   0   0   0   0   0   0   0   0   0   0   0   0   0   0]\n",
            " [  0   0   0   0   0   0   0   0   0   0   0   0   0  24  39  75   0   0   0   0   0   0   0   0   3   0   0   0]\n",
            " [  0   0   0   0   0   0   0   0   0   0  12  78 111 171 132  90   0   0   0   0   0   0   0   0   0   0  33   0]\n",
            " [  0   0   0   0   0   0   0   0   0  90 123 102  99  87  90 135 153  30   0   0   0   0   0   0   0 135 255   3]\n",
            " [  0   0   0   0   0   0   0   3  48 102  54  84 201 189 129 126 168 180 129 102  87  90 102 165 153 147 165   0]\n",
            " [  0   0  21  39  54  63  69  78  81  93 105 108 105 111 144 186 198 216 225 240 240 228 195 153 120 120 168  18]\n",
            " [  9  63  90  90  90  96  90  87 120 120 129 132 141 144 117  99 108 105  99  93  96  87  84  87 120 126 189  48]\n",
            " [ 75 102  78  93 105 123 135 141 159 147 159 147 159 177 183 162 150 177 177 138 162 162 150 135 129 123 189  42]\n",
            " [165 138 126 108  99 102 102 120 126 129 141 138 141 162 156 153 156 144 141 147 156 162 159 144 138 132 186  48]\n",
            " [ 18 108 153 186 189 186 162 150 141 138 147 150 144 153 156 159 162 168 171 171 171 171 174 174 177 186 216  81]\n",
            " [  0   0   0  15  48  75 117 141 153 156 156 156 156 156 159 159 156 171 180 171 171 165 159 156 144 138 135  36]\n",
            " [  0   0   0   0   0   0   0   0   0   0   0   0   0   0   0   0   0   0   0   0   0   0   0   0   0   0   0   0]\n",
            " [  0   0   0   0   0   0   0   0   0   0   0   0   0   0   0   0   0   0   0   0   0   0   0   0   0   0   0   0]\n",
            " [  0   0   0   0   0   0   0   0   0   0   0   0   0   0   0   0   0   0   0   0   0   0   0   0   0   0   0   0]\n",
            " [  0   0   0   0   0   0   0   0   0   0   0   0   0   0   0   0   0   0   0   0   0   0   0   0   0   0   0   0]\n",
            " [  0   0   0   0   0   0   0   0   0   0   0   0   0   0   0   0   0   0   0   0   0   0   0   0   0   0   0   0]\n",
            " [  0   0   0   0   0   0   0   0   0   0   0   0   0   0   0   0   0   0   0   0   0   0   0   0   0   0   0   0]\n",
            " [  0   0   0   0   0   0   0   0   0   0   0   0   0   0   0   0   0   0   0   0   0   0   0   0   0   0   0   0]\n",
            " [  0   0   0   0   0   0   0   0   0   0   0   0   0   0   0   0   0   0   0   0   0   0   0   0   0   0   0   0]\n",
            " [  0   0   0   0   0   0   0   0   0   0   0   0   0   0   0   0   0   0   0   0   0   0   0   0   0   0   0   0]]\n"
          ]
        }
      ],
      "source": [
        "# Vemos la matriz de la imagen número 40.000 (28x28)\n",
        "import numpy as np\n",
        "np.set_printoptions(precision=2, suppress=True, linewidth=145)\n",
        "print(np.matrix(train_images[40000]))"
      ]
    },
    {
      "cell_type": "code",
      "execution_count": 6,
      "metadata": {
        "colab": {
          "base_uri": "https://localhost:8080/"
        },
        "id": "VTcebSvm0bFL",
        "outputId": "86f5532b-092a-4dd0-f9d6-5d79c3f595aa"
      },
      "outputs": [
        {
          "output_type": "execute_result",
          "data": {
            "text/plain": [
              "7"
            ]
          },
          "metadata": {},
          "execution_count": 6
        }
      ],
      "source": [
        "# La imagen anterior corresponde con la categoría 7, que es un zapato como podíamos ver anteriormente.\n",
        "train_labels[40000]"
      ]
    },
    {
      "cell_type": "code",
      "execution_count": 7,
      "metadata": {
        "colab": {
          "base_uri": "https://localhost:8080/",
          "height": 265
        },
        "id": "hDwluAVduY-A",
        "outputId": "027e683c-e071-4ac2-b12a-3fd2b01cbc19"
      },
      "outputs": [
        {
          "output_type": "display_data",
          "data": {
            "text/plain": [
              "<Figure size 432x288 with 1 Axes>"
            ],
            "image/png": "[encoded data removed]"
          },
          "metadata": {
            "needs_background": "light"
          }
        }
      ],
      "source": [
        "# Veamos el elemento 40000 de las imágenes de entrenamiento y pintémoslo con matplotlib\n",
        "import matplotlib.pyplot as plt\n",
        "digit = train_images[40000]\n",
        "plt.imshow(digit, cmap=plt.cm.binary)\n",
        "plt.show()"
      ]
    },
    {
      "cell_type": "code",
      "execution_count": 8,
      "metadata": {
        "colab": {
          "base_uri": "https://localhost:8080/"
        },
        "id": "AayKN4vfvFEZ",
        "outputId": "a567acca-4ba0-481b-cf73-ce6a93ac35cf"
      },
      "outputs": [
        {
          "output_type": "execute_result",
          "data": {
            "text/plain": [
              "array([9, 2, 1, ..., 8, 1, 5], dtype=uint8)"
            ]
          },
          "metadata": {},
          "execution_count": 8
        }
      ],
      "source": [
        "test_labels"
      ]
    },
    {
      "cell_type": "code",
      "execution_count": 9,
      "metadata": {
        "colab": {
          "base_uri": "https://localhost:8080/",
          "height": 265
        },
        "id": "ldng79XrvM4T",
        "outputId": "4a53a59e-705d-4335-b351-d02195f2673d"
      },
      "outputs": [
        {
          "output_type": "display_data",
          "data": {
            "text/plain": [
              "<Figure size 432x288 with 1 Axes>"
            ],
            "image/png": "[encoded data removed]"
          },
          "metadata": {
            "needs_background": "light"
          }
        }
      ],
      "source": [
        "#Veamos el elemento de la posición 0 de las imágenes de test y pintémoslo con matplotlib (debe pertener a la categoría 9 que son botines)\n",
        "import matplotlib.pyplot as plt\n",
        "digit = test_images[0]\n",
        "plt.imshow(digit, cmap=plt.cm.binary)\n",
        "plt.show()"
      ]
    },
    {
      "cell_type": "markdown",
      "metadata": {
        "id": "sUAGp01B1cMn"
      },
      "source": [
        "**CONSTRUIMOS LA RNA**\n"
      ]
    },
    {
      "cell_type": "markdown",
      "metadata": {
        "id": "AgprGHm5v6gL"
      },
      "source": [
        "*Preparamos los datos*"
      ]
    },
    {
      "cell_type": "markdown",
      "source": [
        "Layers presenta una función llamada Flatten , cuya utilidad es aplanar la entrada sin afectar al tamaño del lote.\n",
        "\n",
        "`tf.keras.layers.Flatten(data_format=None, **kwargs)`\n",
        "\n",
        "Aplanar un tensor es eliminar todas las dimensiones excepto una."
      ],
      "metadata": {
        "id": "cZnka0UUz92Y"
      }
    },
    {
      "cell_type": "markdown",
      "metadata": {
        "id": "pKiD3l_QB-q4"
      },
      "source": [
        "Para que nuestra red converja más facilmente, normalizaremos los datos de entrenamiento y de test evitando así que sean heterogéneos de rango. Convertiremos nuestros datos en una matriz `float32` de la forma `(60000, 28 * 28)` que toma valores en `[0,1]`"
      ]
    },
    {
      "cell_type": "code",
      "execution_count": 10,
      "metadata": {
        "id": "w-kRKtajCzwO"
      },
      "outputs": [],
      "source": [
        "train_images = train_images.reshape((60000, 28 * 28))\n",
        "train_images = train_images.astype('float32') / 255\n",
        "\n",
        "test_images = test_images.reshape((10000, 28 * 28))\n",
        "test_images = test_images.astype('float32') / 255\n"
      ]
    },
    {
      "cell_type": "markdown",
      "metadata": {
        "id": "MPs-rkEYEHz1"
      },
      "source": [
        "También tenemos que codificar categóricamente las etiquetas. Para ello, usaremos el one-hot encoding. En este caso transformaremos el vector en un vector de 10 ceros con un 1 en la posición que corresponda a la etiqueta.\n"
      ]
    },
    {
      "cell_type": "code",
      "execution_count": 11,
      "metadata": {
        "id": "TZwcnuW5EM9S"
      },
      "outputs": [],
      "source": [
        "from keras.utils.np_utils import to_categorical\n",
        "\n",
        "train_labels = to_categorical(train_labels)\n",
        "test_labels = to_categorical(test_labels)"
      ]
    },
    {
      "cell_type": "code",
      "execution_count": 12,
      "metadata": {
        "colab": {
          "base_uri": "https://localhost:8080/"
        },
        "id": "87Jrs5FbxM8l",
        "outputId": "7f0a8347-7007-4ca4-eb57-18e9e7b3fcc2"
      },
      "outputs": [
        {
          "output_type": "execute_result",
          "data": {
            "text/plain": [
              "array([0., 0., 0., 0., 0., 0., 0., 1., 0., 0.], dtype=float32)"
            ]
          },
          "metadata": {},
          "execution_count": 12
        }
      ],
      "source": [
        "#En el caso de la etiqueta 40000 ( que sabemos que era de la categoría 7) obtendríamos:\n",
        "train_labels[40000]"
      ]
    },
    {
      "cell_type": "markdown",
      "metadata": {
        "id": "frPu7w6s87En"
      },
      "source": [
        "***Caso 1***\n",
        "\n",
        "Nº neuronas primera capa:10\n",
        "\n",
        "Fución de activación: `'relu'`\n",
        "\n",
        "Optimizador: `'sgd'`"
      ]
    },
    {
      "cell_type": "code",
      "execution_count": 13,
      "metadata": {
        "colab": {
          "base_uri": "https://localhost:8080/"
        },
        "id": "Glwr9wz51tNy",
        "outputId": "6ae68b1f-2740-44ae-878c-fa8c72562d6e"
      },
      "outputs": [
        {
          "output_type": "stream",
          "name": "stdout",
          "text": [
            "Model: \"sequential\"\n",
            "_________________________________________________________________\n",
            " Layer (type)                Output Shape              Param #   \n",
            "=================================================================\n",
            " dense (Dense)               (None, 10)                7850      \n",
            "                                                                 \n",
            " dense_1 (Dense)             (None, 10)                110       \n",
            "                                                                 \n",
            " dense_2 (Dense)             (None, 10)                110       \n",
            "                                                                 \n",
            "=================================================================\n",
            "Total params: 8,070\n",
            "Trainable params: 8,070\n",
            "Non-trainable params: 0\n",
            "_________________________________________________________________\n"
          ]
        }
      ],
      "source": [
        "# CONSTRUIMOS LA ARQUITECTURA DE LA RED\n",
        "from keras import models\n",
        "from keras import layers\n",
        "\n",
        "# La red será secuencial (de la entrada a la salida sin ciclos).\n",
        "model = models.Sequential()\n",
        "# En el primer caso , la capa 1 tiene 10 neuronas (que son las mínimas necesarias en este caso al tener 10 categorías) , \n",
        "#la función de activación es 'relu' y el optimizador 'sgd'.\n",
        "model.add(layers.Dense(10, activation='relu', input_shape=(28*28,)))\n",
        "# Las capas Dense nos indica que cada neurona está conectada con cada uno de los 784 píxeles.\n",
        "model.add(layers.Dense(10, activation='relu'))\n",
        "#En la capa de salida debemos emplear 10 neuronas cada una correspondiente a una categoría.\n",
        "#Además, la función de activación debe ser softmax ya que queremos que nos devuelva una distribución de probabilidad sobre las 10 clases.\n",
        "model.add(layers.Dense(10, activation='softmax'))\n",
        "model.summary()\n",
        "#Tras realizar el summary observamos que el nombre de las capas es automático ya que no hemos definido uno. \n",
        "# El 7850 es el resultado de 784 (píxeles) * 10 (neuronas) + 10 (Sesgo)\n",
        "# 110 es el resultado de 10*10 + 10(Sesgo). Este valor hace referencia a la capa oculta y a la de salida.\n",
        "# 8070 es el resultado de 7850 + 110 ( capa intermedia) + 110 (capa de salida)"
      ]
    },
    {
      "cell_type": "markdown",
      "metadata": {
        "id": "GP1CVZJ4-508"
      },
      "source": [
        "Pasemos a definir la función de activación , de pérdida y la métrica."
      ]
    },
    {
      "cell_type": "code",
      "execution_count": 14,
      "metadata": {
        "id": "zn7Yg3Yw_nvs"
      },
      "outputs": [],
      "source": [
        "# Compilamos\n",
        "model.compile(optimizer='sgd', # cargamos el optimizador 'sgd' (Stocastic Gradient Descendent)\n",
        "              loss='categorical_crossentropy',#'categorical_crossentropy' es la función de pérdida que se utiliza como señal\n",
        "                                              # de retroalimentación para aprender los tensores de peso \n",
        "                                              #Mide la distancia entre dos distribuciones de probabilidad (entre la distribución de probabilidad de salida de nuestra red y la distribución real de las etiquetas)\n",
        "              metrics=['accuracy']) # 'accuracy': Solo tendremos en cuenta la fracción de imágenes que son\n",
        "                                    # correctamente clasificadas "
      ]
    },
    {
      "cell_type": "markdown",
      "metadata": {
        "id": "moI-uISqDwZY"
      },
      "source": [
        "Ya estamos listos para entrenar a la red."
      ]
    },
    {
      "cell_type": "code",
      "execution_count": 15,
      "metadata": {
        "colab": {
          "base_uri": "https://localhost:8080/"
        },
        "id": "fDoR7-vbFbnF",
        "outputId": "ce8940a0-5116-4a82-e9d9-98f5b8add07f"
      },
      "outputs": [
        {
          "output_type": "stream",
          "name": "stdout",
          "text": [
            "Epoch 1/5\n",
            "469/469 [==============================] - 5s 6ms/step - loss: 1.8067 - accuracy: 0.3456\n",
            "Epoch 2/5\n",
            "469/469 [==============================] - 3s 6ms/step - loss: 1.1097 - accuracy: 0.5979\n",
            "Epoch 3/5\n",
            "469/469 [==============================] - 3s 6ms/step - loss: 0.7983 - accuracy: 0.7041\n",
            "Epoch 4/5\n",
            "469/469 [==============================] - 3s 6ms/step - loss: 0.7047 - accuracy: 0.7401\n",
            "Epoch 5/5\n",
            "469/469 [==============================] - 4s 8ms/step - loss: 0.6522 - accuracy: 0.7651\n"
          ]
        }
      ],
      "source": [
        "#Entrenamos la red\n",
        "# epochs: Épocas:\"una pasada sobre todo el conjunto de datos\",separara el entrenamiento en distintas fases para el registro y la evaluación periódica.\n",
        "#En cada iteración, la red calculará los gradientes de los pesos y ajustará los pesos \n",
        "#Al final de las iteraciones veremos que la red es capaz de clasificar las fotos según la categoría correspondiente.\n",
        "history=model.fit(train_images, train_labels, epochs=5, batch_size=128)"
      ]
    },
    {
      "cell_type": "markdown",
      "metadata": {
        "id": "AjrR88WJ7Fr4"
      },
      "source": [
        "En nuestros datos de entrenamiento, obtenemos una pérdida de alrededor de un 65% y una precisión de alrededor de un 77%."
      ]
    },
    {
      "cell_type": "code",
      "execution_count": 16,
      "metadata": {
        "colab": {
          "base_uri": "https://localhost:8080/"
        },
        "id": "pCUNTj7MIRdF",
        "outputId": "f1733490-6bb3-4754-fff6-c7330c399e19"
      },
      "outputs": [
        {
          "output_type": "stream",
          "name": "stdout",
          "text": [
            "313/313 [==============================] - 2s 4ms/step - loss: 0.6630 - accuracy: 0.7597\n",
            "test_loss: 0.6630309224128723\n",
            "test_acc: 0.7597000002861023\n"
          ]
        }
      ],
      "source": [
        "#VERIFICAMOS NUESTRO MODELO YA ENTRENADO, CONTRA EL CONJUNTO DE PRUEBAS\n",
        "test_loss, test_acc = model.evaluate(test_images, test_labels)\n",
        "print('test_loss:', test_loss)\n",
        "print('test_acc:', test_acc)"
      ]
    },
    {
      "cell_type": "markdown",
      "metadata": {
        "id": "AwK5jNHc7yvr"
      },
      "source": [
        "La precisión en nuestro conjunto de prueba es de un 76% aproximadamente(algo más baja que en los datos de entrenamiento) y la pérdida es de un 66% (talgo más alta que la pérdida en los de entrenamiento)."
      ]
    },
    {
      "cell_type": "code",
      "execution_count": 17,
      "metadata": {
        "colab": {
          "base_uri": "https://localhost:8080/",
          "height": 265
        },
        "id": "qwix1n3lIo3p",
        "outputId": "a3567a59-ac4f-434e-e183-531609d8c659"
      },
      "outputs": [
        {
          "output_type": "display_data",
          "data": {
            "text/plain": [
              "<Figure size 432x288 with 1 Axes>"
            ],
            "image/png": "[encoded data removed]"
          },
          "metadata": {
            "needs_background": "light"
          }
        }
      ],
      "source": [
        "# Veamos el elemento 6 de test y pintémoslo con matplotlib\n",
        "from keras.datasets import fashion_mnist\n",
        "(train_images, train_labels), (test_images, test_labels) = fashion_mnist.load_data()\n",
        "import matplotlib.pyplot as plt\n",
        "digit = test_images[5]\n",
        "plt.imshow(digit, cmap=plt.cm.binary)\n",
        "plt.show()"
      ]
    },
    {
      "cell_type": "code",
      "execution_count": 18,
      "metadata": {
        "id": "TExxu4XpJfiQ"
      },
      "outputs": [],
      "source": [
        "def plot_image(i, predictions_array, true_label, img):\n",
        "  predictions_array, true_label, img = predictions_array, true_label[i], img[i]\n",
        "  plt.grid(False)\n",
        "  plt.xticks([])\n",
        "  plt.yticks([])\n",
        "\n",
        "  plt.imshow(img, cmap=plt.cm.binary)    \n",
        "\n",
        "  predicted_label = np.argmax(predictions_array)\n",
        "  if predicted_label.all() == true_label.all():\n",
        "    color = 'blue'\n",
        "  else:\n",
        "    color = 'red'\n",
        "\n",
        "  plt.xlabel(\"{} {:2.0f}% ({})\".format(predicted_label,\n",
        "                                100*np.max(predictions_array),\n",
        "                                true_label),\n",
        "                                color=color)\n",
        "\n",
        "def plot_value_array(i, predictions_array, true_label):\n",
        "  predictions_array, true_label = predictions_array, true_label[i]\n",
        "  plt.grid(False)\n",
        "  plt.xticks(range(10))\n",
        "  plt.yticks([])\n",
        "  thisplot = plt.bar(range(10), predictions_array, color=\"#777777\")\n",
        "  plt.ylim([0, 1])\n",
        "  predicted_label = np.argmax(predictions_array)\n",
        "\n",
        "  thisplot[predicted_label].set_color('red')\n",
        "  thisplot[true_label].set_color('blue')\n",
        "\n",
        "  "
      ]
    },
    {
      "cell_type": "code",
      "execution_count": 19,
      "metadata": {
        "colab": {
          "base_uri": "https://localhost:8080/",
          "height": 1000
        },
        "id": "3aGTlVF-Jvhp",
        "outputId": "d1a4874f-f91c-41d1-eb9b-22fc2bcd75cc"
      },
      "outputs": [
        {
          "output_type": "stream",
          "name": "stdout",
          "text": [
            "313/313 [==============================] - 1s 2ms/step\n"
          ]
        },
        {
          "output_type": "display_data",
          "data": {
            "text/plain": [
              "<Figure size 432x216 with 2 Axes>"
            ],
            "image/png": "[encoded data removed]"
          },
          "metadata": {
            "needs_background": "light"
          }
        },
        {
          "output_type": "display_data",
          "data": {
            "text/plain": [
              "<Figure size 432x288 with 0 Axes>"
            ]
          },
          "metadata": {}
        },
        {
          "output_type": "display_data",
          "data": {
            "text/plain": [
              "<Figure size 432x216 with 2 Axes>"
            ],
            "image/png": "[encoded data removed]"
          },
          "metadata": {
            "needs_background": "light"
          }
        },
        {
          "output_type": "display_data",
          "data": {
            "text/plain": [
              "<Figure size 432x288 with 0 Axes>"
            ]
          },
          "metadata": {}
        },
        {
          "output_type": "display_data",
          "data": {
            "text/plain": [
              "<Figure size 432x216 with 2 Axes>"
            ],
            "image/png": "[encoded data removed]"
          },
          "metadata": {
            "needs_background": "light"
          }
        },
        {
          "output_type": "display_data",
          "data": {
            "text/plain": [
              "<Figure size 432x288 with 0 Axes>"
            ]
          },
          "metadata": {}
        },
        {
          "output_type": "display_data",
          "data": {
            "text/plain": [
              "<Figure size 432x216 with 2 Axes>"
            ],
            "image/png": "[encoded data removed]"
          },
          "metadata": {
            "needs_background": "light"
          }
        },
        {
          "output_type": "display_data",
          "data": {
            "text/plain": [
              "<Figure size 432x288 with 0 Axes>"
            ]
          },
          "metadata": {}
        },
        {
          "output_type": "display_data",
          "data": {
            "text/plain": [
              "<Figure size 432x216 with 2 Axes>"
            ],
            "image/png": "[encoded data removed]"
          },
          "metadata": {
            "needs_background": "light"
          }
        },
        {
          "output_type": "display_data",
          "data": {
            "text/plain": [
              "<Figure size 432x288 with 0 Axes>"
            ]
          },
          "metadata": {}
        },
        {
          "output_type": "display_data",
          "data": {
            "text/plain": [
              "<Figure size 432x216 with 2 Axes>"
            ],
            "image/png": "[encoded data removed]"
          },
          "metadata": {
            "needs_background": "light"
          }
        },
        {
          "output_type": "display_data",
          "data": {
            "text/plain": [
              "<Figure size 432x288 with 0 Axes>"
            ]
          },
          "metadata": {}
        },
        {
          "output_type": "display_data",
          "data": {
            "text/plain": [
              "<Figure size 432x216 with 2 Axes>"
            ],
            "image/png": "[encoded data removed]"
          },
          "metadata": {
            "needs_background": "light"
          }
        },
        {
          "output_type": "display_data",
          "data": {
            "text/plain": [
              "<Figure size 432x288 with 0 Axes>"
            ]
          },
          "metadata": {}
        },
        {
          "output_type": "display_data",
          "data": {
            "text/plain": [
              "<Figure size 432x216 with 2 Axes>"
            ],
            "image/png": "[encoded data removed]"
          },
          "metadata": {
            "needs_background": "light"
          }
        },
        {
          "output_type": "display_data",
          "data": {
            "text/plain": [
              "<Figure size 432x288 with 0 Axes>"
            ]
          },
          "metadata": {}
        },
        {
          "output_type": "display_data",
          "data": {
            "text/plain": [
              "<Figure size 432x216 with 2 Axes>"
            ],
            "image/png": "[encoded data removed]"
          },
          "metadata": {
            "needs_background": "light"
          }
        },
        {
          "output_type": "display_data",
          "data": {
            "text/plain": [
              "<Figure size 432x288 with 0 Axes>"
            ]
          },
          "metadata": {}
        },
        {
          "output_type": "display_data",
          "data": {
            "text/plain": [
              "<Figure size 432x216 with 2 Axes>"
            ],
            "image/png": "[encoded data removed]"
          },
          "metadata": {
            "needs_background": "light"
          }
        },
        {
          "output_type": "display_data",
          "data": {
            "text/plain": [
              "<Figure size 432x288 with 0 Axes>"
            ]
          },
          "metadata": {}
        }
      ],
      "source": [
        "# graficamos los 10 primeros elementos para ver cómo de bien o de mal se comporta nuestro modelo.\n",
        "from keras.datasets import fashion_mnist\n",
        "import numpy as np\n",
        "import matplotlib.pyplot as plt\n",
        "\n",
        "(train_images, train_labels), (test_images, test_labels) = fashion_mnist.load_data()\n",
        "train_images = train_images.reshape((60000, 28 * 28))\n",
        "test_images = test_images.reshape((10000, 28 * 28))\n",
        "\n",
        "train_images = train_images.astype('float32') / 255\n",
        "test_images = test_images.astype('float32') / 255\n",
        "\n",
        "predictions = model.predict(test_images)\n",
        "\n",
        "for i in range(10):\n",
        "  plt.figure(figsize=(6,3))\n",
        "  plt.subplot(1,2,1)\n",
        "  plot_image(i, predictions[i], test_labels, test_images.reshape(10000,28,28))\n",
        "  plt.subplot(1,2,2)\n",
        "  plot_value_array(i, predictions[i],  test_labels)\n",
        "  plt.show()\n",
        "  plt.clf()"
      ]
    },
    {
      "cell_type": "markdown",
      "metadata": {
        "id": "pEK3YCiTASPG"
      },
      "source": [
        "En el primer caso,la red clasifica la imagen con un 43% como perteneciente a la categoría 7 aunque realmente pertenece a la categoría 5. Sin embargo, existen casos como la tercera imagen o la cuarta en los que se clasifica correctamente con un 99% o incluso 100% de precisión.\n",
        "\n",
        "Finalmente, generaremos una predicción sobre el sexto elemento de nuestro conjunto de test."
      ]
    },
    {
      "cell_type": "code",
      "execution_count": 20,
      "metadata": {
        "colab": {
          "base_uri": "https://localhost:8080/"
        },
        "id": "V0ysUGTSz5gb",
        "outputId": "0d4288b1-eff9-4a4a-f64b-0695d30ea436"
      },
      "outputs": [
        {
          "output_type": "stream",
          "name": "stdout",
          "text": [
            "=VEMOS LA PREDICCIÓN DEL ELEMENTO 6 (QUE DEBERÍA SER UN 1)============\n",
            "[0.   0.97 0.   0.01 0.   0.   0.   0.   0.   0.  ]\n",
            "=======================================================================\n",
            "=VEMOS LA PREDICCIÓN DEL ELEMENTO 6 (QUE DEBERÍA SER UN 1)============\n",
            "1\n"
          ]
        }
      ],
      "source": [
        "import numpy as np\n",
        "print(\"=VEMOS LA PREDICCIÓN DEL ELEMENTO 6 (QUE DEBERÍA SER UN 1)============\")\n",
        "print(predictions[5])\n",
        "print(\"=======================================================================\")\n",
        "print(\"=VEMOS LA PREDICCIÓN DEL ELEMENTO 6 (QUE DEBERÍA SER UN 1)============\")\n",
        "print(np.argmax(predictions[5]))"
      ]
    },
    {
      "cell_type": "markdown",
      "metadata": {
        "id": "WCQuBW8TBVkm"
      },
      "source": [
        "Con un 97% nuestra red determina correctamente que la imagen pertenece a la categroría 1."
      ]
    },
    {
      "cell_type": "markdown",
      "metadata": {
        "id": "oiMj0LnKNXZQ"
      },
      "source": [
        "*Conclusiones caso 1:*\n",
        "Puesto que al entrenar la red se obtiene una pérdida muy alta y muy cercana al valor de precisión, sería necesario modificar ciertos hiperparámetros de la red para mejorar su eficacia."
      ]
    },
    {
      "cell_type": "markdown",
      "metadata": {
        "id": "wFMJY2h-Naia"
      },
      "source": [
        "***Caso 2 (5 épocas)***\n",
        "\n",
        "Nº neuronas primera capa:10\n",
        "\n",
        "Fución de activación: `'relu'`\n",
        "\n",
        "Optimizador: `'rmsprop'`"
      ]
    },
    {
      "cell_type": "code",
      "execution_count": 21,
      "metadata": {
        "id": "VEP7rH93EXPX"
      },
      "outputs": [],
      "source": [
        "from keras.datasets import fashion_mnist\n",
        "\n",
        "(train_images, train_labels), (test_images, test_labels) = fashion_mnist.load_data()\n",
        "\n",
        "train_images = train_images.reshape((60000, 28 * 28))\n",
        "train_images = train_images.astype('float32') / 255\n",
        "\n",
        "test_images = test_images.reshape((10000, 28 * 28))\n",
        "test_images = test_images.astype('float32') / 255\n",
        "\n",
        "from keras.utils.np_utils import to_categorical\n",
        "\n",
        "train_labels = to_categorical(train_labels)\n",
        "test_labels = to_categorical(test_labels)"
      ]
    },
    {
      "cell_type": "code",
      "execution_count": 22,
      "metadata": {
        "colab": {
          "base_uri": "https://localhost:8080/"
        },
        "id": "T8iVtr333C7k",
        "outputId": "7907f83d-28d0-4fbc-944d-7654204767f7"
      },
      "outputs": [
        {
          "output_type": "stream",
          "name": "stdout",
          "text": [
            "Model: \"sequential_1\"\n",
            "_________________________________________________________________\n",
            " Layer (type)                Output Shape              Param #   \n",
            "=================================================================\n",
            " dense_3 (Dense)             (None, 10)                7850      \n",
            "                                                                 \n",
            " dense_4 (Dense)             (None, 10)                110       \n",
            "                                                                 \n",
            " dense_5 (Dense)             (None, 10)                110       \n",
            "                                                                 \n",
            "=================================================================\n",
            "Total params: 8,070\n",
            "Trainable params: 8,070\n",
            "Non-trainable params: 0\n",
            "_________________________________________________________________\n",
            "Epoch 1/5\n",
            "469/469 [==============================] - 2s 3ms/step - loss: 0.9360 - accuracy: 0.6930\n",
            "Epoch 2/5\n",
            "469/469 [==============================] - 2s 3ms/step - loss: 0.5378 - accuracy: 0.8158\n",
            "Epoch 3/5\n",
            "469/469 [==============================] - 1s 3ms/step - loss: 0.4914 - accuracy: 0.8300\n",
            "Epoch 4/5\n",
            "469/469 [==============================] - 2s 3ms/step - loss: 0.4650 - accuracy: 0.8404\n",
            "Epoch 5/5\n",
            "469/469 [==============================] - 1s 3ms/step - loss: 0.4487 - accuracy: 0.8451\n",
            "313/313 [==============================] - 1s 2ms/step - loss: 0.4880 - accuracy: 0.8327\n",
            "test_loss: 0.48799780011177063\n",
            "test_acc: 0.8327000141143799\n"
          ]
        }
      ],
      "source": [
        "#CASO 2 5 ÉPOCAS\n",
        "\n",
        "\n",
        "# CONSTRUIMOS LA ARQUITECTURA DE LA RED\n",
        "# El tipo de red será secuencial.\n",
        "model1 = models.Sequential()\n",
        "# En el primer caso , la capa 1 tiene 10 neuronas , la función de activación es relu y el optimizador rmsprop.\n",
        "model1.add(layers.Dense(10, activation='relu', input_shape=(28*28,)))\n",
        "model1.add(layers.Dense(10, activation='relu'))\n",
        "#En la capa de salida, la función de activación debe ser softmax ya que queremos que nos devuelva una distribución de probabilidad sobre las 10 clases.\n",
        "model1.add(layers.Dense(10, activation='softmax'))\n",
        "#Los datos de summary vuelven a ser los mismos ya que no hemos modificado el número de neuronas.\n",
        "model1.summary()\n",
        "\n",
        "model1.compile(optimizer='rmsprop',\n",
        "              loss='categorical_crossentropy',\n",
        "              metrics=['accuracy'])\n",
        "#Entrenamos el modelo\n",
        "model1.fit(train_images, train_labels, epochs=5, batch_size=128)\n",
        "\n",
        "#VERIFICAMOS NUESTRO MODELO YA ENTRENADO, CONTRA EL CONJUNTO DE PRUEBAS\n",
        "test_loss, test_acc = model1.evaluate(test_images, test_labels)\n",
        "print('test_loss:', test_loss)\n",
        "print('test_acc:', test_acc)\n"
      ]
    },
    {
      "cell_type": "markdown",
      "metadata": {
        "id": "WuFcS_OzDlyP"
      },
      "source": [
        "En este caso, con los datos de entrenamiento obtenemos una pérdida de un 45% aproximadamente y una precisión de un 85% aproximadamente para los datos de entrenamiento.\n",
        "\n",
        "Al compararlo con los datos de prueba, se obtiene una pérdida de un 48% (algo más alta que en los de entrenamiento) y una precisión de un 83% (algo más baja con respecto a los de entrenamiento)."
      ]
    },
    {
      "cell_type": "code",
      "execution_count": 23,
      "metadata": {
        "colab": {
          "base_uri": "https://localhost:8080/",
          "height": 1000
        },
        "id": "o2chQbLO5wLg",
        "outputId": "62171515-4f27-46e3-aeda-045f7f0cc366"
      },
      "outputs": [
        {
          "output_type": "stream",
          "name": "stdout",
          "text": [
            "313/313 [==============================] - 1s 2ms/step\n"
          ]
        },
        {
          "output_type": "display_data",
          "data": {
            "text/plain": [
              "<Figure size 432x216 with 2 Axes>"
            ],
            "image/png": "[encoded data removed]"
          },
          "metadata": {
            "needs_background": "light"
          }
        },
        {
          "output_type": "display_data",
          "data": {
            "text/plain": [
              "<Figure size 432x288 with 0 Axes>"
            ]
          },
          "metadata": {}
        },
        {
          "output_type": "display_data",
          "data": {
            "text/plain": [
              "<Figure size 432x216 with 2 Axes>"
            ],
            "image/png": "[encoded data removed]"
          },
          "metadata": {
            "needs_background": "light"
          }
        },
        {
          "output_type": "display_data",
          "data": {
            "text/plain": [
              "<Figure size 432x288 with 0 Axes>"
            ]
          },
          "metadata": {}
        },
        {
          "output_type": "display_data",
          "data": {
            "text/plain": [
              "<Figure size 432x216 with 2 Axes>"
            ],
            "image/png": "[encoded data removed]"
          },
          "metadata": {
            "needs_background": "light"
          }
        },
        {
          "output_type": "display_data",
          "data": {
            "text/plain": [
              "<Figure size 432x288 with 0 Axes>"
            ]
          },
          "metadata": {}
        },
        {
          "output_type": "display_data",
          "data": {
            "text/plain": [
              "<Figure size 432x216 with 2 Axes>"
            ],
            "image/png": "[encoded data removed]"
          },
          "metadata": {
            "needs_background": "light"
          }
        },
        {
          "output_type": "display_data",
          "data": {
            "text/plain": [
              "<Figure size 432x288 with 0 Axes>"
            ]
          },
          "metadata": {}
        },
        {
          "output_type": "display_data",
          "data": {
            "text/plain": [
              "<Figure size 432x216 with 2 Axes>"
            ],
            "image/png": "[encoded data removed]"
          },
          "metadata": {
            "needs_background": "light"
          }
        },
        {
          "output_type": "display_data",
          "data": {
            "text/plain": [
              "<Figure size 432x288 with 0 Axes>"
            ]
          },
          "metadata": {}
        },
        {
          "output_type": "display_data",
          "data": {
            "text/plain": [
              "<Figure size 432x216 with 2 Axes>"
            ],
            "image/png": "[encoded data removed]"
          },
          "metadata": {
            "needs_background": "light"
          }
        },
        {
          "output_type": "display_data",
          "data": {
            "text/plain": [
              "<Figure size 432x288 with 0 Axes>"
            ]
          },
          "metadata": {}
        },
        {
          "output_type": "display_data",
          "data": {
            "text/plain": [
              "<Figure size 432x216 with 2 Axes>"
            ],
            "image/png": "[encoded data removed]"
          },
          "metadata": {
            "needs_background": "light"
          }
        },
        {
          "output_type": "display_data",
          "data": {
            "text/plain": [
              "<Figure size 432x288 with 0 Axes>"
            ]
          },
          "metadata": {}
        },
        {
          "output_type": "display_data",
          "data": {
            "text/plain": [
              "<Figure size 432x216 with 2 Axes>"
            ],
            "image/png": "[encoded data removed]"
          },
          "metadata": {
            "needs_background": "light"
          }
        },
        {
          "output_type": "display_data",
          "data": {
            "text/plain": [
              "<Figure size 432x288 with 0 Axes>"
            ]
          },
          "metadata": {}
        },
        {
          "output_type": "display_data",
          "data": {
            "text/plain": [
              "<Figure size 432x216 with 2 Axes>"
            ],
            "image/png": "[encoded data removed]"
          },
          "metadata": {
            "needs_background": "light"
          }
        },
        {
          "output_type": "display_data",
          "data": {
            "text/plain": [
              "<Figure size 432x288 with 0 Axes>"
            ]
          },
          "metadata": {}
        },
        {
          "output_type": "display_data",
          "data": {
            "text/plain": [
              "<Figure size 432x216 with 2 Axes>"
            ],
            "image/png": "[encoded data removed]"
          },
          "metadata": {
            "needs_background": "light"
          }
        },
        {
          "output_type": "display_data",
          "data": {
            "text/plain": [
              "<Figure size 432x288 with 0 Axes>"
            ]
          },
          "metadata": {}
        }
      ],
      "source": [
        "#Graficamos para ver como se comporta el modelo.\n",
        "from keras.datasets import fashion_mnist\n",
        "import numpy as np\n",
        "import matplotlib.pyplot as plt\n",
        "\n",
        "(train_images, train_labels), (test_images, test_labels) = fashion_mnist.load_data()\n",
        "train_images = train_images.reshape((60000, 28 * 28))\n",
        "test_images = test_images.reshape((10000, 28 * 28))\n",
        "\n",
        "train_images = train_images.astype('float32') / 255\n",
        "test_images = test_images.astype('float32') / 255\n",
        "\n",
        "predictions = model1.predict(test_images)\n",
        "\n",
        "for i in range(10):\n",
        "  plt.figure(figsize=(6,3))\n",
        "  plt.subplot(1,2,1)\n",
        "  plot_image(i, predictions[i], test_labels, test_images.reshape(10000,28,28))\n",
        "  plt.subplot(1,2,2)\n",
        "  plot_value_array(i, predictions[i],  test_labels)\n",
        "  plt.show()\n",
        "  plt.clf()\n",
        "  "
      ]
    },
    {
      "cell_type": "markdown",
      "metadata": {
        "id": "-bk2yzMDFF3k"
      },
      "source": [
        "Para la primera imagen, la red la clasifica correctamente como perteneciente a la categoría 9 con un 44%.\n",
        "Sin embargo, para la quinta imagen la red identifica que pertenece a la categoría 6 con 67%. Pese a que la clasifica de manera correcta, presenta cierta confusión entre la 6 y la 2 (chaquetas y camisas); error que sería comprensible debido a la semejanza entre las características de ambas categorías.\n",
        "\n",
        "Generemos una predicción para la sexta imagen."
      ]
    },
    {
      "cell_type": "code",
      "execution_count": 24,
      "metadata": {
        "colab": {
          "base_uri": "https://localhost:8080/"
        },
        "id": "X_abXxVa6R-w",
        "outputId": "e339f1b9-642b-4e0b-e1b3-5fc76a0be11d"
      },
      "outputs": [
        {
          "output_type": "stream",
          "name": "stdout",
          "text": [
            "=VEMOS LA PREDICCIÓN DEL ELEMENTO 6 (QUE DEBERÍA SER UN 1)============\n",
            "[0. 1. 0. 0. 0. 0. 0. 0. 0. 0.]\n",
            "=======================================================================\n",
            "=VEMOS LA PREDICCIÓN DEL ELEMENTO 6 (QUE DEBERÍA SER UN 1)============\n",
            "1\n"
          ]
        }
      ],
      "source": [
        "import numpy as np\n",
        "print(\"=VEMOS LA PREDICCIÓN DEL ELEMENTO 6 (QUE DEBERÍA SER UN 1)============\")\n",
        "print(predictions[5])\n",
        "print(\"=======================================================================\")\n",
        "print(\"=VEMOS LA PREDICCIÓN DEL ELEMENTO 6 (QUE DEBERÍA SER UN 1)============\")\n",
        "print(np.argmax(predictions[5]))\n"
      ]
    },
    {
      "cell_type": "markdown",
      "metadata": {
        "id": "-J-d7d2jH4tC"
      },
      "source": [
        "Como se puede observar, realiza una predicción correcta.\n",
        "\n",
        "*Conclusiones caso 2 (con 5 épocas)*:\n",
        "\n",
        "Debido a los resultados, podemos afirmar que seguimos una pérdida bastante alta. Sin embargo, si comparamos los resultado con el modelo que tenía el optimizador `'sgd'`; es cierto que es preferible el `'rmsprop'` ya que la pérdida es menor y la precisión mayor sin ningún otro cambio en los hiperparámetros.\n"
      ]
    },
    {
      "cell_type": "markdown",
      "metadata": {
        "id": "x2havMSY4yFC"
      },
      "source": [
        "***Caso 2 (25 épocas)***"
      ]
    },
    {
      "cell_type": "code",
      "execution_count": 25,
      "metadata": {
        "id": "6xhaLAe-IOSD"
      },
      "outputs": [],
      "source": [
        "from keras.datasets import fashion_mnist\n",
        "\n",
        "(train_images, train_labels), (test_images, test_labels) = fashion_mnist.load_data()\n",
        "\n",
        "train_images = train_images.reshape((60000, 28 * 28))\n",
        "train_images = train_images.astype('float32') / 255\n",
        "\n",
        "test_images = test_images.reshape((10000, 28 * 28))\n",
        "test_images = test_images.astype('float32') / 255\n",
        "\n",
        "from keras.utils.np_utils import to_categorical\n",
        "\n",
        "train_labels = to_categorical(train_labels)\n",
        "test_labels = to_categorical(test_labels)"
      ]
    },
    {
      "cell_type": "code",
      "execution_count": 26,
      "metadata": {
        "colab": {
          "base_uri": "https://localhost:8080/"
        },
        "id": "OL2Nsaql6jxp",
        "outputId": "50a71855-4553-4052-91d1-ab18cc7bd23d"
      },
      "outputs": [
        {
          "output_type": "stream",
          "name": "stdout",
          "text": [
            "Model: \"sequential_2\"\n",
            "_________________________________________________________________\n",
            " Layer (type)                Output Shape              Param #   \n",
            "=================================================================\n",
            " dense_6 (Dense)             (None, 10)                7850      \n",
            "                                                                 \n",
            " dense_7 (Dense)             (None, 10)                110       \n",
            "                                                                 \n",
            " dense_8 (Dense)             (None, 10)                110       \n",
            "                                                                 \n",
            "=================================================================\n",
            "Total params: 8,070\n",
            "Trainable params: 8,070\n",
            "Non-trainable params: 0\n",
            "_________________________________________________________________\n",
            "Epoch 1/25\n",
            "469/469 [==============================] - 2s 3ms/step - loss: 0.9735 - accuracy: 0.6753\n",
            "Epoch 2/25\n",
            "469/469 [==============================] - 1s 3ms/step - loss: 0.5560 - accuracy: 0.8107\n",
            "Epoch 3/25\n",
            "469/469 [==============================] - 2s 3ms/step - loss: 0.5030 - accuracy: 0.8256\n",
            "Epoch 4/25\n",
            "469/469 [==============================] - 1s 3ms/step - loss: 0.4757 - accuracy: 0.8349\n",
            "Epoch 5/25\n",
            "469/469 [==============================] - 2s 3ms/step - loss: 0.4604 - accuracy: 0.8389\n",
            "Epoch 6/25\n",
            "469/469 [==============================] - 1s 3ms/step - loss: 0.4483 - accuracy: 0.8440\n",
            "Epoch 7/25\n",
            "469/469 [==============================] - 1s 3ms/step - loss: 0.4363 - accuracy: 0.8482\n",
            "Epoch 8/25\n",
            "469/469 [==============================] - 2s 3ms/step - loss: 0.4286 - accuracy: 0.8494\n",
            "Epoch 9/25\n",
            "469/469 [==============================] - 1s 3ms/step - loss: 0.4199 - accuracy: 0.8527\n",
            "Epoch 10/25\n",
            "469/469 [==============================] - 1s 3ms/step - loss: 0.4140 - accuracy: 0.8544\n",
            "Epoch 11/25\n",
            "469/469 [==============================] - 1s 3ms/step - loss: 0.4066 - accuracy: 0.8569\n",
            "Epoch 12/25\n",
            "469/469 [==============================] - 1s 3ms/step - loss: 0.4014 - accuracy: 0.8576\n",
            "Epoch 13/25\n",
            "469/469 [==============================] - 2s 3ms/step - loss: 0.3937 - accuracy: 0.8612\n",
            "Epoch 14/25\n",
            "469/469 [==============================] - 2s 3ms/step - loss: 0.3893 - accuracy: 0.8612\n",
            "Epoch 15/25\n",
            "469/469 [==============================] - 1s 3ms/step - loss: 0.3832 - accuracy: 0.8637\n",
            "Epoch 16/25\n",
            "469/469 [==============================] - 1s 3ms/step - loss: 0.3794 - accuracy: 0.8656\n",
            "Epoch 17/25\n",
            "469/469 [==============================] - 1s 3ms/step - loss: 0.3756 - accuracy: 0.8662\n",
            "Epoch 18/25\n",
            "469/469 [==============================] - 1s 3ms/step - loss: 0.3725 - accuracy: 0.8674\n",
            "Epoch 19/25\n",
            "469/469 [==============================] - 1s 3ms/step - loss: 0.3686 - accuracy: 0.8677\n",
            "Epoch 20/25\n",
            "469/469 [==============================] - 1s 3ms/step - loss: 0.3668 - accuracy: 0.8692\n",
            "Epoch 21/25\n",
            "469/469 [==============================] - 1s 3ms/step - loss: 0.3651 - accuracy: 0.8699\n",
            "Epoch 22/25\n",
            "469/469 [==============================] - 1s 3ms/step - loss: 0.3611 - accuracy: 0.8712\n",
            "Epoch 23/25\n",
            "469/469 [==============================] - 1s 3ms/step - loss: 0.3590 - accuracy: 0.8720\n",
            "Epoch 24/25\n",
            "469/469 [==============================] - 1s 3ms/step - loss: 0.3585 - accuracy: 0.8725\n",
            "Epoch 25/25\n",
            "469/469 [==============================] - 1s 3ms/step - loss: 0.3550 - accuracy: 0.8734\n",
            "313/313 [==============================] - 1s 2ms/step - loss: 0.4209 - accuracy: 0.8517\n",
            "test_loss: 0.4208858013153076\n",
            "test_acc: 0.8517000079154968\n"
          ]
        }
      ],
      "source": [
        "#CASO 2 CON 25 ÉPOCAS\n",
        "\n",
        "# CONSTRUIMOS LA ARQUITECTURA DE LA RED\n",
        "# El tipo de red será secuencial.\n",
        "model1_1 = models.Sequential()\n",
        "# En el primer caso , la capa 1 tiene 10 neuronas , la función de activación es relu y el optimizador rmsprop.\n",
        "model1_1.add(layers.Dense(10, activation='relu', input_shape=(28*28,)))\n",
        "model1_1.add(layers.Dense(10, activation='relu'))\n",
        "#En la capa de salida, la función de activación debe ser softmax ya que queremos que nos devuelva una distribución de probabilidad sobre las 10 clases.\n",
        "model1_1.add(layers.Dense(10, activation='softmax'))\n",
        "model1_1.summary()\n",
        "model1_1.compile(optimizer='rmsprop',\n",
        "              loss='categorical_crossentropy',\n",
        "              metrics=['accuracy'])\n",
        "#Entrenamos el modelo\n",
        "model1_1.fit(train_images, train_labels, epochs=25, batch_size=128)\n",
        "#VERIFICAMOS NUESTRO MODELO YA ENTRENADO, CONTRA EL CONJUNTO DE PRUEBAS\n",
        "test_loss, test_acc = model1_1.evaluate(test_images, test_labels)\n",
        "print('test_loss:', test_loss)\n",
        "print('test_acc:', test_acc)"
      ]
    },
    {
      "cell_type": "markdown",
      "metadata": {
        "id": "Ve8W_MmoIgkL"
      },
      "source": [
        "Para los datos de entrenamiento,obtenemos una pérdida de alrededor de un 36% y una precisión de un 87% aproximadamente.\n",
        "\n",
        "Al compararlos con los datos de prueba, presenta una pérdida de alrededor de un 42% (más alta que respecto a los datos de entrenamiento) y una precisión de alrededor de un 85% (más baja que respecto a los datos de entrenamiento)."
      ]
    },
    {
      "cell_type": "code",
      "execution_count": 27,
      "metadata": {
        "colab": {
          "base_uri": "https://localhost:8080/",
          "height": 1000
        },
        "id": "mvFFE4N48Fj1",
        "outputId": "b6b2dac5-984d-4be8-9e27-a79a5f316dac"
      },
      "outputs": [
        {
          "output_type": "stream",
          "name": "stdout",
          "text": [
            "313/313 [==============================] - 1s 2ms/step\n"
          ]
        },
        {
          "output_type": "display_data",
          "data": {
            "text/plain": [
              "<Figure size 432x216 with 2 Axes>"
            ],
            "image/png": "[encoded data removed]"
          },
          "metadata": {
            "needs_background": "light"
          }
        },
        {
          "output_type": "display_data",
          "data": {
            "text/plain": [
              "<Figure size 432x288 with 0 Axes>"
            ]
          },
          "metadata": {}
        },
        {
          "output_type": "display_data",
          "data": {
            "text/plain": [
              "<Figure size 432x216 with 2 Axes>"
            ],
            "image/png": "[encoded data removed]"
          },
          "metadata": {
            "needs_background": "light"
          }
        },
        {
          "output_type": "display_data",
          "data": {
            "text/plain": [
              "<Figure size 432x288 with 0 Axes>"
            ]
          },
          "metadata": {}
        },
        {
          "output_type": "display_data",
          "data": {
            "text/plain": [
              "<Figure size 432x216 with 2 Axes>"
            ],
            "image/png": "[encoded data removed]"
          },
          "metadata": {
            "needs_background": "light"
          }
        },
        {
          "output_type": "display_data",
          "data": {
            "text/plain": [
              "<Figure size 432x288 with 0 Axes>"
            ]
          },
          "metadata": {}
        },
        {
          "output_type": "display_data",
          "data": {
            "text/plain": [
              "<Figure size 432x216 with 2 Axes>"
            ],
            "image/png": "[encoded data removed]"
          },
          "metadata": {
            "needs_background": "light"
          }
        },
        {
          "output_type": "display_data",
          "data": {
            "text/plain": [
              "<Figure size 432x288 with 0 Axes>"
            ]
          },
          "metadata": {}
        },
        {
          "output_type": "display_data",
          "data": {
            "text/plain": [
              "<Figure size 432x216 with 2 Axes>"
            ],
            "image/png": "[encoded data removed]"
          },
          "metadata": {
            "needs_background": "light"
          }
        },
        {
          "output_type": "display_data",
          "data": {
            "text/plain": [
              "<Figure size 432x288 with 0 Axes>"
            ]
          },
          "metadata": {}
        },
        {
          "output_type": "display_data",
          "data": {
            "text/plain": [
              "<Figure size 432x216 with 2 Axes>"
            ],
            "image/png": "[encoded data removed]"
          },
          "metadata": {
            "needs_background": "light"
          }
        },
        {
          "output_type": "display_data",
          "data": {
            "text/plain": [
              "<Figure size 432x288 with 0 Axes>"
            ]
          },
          "metadata": {}
        },
        {
          "output_type": "display_data",
          "data": {
            "text/plain": [
              "<Figure size 432x216 with 2 Axes>"
            ],
            "image/png": "[encoded data removed]"
          },
          "metadata": {
            "needs_background": "light"
          }
        },
        {
          "output_type": "display_data",
          "data": {
            "text/plain": [
              "<Figure size 432x288 with 0 Axes>"
            ]
          },
          "metadata": {}
        },
        {
          "output_type": "display_data",
          "data": {
            "text/plain": [
              "<Figure size 432x216 with 2 Axes>"
            ],
            "image/png": "[encoded data removed]"
          },
          "metadata": {
            "needs_background": "light"
          }
        },
        {
          "output_type": "display_data",
          "data": {
            "text/plain": [
              "<Figure size 432x288 with 0 Axes>"
            ]
          },
          "metadata": {}
        },
        {
          "output_type": "display_data",
          "data": {
            "text/plain": [
              "<Figure size 432x216 with 2 Axes>"
            ],
            "image/png": "[encoded data removed]"
          },
          "metadata": {
            "needs_background": "light"
          }
        },
        {
          "output_type": "display_data",
          "data": {
            "text/plain": [
              "<Figure size 432x288 with 0 Axes>"
            ]
          },
          "metadata": {}
        },
        {
          "output_type": "display_data",
          "data": {
            "text/plain": [
              "<Figure size 432x216 with 2 Axes>"
            ],
            "image/png": "[encoded data removed]"
          },
          "metadata": {
            "needs_background": "light"
          }
        },
        {
          "output_type": "display_data",
          "data": {
            "text/plain": [
              "<Figure size 432x288 with 0 Axes>"
            ]
          },
          "metadata": {}
        }
      ],
      "source": [
        "#Graficamos para ver como se comporta el modelo.\n",
        "from keras.datasets import fashion_mnist\n",
        "import numpy as np\n",
        "import matplotlib.pyplot as plt\n",
        "\n",
        "(train_images, train_labels), (test_images, test_labels) = fashion_mnist.load_data()\n",
        "train_images = train_images.reshape((60000, 28 * 28))\n",
        "test_images = test_images.reshape((10000, 28 * 28))\n",
        "\n",
        "train_images = train_images.astype('float32') / 255\n",
        "test_images = test_images.astype('float32') / 255\n",
        "\n",
        "predictions = model1_1.predict(test_images)\n",
        "\n",
        "for i in range(10):\n",
        "  plt.figure(figsize=(6,3))\n",
        "  plt.subplot(1,2,1)\n",
        "  plot_image(i, predictions[i], test_labels, test_images.reshape(10000,28,28))\n",
        "  plt.subplot(1,2,2)\n",
        "  plot_value_array(i, predictions[i],  test_labels)\n",
        "  plt.show()\n",
        "  plt.clf()"
      ]
    },
    {
      "cell_type": "markdown",
      "metadata": {
        "id": "DSfbt1RRIm6S"
      },
      "source": [
        "Para comenzar, cabe destacar que clasifica correctamente todas las imágenes que se grafican en este conjunto. Además, los porcentajes que indican que pertenece a esa categoría son bastante altos."
      ]
    },
    {
      "cell_type": "code",
      "execution_count": 28,
      "metadata": {
        "colab": {
          "base_uri": "https://localhost:8080/"
        },
        "id": "qxBP0cpq8rB9",
        "outputId": "f69c358b-b70f-4b8d-8237-090a6c93dc7a"
      },
      "outputs": [
        {
          "output_type": "stream",
          "name": "stdout",
          "text": [
            "=VEMOS LA PREDICCIÓN DEL ELEMENTO 6 (QUE DEBERÍA SER UN 1)============\n",
            "[0.03 0.96 0.01 0.   0.   0.   0.   0.   0.   0.  ]\n",
            "=======================================================================\n",
            "=VEMOS LA PREDICCIÓN DEL ELEMENTO 6 (QUE DEBERÍA SER UN 1)============\n",
            "1\n"
          ]
        }
      ],
      "source": [
        "import numpy as np\n",
        "print(\"=VEMOS LA PREDICCIÓN DEL ELEMENTO 6 (QUE DEBERÍA SER UN 1)============\")\n",
        "print(predictions[5])\n",
        "print(\"=======================================================================\")\n",
        "print(\"=VEMOS LA PREDICCIÓN DEL ELEMENTO 6 (QUE DEBERÍA SER UN 1)============\")\n",
        "print(np.argmax(predictions[5]))"
      ]
    },
    {
      "cell_type": "markdown",
      "metadata": {
        "id": "hl5EIS7oIwxq"
      },
      "source": [
        "La red genera una predección correcta sobre la sexta imagen con un 96%.\n",
        "\n",
        "*Conclusiones caso 2 (25 épocas):*\n",
        "\n",
        "Al haber aumentado el número de épocas, observamos que la precisión más o menos se mantiene pero la pérdida baja en un 10%."
      ]
    },
    {
      "cell_type": "markdown",
      "metadata": {
        "id": "OE13tJL79Cq2"
      },
      "source": [
        "***Caso 3***\n",
        "\n",
        "Nº neuronas primera capa:10\n",
        "\n",
        "Fución de activación: `'sigmoid'`\n",
        "\n",
        "Optimizador: `'sgd'`"
      ]
    },
    {
      "cell_type": "code",
      "execution_count": 29,
      "metadata": {
        "id": "w_fPuNHAJBLW"
      },
      "outputs": [],
      "source": [
        "from keras.datasets import fashion_mnist\n",
        "\n",
        "(train_images, train_labels), (test_images, test_labels) = fashion_mnist.load_data()\n",
        "\n",
        "train_images = train_images.reshape((60000, 28 * 28))\n",
        "train_images = train_images.astype('float32') / 255\n",
        "\n",
        "test_images = test_images.reshape((10000, 28 * 28))\n",
        "test_images = test_images.astype('float32') / 255\n",
        "\n",
        "from keras.utils.np_utils import to_categorical\n",
        "\n",
        "train_labels = to_categorical(train_labels)\n",
        "test_labels = to_categorical(test_labels)"
      ]
    },
    {
      "cell_type": "code",
      "execution_count": 30,
      "metadata": {
        "colab": {
          "base_uri": "https://localhost:8080/"
        },
        "id": "U8EdGu9p9IUf",
        "outputId": "6d72c3b6-4a6a-4a2b-8621-4ad93b02b1a3"
      },
      "outputs": [
        {
          "output_type": "stream",
          "name": "stdout",
          "text": [
            "Model: \"sequential_3\"\n",
            "_________________________________________________________________\n",
            " Layer (type)                Output Shape              Param #   \n",
            "=================================================================\n",
            " dense_9 (Dense)             (None, 10)                7850      \n",
            "                                                                 \n",
            " dense_10 (Dense)            (None, 10)                110       \n",
            "                                                                 \n",
            " dense_11 (Dense)            (None, 10)                110       \n",
            "                                                                 \n",
            "=================================================================\n",
            "Total params: 8,070\n",
            "Trainable params: 8,070\n",
            "Non-trainable params: 0\n",
            "_________________________________________________________________\n",
            "Epoch 1/5\n",
            "469/469 [==============================] - 5s 8ms/step - loss: 2.3463 - accuracy: 0.1156\n",
            "Epoch 2/5\n",
            "469/469 [==============================] - 3s 6ms/step - loss: 2.2806 - accuracy: 0.2044\n",
            "Epoch 3/5\n",
            "469/469 [==============================] - 2s 4ms/step - loss: 2.2580 - accuracy: 0.2643\n",
            "Epoch 4/5\n",
            "469/469 [==============================] - 2s 5ms/step - loss: 2.2318 - accuracy: 0.3442\n",
            "Epoch 5/5\n",
            "469/469 [==============================] - 3s 6ms/step - loss: 2.1979 - accuracy: 0.3973\n",
            "313/313 [==============================] - 1s 3ms/step - loss: 2.1778 - accuracy: 0.4006\n",
            "test_loss: 2.177827835083008\n",
            "test_acc: 0.40059998631477356\n"
          ]
        }
      ],
      "source": [
        "#CASO 3\n",
        "\n",
        "# El tipo de red será secuencial.\n",
        "model2 = models.Sequential()\n",
        "# En el primer caso , la capa 1 tiene 10 neuronas , la función de activación es sigmoid y el optimizador sgd.\n",
        "model2.add(layers.Dense(10, activation='sigmoid', input_shape=(28*28,)))\n",
        "model2.add(layers.Dense(10, activation='sigmoid'))\n",
        "#En la capa de salida, la función de activación debe ser softmax ya que queremos que nos devuelva una distribución de probabilidad sobre las 10 clases.\n",
        "model2.add(layers.Dense(10, activation='softmax'))\n",
        "# Al no cambiar el número de neuronas, el summary no cambia.\n",
        "model2.summary()\n",
        "model2.compile(optimizer='sgd',\n",
        "              loss='categorical_crossentropy',\n",
        "              metrics=['accuracy'])\n",
        "#Entrenamos el modelo\n",
        "model2.fit(train_images, train_labels, epochs=5, batch_size=128)\n",
        "#VERIFICAMOS NUESTRO MODELO YA ENTRENADO, CONTRA EL CONJUNTO DE PRUEBAS\n",
        "test_loss, test_acc = model2.evaluate(test_images, test_labels)\n",
        "print('test_loss:', test_loss)\n",
        "print('test_acc:', test_acc)\n"
      ]
    },
    {
      "cell_type": "markdown",
      "metadata": {
        "id": "w8ZQ58QmJlBP"
      },
      "source": [
        "Para los datos de entrenamiento obtenemos una pérdida muy alta y una precisión de aproximadamente un 40%.\n",
        "\n",
        "Pese a que en los datos de prueba la precisión aumenta ligeramente y la pérdida disminuye, siguen siendo valores muy poco deseables."
      ]
    },
    {
      "cell_type": "code",
      "execution_count": 31,
      "metadata": {
        "colab": {
          "base_uri": "https://localhost:8080/",
          "height": 1000
        },
        "id": "KtJmG3ym9fB-",
        "outputId": "cd038e57-cafc-43d2-a02b-0521c4bc0da5"
      },
      "outputs": [
        {
          "output_type": "stream",
          "name": "stdout",
          "text": [
            "313/313 [==============================] - 1s 2ms/step\n"
          ]
        },
        {
          "output_type": "display_data",
          "data": {
            "text/plain": [
              "<Figure size 432x216 with 2 Axes>"
            ],
            "image/png": "[encoded data removed]"
          },
          "metadata": {
            "needs_background": "light"
          }
        },
        {
          "output_type": "display_data",
          "data": {
            "text/plain": [
              "<Figure size 432x288 with 0 Axes>"
            ]
          },
          "metadata": {}
        },
        {
          "output_type": "display_data",
          "data": {
            "text/plain": [
              "<Figure size 432x216 with 2 Axes>"
            ],
            "image/png": "[encoded data removed]"
          },
          "metadata": {
            "needs_background": "light"
          }
        },
        {
          "output_type": "display_data",
          "data": {
            "text/plain": [
              "<Figure size 432x288 with 0 Axes>"
            ]
          },
          "metadata": {}
        },
        {
          "output_type": "display_data",
          "data": {
            "text/plain": [
              "<Figure size 432x216 with 2 Axes>"
            ],
            "image/png": "[encoded data removed]"
          },
          "metadata": {
            "needs_background": "light"
          }
        },
        {
          "output_type": "display_data",
          "data": {
            "text/plain": [
              "<Figure size 432x288 with 0 Axes>"
            ]
          },
          "metadata": {}
        },
        {
          "output_type": "display_data",
          "data": {
            "text/plain": [
              "<Figure size 432x216 with 2 Axes>"
            ],
            "image/png": "[encoded data removed]"
          },
          "metadata": {
            "needs_background": "light"
          }
        },
        {
          "output_type": "display_data",
          "data": {
            "text/plain": [
              "<Figure size 432x288 with 0 Axes>"
            ]
          },
          "metadata": {}
        },
        {
          "output_type": "display_data",
          "data": {
            "text/plain": [
              "<Figure size 432x216 with 2 Axes>"
            ],
            "image/png": "[encoded data removed]"
          },
          "metadata": {
            "needs_background": "light"
          }
        },
        {
          "output_type": "display_data",
          "data": {
            "text/plain": [
              "<Figure size 432x288 with 0 Axes>"
            ]
          },
          "metadata": {}
        },
        {
          "output_type": "display_data",
          "data": {
            "text/plain": [
              "<Figure size 432x216 with 2 Axes>"
            ],
            "image/png": "[encoded data removed]"
          },
          "metadata": {
            "needs_background": "light"
          }
        },
        {
          "output_type": "display_data",
          "data": {
            "text/plain": [
              "<Figure size 432x288 with 0 Axes>"
            ]
          },
          "metadata": {}
        },
        {
          "output_type": "display_data",
          "data": {
            "text/plain": [
              "<Figure size 432x216 with 2 Axes>"
            ],
            "image/png": "[encoded data removed]"
          },
          "metadata": {
            "needs_background": "light"
          }
        },
        {
          "output_type": "display_data",
          "data": {
            "text/plain": [
              "<Figure size 432x288 with 0 Axes>"
            ]
          },
          "metadata": {}
        },
        {
          "output_type": "display_data",
          "data": {
            "text/plain": [
              "<Figure size 432x216 with 2 Axes>"
            ],
            "image/png": "[encoded data removed]"
          },
          "metadata": {
            "needs_background": "light"
          }
        },
        {
          "output_type": "display_data",
          "data": {
            "text/plain": [
              "<Figure size 432x288 with 0 Axes>"
            ]
          },
          "metadata": {}
        },
        {
          "output_type": "display_data",
          "data": {
            "text/plain": [
              "<Figure size 432x216 with 2 Axes>"
            ],
            "image/png": "[encoded data removed]"
          },
          "metadata": {
            "needs_background": "light"
          }
        },
        {
          "output_type": "display_data",
          "data": {
            "text/plain": [
              "<Figure size 432x288 with 0 Axes>"
            ]
          },
          "metadata": {}
        },
        {
          "output_type": "display_data",
          "data": {
            "text/plain": [
              "<Figure size 432x216 with 2 Axes>"
            ],
            "image/png": "[encoded data removed]"
          },
          "metadata": {
            "needs_background": "light"
          }
        },
        {
          "output_type": "display_data",
          "data": {
            "text/plain": [
              "<Figure size 432x288 with 0 Axes>"
            ]
          },
          "metadata": {}
        }
      ],
      "source": [
        "#Veamos como se comporta la red.\n",
        "from keras.datasets import fashion_mnist\n",
        "import numpy as np\n",
        "import matplotlib.pyplot as plt\n",
        "\n",
        "(train_images, train_labels), (test_images, test_labels) = fashion_mnist.load_data()\n",
        "train_images = train_images.reshape((60000, 28 * 28))\n",
        "test_images = test_images.reshape((10000, 28 * 28))\n",
        "\n",
        "train_images = train_images.astype('float32') / 255\n",
        "test_images = test_images.astype('float32') / 255\n",
        "\n",
        "predictions = model2.predict(test_images)\n",
        "\n",
        "for i in range(10):\n",
        "  plt.figure(figsize=(6,3))\n",
        "  plt.subplot(1,2,1)\n",
        "  plot_image(i, predictions[i], test_labels, test_images.reshape(10000,28,28))\n",
        "  plt.subplot(1,2,2)\n",
        "  plot_value_array(i, predictions[i],  test_labels)\n",
        "  plt.show()\n",
        "  plt.clf()\n",
        "  "
      ]
    },
    {
      "cell_type": "markdown",
      "metadata": {
        "id": "LjoKK8hDJ2qP"
      },
      "source": [
        "Pese a que se puede observar que clasifica correctamente algunas imágenes,debemos fijarnos en que los porcentajes de precisión son muy bajos (rondando el 10%) y que la diferencia con respecto a las otras clases es mínima.\n",
        "\n",
        "Generaremos una predicción sobre la sexta imagen."
      ]
    },
    {
      "cell_type": "code",
      "execution_count": 32,
      "metadata": {
        "id": "En0JkOyE9sNE",
        "colab": {
          "base_uri": "https://localhost:8080/"
        },
        "outputId": "76acb8c3-80e2-44e8-a170-3abb695e889e"
      },
      "outputs": [
        {
          "output_type": "stream",
          "name": "stdout",
          "text": [
            "=VEMOS LA PREDICCIÓN DEL ELEMENTO 6 (QUE DEBERÍA SER UN 1)============\n",
            "[0.09 0.13 0.1  0.12 0.09 0.1  0.08 0.12 0.08 0.09]\n",
            "=======================================================================\n",
            "=VEMOS LA PREDICCIÓN DEL ELEMENTO 6 (QUE DEBERÍA SER UN 1)============\n",
            "1\n"
          ]
        }
      ],
      "source": [
        "import numpy as np\n",
        "print(\"=VEMOS LA PREDICCIÓN DEL ELEMENTO 6 (QUE DEBERÍA SER UN 1)============\")\n",
        "print(predictions[5])\n",
        "print(\"=======================================================================\")\n",
        "print(\"=VEMOS LA PREDICCIÓN DEL ELEMENTO 6 (QUE DEBERÍA SER UN 1)============\")\n",
        "print(np.argmax(predictions[5]))\n"
      ]
    },
    {
      "cell_type": "markdown",
      "metadata": {
        "id": "vN4cUTXTKBMt"
      },
      "source": [
        "Aunque predice correctamente , la diferencia entre la categoría 1,3 y 7 es de 0.01.\n",
        "\n",
        "*Conclusiones caso 3:*\n",
        "\n",
        "Debido a todo lo mencionado anteriormente, podemos afirmar que este modelo no es efectivo ya que no nos sirve que tenga una precisión tan baja aunque haya imágenes que clasifique correctamente.\n",
        "Los resultados obtenidos son consecuencia de la función `sigmoid`, ya que no es la función más apropiada para este tipo de datos.\n",
        "\n",
        "\n",
        "Antes de pasar al caso 4,cambiaremos en el caso 3 el\n",
        "optimizador por `‘adam’ `y la función de pérdida `‘sparse_categorical_crossentropy’`.\n",
        "\n",
        "El optimizador Adam es un método de descenso de gradiente estocástico que se basa en la estimación adaptativa de momentos de primer y segundo orden.Como argumentos puede presentar:`learning_rate` (tasa de aprendizaje),`beta_1` ( tasa de caída exponencial para las estimaciones del primer momento),`beta_2` (tasa de caída exponencial para las estimaciones del segundo momento),`epsilon`(constante para la estabilidad numérica),`amsgrad`( booleano) ,`name` (nombre opcional para las operaciones).\n",
        "\n",
        "La función de pérdida `‘sparse_categorical_crossentropy’` calcula la pérdida entre las etiquetas y las predicciones.Es útil cuando haya dos o más clases de etiquetas."
      ]
    },
    {
      "cell_type": "code",
      "source": [
        "from keras.datasets import fashion_mnist\n",
        "\n",
        "(train_images, train_labels), (test_images, test_labels) = fashion_mnist.load_data()\n",
        "\n",
        "train_images = train_images.reshape((60000, 28 * 28))\n",
        "train_images = train_images.astype('float32') / 255\n",
        "\n",
        "test_images = test_images.reshape((10000, 28 * 28))\n",
        "test_images = test_images.astype('float32') / 255\n",
        "\n",
        "from keras.utils.np_utils import to_categorical\n",
        "\n",
        "train_labels = to_categorical(train_labels)\n",
        "test_labels = to_categorical(test_labels)"
      ],
      "metadata": {
        "id": "8oFH2-MPmgOE"
      },
      "execution_count": 63,
      "outputs": []
    },
    {
      "cell_type": "code",
      "source": [
        "#CASO 3\n",
        "\n",
        "# El tipo de red será secuencial.\n",
        "#model2_1 = models.Sequential()\n",
        "# En el primer caso , la capa 1 tiene 10 neuronas , la función de activación es sigmoid y el optimizador adam.\n",
        "#model2_1.add(layers.Dense(10, activation='sigmoid', input_shape=(28*28,)))\n",
        "#model2_1.add(layers.Dense(10, activation='sigmoid'))\n",
        "#En la capa de salida, la función de activación debe ser softmax ya que queremos que nos devuelva una distribución de probabilidad sobre las 10 clases.\n",
        "#model2_1.add(layers.Dense(10, activation='softmax'))\n",
        "# Al no cambiar el número de neuronas, el summary no cambia.\n",
        "#model2_1.summary()\n",
        "#model2_1.compile(optimizer='adam',\n",
        " #             loss='sparse_categorical_crossentropy',\n",
        "  #            metrics=['accuracy'])\n",
        "#Entrenamos el modelo\n",
        "#model2_1.fit(train_images, train_labels, epochs=5, batch_size=128)\n",
        "#VERIFICAMOS NUESTRO MODELO YA ENTRENADO, CONTRA EL CONJUNTO DE PRUEBAS\n",
        "#test_loss, test_acc = model2_1.evaluate(test_images, test_labels)\n",
        "#print('test_loss:', test_loss)\n",
        "#print('test_acc:', test_acc)"
      ],
      "metadata": {
        "id": "ie7N0WUOmneZ"
      },
      "execution_count": 67,
      "outputs": []
    },
    {
      "cell_type": "markdown",
      "metadata": {
        "id": "eCfIUWlI4iGi"
      },
      "source": [
        "***Caso 4***\n",
        "\n",
        "Nº neuronas primera capa:10\n",
        "\n",
        "Fución de activación: `'sigmoid'`\n",
        "\n",
        "Optimizador: `'rmsprop'`"
      ]
    },
    {
      "cell_type": "code",
      "execution_count": 33,
      "metadata": {
        "id": "7GSDUwygKKQY"
      },
      "outputs": [],
      "source": [
        "from keras.datasets import fashion_mnist\n",
        "\n",
        "(train_images, train_labels), (test_images, test_labels) = fashion_mnist.load_data()\n",
        "\n",
        "train_images = train_images.reshape((60000, 28 * 28))\n",
        "train_images = train_images.astype('float32') / 255\n",
        "\n",
        "test_images = test_images.reshape((10000, 28 * 28))\n",
        "test_images = test_images.astype('float32') / 255\n",
        "\n",
        "from keras.utils.np_utils import to_categorical\n",
        "\n",
        "train_labels = to_categorical(train_labels)\n",
        "test_labels = to_categorical(test_labels)"
      ]
    },
    {
      "cell_type": "code",
      "execution_count": 34,
      "metadata": {
        "colab": {
          "base_uri": "https://localhost:8080/"
        },
        "id": "fVtOB3A8-Cr4",
        "outputId": "7b9e7aa5-a6a5-4518-8e47-fdac058bcd4a"
      },
      "outputs": [
        {
          "output_type": "stream",
          "name": "stdout",
          "text": [
            "Model: \"sequential_4\"\n",
            "_________________________________________________________________\n",
            " Layer (type)                Output Shape              Param #   \n",
            "=================================================================\n",
            " dense_12 (Dense)            (None, 10)                7850      \n",
            "                                                                 \n",
            " dense_13 (Dense)            (None, 10)                110       \n",
            "                                                                 \n",
            " dense_14 (Dense)            (None, 10)                110       \n",
            "                                                                 \n",
            "=================================================================\n",
            "Total params: 8,070\n",
            "Trainable params: 8,070\n",
            "Non-trainable params: 0\n",
            "_________________________________________________________________\n",
            "Epoch 1/5\n",
            "469/469 [==============================] - 3s 5ms/step - loss: 1.8751 - accuracy: 0.3830\n",
            "Epoch 2/5\n",
            "469/469 [==============================] - 2s 3ms/step - loss: 1.3345 - accuracy: 0.5658\n",
            "Epoch 3/5\n",
            "469/469 [==============================] - 2s 3ms/step - loss: 1.0485 - accuracy: 0.6240\n",
            "Epoch 4/5\n",
            "469/469 [==============================] - 1s 3ms/step - loss: 0.8860 - accuracy: 0.6914\n",
            "Epoch 5/5\n",
            "469/469 [==============================] - 2s 3ms/step - loss: 0.7305 - accuracy: 0.7596\n",
            "313/313 [==============================] - 1s 2ms/step - loss: 0.6880 - accuracy: 0.7605\n",
            "test_loss: 0.6879534125328064\n",
            "test_acc: 0.7605000138282776\n"
          ]
        }
      ],
      "source": [
        "#CASO 4\n",
        "\n",
        "# El tipo de red será secuencial.\n",
        "model3 = models.Sequential()\n",
        "# En el primer caso , la capa 1 tiene 10 neuronas , la función de activación es sigmoid y el optimizador rmsprop.\n",
        "model3.add(layers.Dense(10, activation='sigmoid', input_shape=(28*28,)))\n",
        "model3.add(layers.Dense(10, activation='sigmoid'))\n",
        "#En la capa de salida, la función de activación debe ser softmax ya que queremos que nos devuelva una distribución de probabilidad sobre las 10 clases.\n",
        "model3.add(layers.Dense(10, activation='softmax'))\n",
        "model3.summary()\n",
        "model3.compile(optimizer='rmsprop',\n",
        "              loss='categorical_crossentropy',\n",
        "              metrics=['accuracy'])\n",
        "#Entrenamos el modelo\n",
        "model3.fit(train_images, train_labels, epochs=5, batch_size=128)\n",
        "#VERIFICAMOS NUESTRO MODELO YA ENTRENADO, CONTRA EL CONJUNTO DE PRUEBAS\n",
        "test_loss, test_acc = model3.evaluate(test_images, test_labels)\n",
        "print('test_loss:', test_loss)\n",
        "print('test_acc:', test_acc)\n"
      ]
    },
    {
      "cell_type": "markdown",
      "metadata": {
        "id": "9mcvQqR9Kdau"
      },
      "source": [
        "Para los datos de entrenamiento, obtenemos una precisión de un 76% y una pérdida de un 73% aproximadamente.\n",
        "\n",
        "Si lo comparamos con los datos de prueba,obtenemos una pérdida de un 68%(más baja que con los de entrenamiento) y una precisión de un 76%(algo más alta que con los de entrenamiento)."
      ]
    },
    {
      "cell_type": "code",
      "execution_count": 35,
      "metadata": {
        "colab": {
          "base_uri": "https://localhost:8080/",
          "height": 1000
        },
        "id": "UGkBRnyDKgLe",
        "outputId": "cf5e28ff-5546-4064-b931-331a3cb4c1d9"
      },
      "outputs": [
        {
          "output_type": "stream",
          "name": "stdout",
          "text": [
            "313/313 [==============================] - 1s 2ms/step\n"
          ]
        },
        {
          "output_type": "display_data",
          "data": {
            "text/plain": [
              "<Figure size 432x216 with 2 Axes>"
            ],
            "image/png": "[encoded data removed]"
          },
          "metadata": {
            "needs_background": "light"
          }
        },
        {
          "output_type": "display_data",
          "data": {
            "text/plain": [
              "<Figure size 432x288 with 0 Axes>"
            ]
          },
          "metadata": {}
        },
        {
          "output_type": "display_data",
          "data": {
            "text/plain": [
              "<Figure size 432x216 with 2 Axes>"
            ],
            "image/png": "[encoded data removed]"
          },
          "metadata": {
            "needs_background": "light"
          }
        },
        {
          "output_type": "display_data",
          "data": {
            "text/plain": [
              "<Figure size 432x288 with 0 Axes>"
            ]
          },
          "metadata": {}
        },
        {
          "output_type": "display_data",
          "data": {
            "text/plain": [
              "<Figure size 432x216 with 2 Axes>"
            ],
            "image/png": "[encoded data removed]"
          },
          "metadata": {
            "needs_background": "light"
          }
        },
        {
          "output_type": "display_data",
          "data": {
            "text/plain": [
              "<Figure size 432x288 with 0 Axes>"
            ]
          },
          "metadata": {}
        },
        {
          "output_type": "display_data",
          "data": {
            "text/plain": [
              "<Figure size 432x216 with 2 Axes>"
            ],
            "image/png": "[encoded data removed]"
          },
          "metadata": {
            "needs_background": "light"
          }
        },
        {
          "output_type": "display_data",
          "data": {
            "text/plain": [
              "<Figure size 432x288 with 0 Axes>"
            ]
          },
          "metadata": {}
        },
        {
          "output_type": "display_data",
          "data": {
            "text/plain": [
              "<Figure size 432x216 with 2 Axes>"
            ],
            "image/png": "[encoded data removed]"
          },
          "metadata": {
            "needs_background": "light"
          }
        },
        {
          "output_type": "display_data",
          "data": {
            "text/plain": [
              "<Figure size 432x288 with 0 Axes>"
            ]
          },
          "metadata": {}
        },
        {
          "output_type": "display_data",
          "data": {
            "text/plain": [
              "<Figure size 432x216 with 2 Axes>"
            ],
            "image/png": "[encoded data removed]"
          },
          "metadata": {
            "needs_background": "light"
          }
        },
        {
          "output_type": "display_data",
          "data": {
            "text/plain": [
              "<Figure size 432x288 with 0 Axes>"
            ]
          },
          "metadata": {}
        },
        {
          "output_type": "display_data",
          "data": {
            "text/plain": [
              "<Figure size 432x216 with 2 Axes>"
            ],
            "image/png": "[encoded data removed]"
          },
          "metadata": {
            "needs_background": "light"
          }
        },
        {
          "output_type": "display_data",
          "data": {
            "text/plain": [
              "<Figure size 432x288 with 0 Axes>"
            ]
          },
          "metadata": {}
        },
        {
          "output_type": "display_data",
          "data": {
            "text/plain": [
              "<Figure size 432x216 with 2 Axes>"
            ],
            "image/png": "[encoded data removed]"
          },
          "metadata": {
            "needs_background": "light"
          }
        },
        {
          "output_type": "display_data",
          "data": {
            "text/plain": [
              "<Figure size 432x288 with 0 Axes>"
            ]
          },
          "metadata": {}
        },
        {
          "output_type": "display_data",
          "data": {
            "text/plain": [
              "<Figure size 432x216 with 2 Axes>"
            ],
            "image/png": "[encoded data removed]"
          },
          "metadata": {
            "needs_background": "light"
          }
        },
        {
          "output_type": "display_data",
          "data": {
            "text/plain": [
              "<Figure size 432x288 with 0 Axes>"
            ]
          },
          "metadata": {}
        },
        {
          "output_type": "display_data",
          "data": {
            "text/plain": [
              "<Figure size 432x216 with 2 Axes>"
            ],
            "image/png": "[encoded data removed]"
          },
          "metadata": {
            "needs_background": "light"
          }
        },
        {
          "output_type": "display_data",
          "data": {
            "text/plain": [
              "<Figure size 432x288 with 0 Axes>"
            ]
          },
          "metadata": {}
        }
      ],
      "source": [
        "#Graficamos para ver como se comporta el modelo.\n",
        "from keras.datasets import fashion_mnist\n",
        "import numpy as np\n",
        "import matplotlib.pyplot as plt\n",
        "\n",
        "(train_images, train_labels), (test_images, test_labels) = fashion_mnist.load_data()\n",
        "train_images = train_images.reshape((60000, 28 * 28))\n",
        "test_images = test_images.reshape((10000, 28 * 28))\n",
        "\n",
        "train_images = train_images.astype('float32') / 255\n",
        "test_images = test_images.astype('float32') / 255\n",
        "\n",
        "predictions = model3.predict(test_images)\n",
        "\n",
        "for i in range(10):\n",
        "  plt.figure(figsize=(6,3))\n",
        "  plt.subplot(1,2,1)\n",
        "  plot_image(i, predictions[i], test_labels, test_images.reshape(10000,28,28))\n",
        "  plt.subplot(1,2,2)\n",
        "  plot_value_array(i, predictions[i],  test_labels)\n",
        "  plt.show()\n",
        "  plt.clf()\n",
        "  "
      ]
    },
    {
      "cell_type": "markdown",
      "metadata": {
        "id": "vxh00m9ZKqUX"
      },
      "source": [
        "Para las 10 primeras imágenes, clasifica correctamente todas ellas menos 2.\n",
        "\n",
        "Generaremos una predicción sobre la sexta imagen."
      ]
    },
    {
      "cell_type": "code",
      "execution_count": 36,
      "metadata": {
        "id": "xcMhm29GK0M_",
        "colab": {
          "base_uri": "https://localhost:8080/"
        },
        "outputId": "d61848c7-2a6e-4c7f-d099-64edbf7186b6"
      },
      "outputs": [
        {
          "output_type": "stream",
          "name": "stdout",
          "text": [
            "=VEMOS LA PREDICCIÓN DEL ELEMENTO 6 (QUE DEBERÍA SER UN 1)============\n",
            "[0.   0.89 0.01 0.01 0.01 0.05 0.01 0.   0.   0.  ]\n",
            "=======================================================================\n",
            "=VEMOS LA PREDICCIÓN DEL ELEMENTO 6 (QUE DEBERÍA SER UN 1)============\n",
            "1\n"
          ]
        }
      ],
      "source": [
        "import numpy as np\n",
        "print(\"=VEMOS LA PREDICCIÓN DEL ELEMENTO 6 (QUE DEBERÍA SER UN 1)============\")\n",
        "print(predictions[5])\n",
        "print(\"=======================================================================\")\n",
        "print(\"=VEMOS LA PREDICCIÓN DEL ELEMENTO 6 (QUE DEBERÍA SER UN 1)============\")\n",
        "print(np.argmax(predictions[5]))"
      ]
    },
    {
      "cell_type": "markdown",
      "source": [
        "Predice correctamente la sexta imagen con un 89%.\n",
        "\n",
        "*Conclusiones caso 4:*\n",
        "Como hemos visto, obtenemos una pérdida muy alta y muy cercana al valor de precisión.\n",
        "\n",
        "Además, puesto que los dos últimos casos no han resultado efectivos;podemos afirmar que no es conveniente crear una red con 10 neuronas y función de activación `sigmoid`."
      ],
      "metadata": {
        "id": "dSJh4Atac5EX"
      }
    },
    {
      "cell_type": "markdown",
      "metadata": {
        "id": "40vwLcEzK4c6"
      },
      "source": [
        "***Caso 5***\n",
        "\n",
        "Nº neuronas primera capa:512\n",
        "\n",
        "Fución de activación: `'relu'`\n",
        "\n",
        "Optimizador: `'sgd'`"
      ]
    },
    {
      "cell_type": "code",
      "execution_count": 37,
      "metadata": {
        "id": "T7sbS9KYLADu"
      },
      "outputs": [],
      "source": [
        "from keras.datasets import fashion_mnist\n",
        "\n",
        "(train_images, train_labels), (test_images, test_labels) = fashion_mnist.load_data()\n",
        "\n",
        "train_images = train_images.reshape((60000, 28 * 28))\n",
        "train_images = train_images.astype('float32') / 255\n",
        "\n",
        "test_images = test_images.reshape((10000, 28 * 28))\n",
        "test_images = test_images.astype('float32') / 255\n",
        "\n",
        "from keras.utils.np_utils import to_categorical\n",
        "\n",
        "train_labels = to_categorical(train_labels)\n",
        "test_labels = to_categorical(test_labels)"
      ]
    },
    {
      "cell_type": "code",
      "execution_count": 38,
      "metadata": {
        "id": "kShT7igmLCRs",
        "colab": {
          "base_uri": "https://localhost:8080/"
        },
        "outputId": "11509916-e39b-4e9d-ebfa-20bb25e0be43"
      },
      "outputs": [
        {
          "output_type": "stream",
          "name": "stdout",
          "text": [
            "Model: \"sequential_5\"\n",
            "_________________________________________________________________\n",
            " Layer (type)                Output Shape              Param #   \n",
            "=================================================================\n",
            " dense_15 (Dense)            (None, 512)               401920    \n",
            "                                                                 \n",
            " dense_16 (Dense)            (None, 10)                5130      \n",
            "                                                                 \n",
            " dense_17 (Dense)            (None, 10)                110       \n",
            "                                                                 \n",
            "=================================================================\n",
            "Total params: 407,160\n",
            "Trainable params: 407,160\n",
            "Non-trainable params: 0\n",
            "_________________________________________________________________\n",
            "Epoch 1/5\n",
            "469/469 [==============================] - 6s 13ms/step - loss: 1.4337 - accuracy: 0.5158\n",
            "Epoch 2/5\n",
            "469/469 [==============================] - 5s 12ms/step - loss: 0.7881 - accuracy: 0.7282\n",
            "Epoch 3/5\n",
            "469/469 [==============================] - 5s 11ms/step - loss: 0.6414 - accuracy: 0.7811\n",
            "Epoch 4/5\n",
            "469/469 [==============================] - 4s 9ms/step - loss: 0.5731 - accuracy: 0.8063\n",
            "Epoch 5/5\n",
            "469/469 [==============================] - 6s 13ms/step - loss: 0.5312 - accuracy: 0.8196\n",
            "313/313 [==============================] - 1s 4ms/step - loss: 0.5419 - accuracy: 0.8140\n",
            "test_loss: 0.5418512225151062\n",
            "test_acc: 0.8140000104904175\n"
          ]
        }
      ],
      "source": [
        "# CASO 5\n",
        "\n",
        "# El tipo de red será secuencial.\n",
        "model4= models.Sequential()\n",
        "# En el primer caso , la capa 1 tiene 512 neuronas , la función de activación es relu y el optimizador sgd.\n",
        "model4.add(layers.Dense(512, activation='relu', input_shape=(28*28,)))\n",
        "model4.add(layers.Dense(10, activation='relu'))\n",
        "#En la capa de salida, la función de activación debe ser softmax ya que queremos que nos devuelva una distribución de probabilidad sobre las 10 clases.\n",
        "model4.add(layers.Dense(10, activation='softmax'))\n",
        "#Ahora al cambiar el número de neuronas obtenemos:\n",
        "#401.920 = 784 x 512 + 512 Sesgo\n",
        "# 5.130 = 512x10 + 10 Sesgo\n",
        "# 407.160 = 401.920 + 5.130 +110 (última capa)\n",
        "model4.summary()\n",
        "model4.compile(optimizer='sgd',\n",
        "              loss='categorical_crossentropy',\n",
        "              metrics=['accuracy'])\n",
        "#Entrenamos el modelo\n",
        "model4.fit(train_images, train_labels, epochs=5, batch_size=128)\n",
        "#VERIFICAMOS NUESTRO MODELO YA ENTRENADO, CONTRA EL CONJUNTO DE PRUEBAS\n",
        "test_loss, test_acc = model4.evaluate(test_images, test_labels)\n",
        "print('test_loss:', test_loss)\n",
        "print('test_acc:', test_acc)"
      ]
    },
    {
      "cell_type": "markdown",
      "metadata": {
        "id": "92oZ6dcpLsZi"
      },
      "source": [
        "En nuestros datos de entrenamiento obtenemos una pérdida de un 53% aproximadamente y una precisión de 82% aproximadamente.\n",
        "En la  precisión en nuestro conjunto de prueba es de un 54%  y la pérdida es de un 81%."
      ]
    },
    {
      "cell_type": "code",
      "execution_count": 39,
      "metadata": {
        "id": "aBmaTqm9Lwwr",
        "colab": {
          "base_uri": "https://localhost:8080/",
          "height": 1000
        },
        "outputId": "b7ad7fc4-e887-4977-cba1-eb9a74fe365b"
      },
      "outputs": [
        {
          "output_type": "stream",
          "name": "stdout",
          "text": [
            "313/313 [==============================] - 1s 3ms/step\n"
          ]
        },
        {
          "output_type": "display_data",
          "data": {
            "text/plain": [
              "<Figure size 432x216 with 2 Axes>"
            ],
            "image/png": "[encoded data removed]"
          },
          "metadata": {
            "needs_background": "light"
          }
        },
        {
          "output_type": "display_data",
          "data": {
            "text/plain": [
              "<Figure size 432x288 with 0 Axes>"
            ]
          },
          "metadata": {}
        },
        {
          "output_type": "display_data",
          "data": {
            "text/plain": [
              "<Figure size 432x216 with 2 Axes>"
            ],
            "image/png": "[encoded data removed]"
          },
          "metadata": {
            "needs_background": "light"
          }
        },
        {
          "output_type": "display_data",
          "data": {
            "text/plain": [
              "<Figure size 432x288 with 0 Axes>"
            ]
          },
          "metadata": {}
        },
        {
          "output_type": "display_data",
          "data": {
            "text/plain": [
              "<Figure size 432x216 with 2 Axes>"
            ],
            "image/png": "[encoded data removed]"
          },
          "metadata": {
            "needs_background": "light"
          }
        },
        {
          "output_type": "display_data",
          "data": {
            "text/plain": [
              "<Figure size 432x288 with 0 Axes>"
            ]
          },
          "metadata": {}
        },
        {
          "output_type": "display_data",
          "data": {
            "text/plain": [
              "<Figure size 432x216 with 2 Axes>"
            ],
            "image/png": "[encoded data removed]"
          },
          "metadata": {
            "needs_background": "light"
          }
        },
        {
          "output_type": "display_data",
          "data": {
            "text/plain": [
              "<Figure size 432x288 with 0 Axes>"
            ]
          },
          "metadata": {}
        },
        {
          "output_type": "display_data",
          "data": {
            "text/plain": [
              "<Figure size 432x216 with 2 Axes>"
            ],
            "image/png": "[encoded data removed]"
          },
          "metadata": {
            "needs_background": "light"
          }
        },
        {
          "output_type": "display_data",
          "data": {
            "text/plain": [
              "<Figure size 432x288 with 0 Axes>"
            ]
          },
          "metadata": {}
        },
        {
          "output_type": "display_data",
          "data": {
            "text/plain": [
              "<Figure size 432x216 with 2 Axes>"
            ],
            "image/png": "[encoded data removed]"
          },
          "metadata": {
            "needs_background": "light"
          }
        },
        {
          "output_type": "display_data",
          "data": {
            "text/plain": [
              "<Figure size 432x288 with 0 Axes>"
            ]
          },
          "metadata": {}
        },
        {
          "output_type": "display_data",
          "data": {
            "text/plain": [
              "<Figure size 432x216 with 2 Axes>"
            ],
            "image/png": "[encoded data removed]"
          },
          "metadata": {
            "needs_background": "light"
          }
        },
        {
          "output_type": "display_data",
          "data": {
            "text/plain": [
              "<Figure size 432x288 with 0 Axes>"
            ]
          },
          "metadata": {}
        },
        {
          "output_type": "display_data",
          "data": {
            "text/plain": [
              "<Figure size 432x216 with 2 Axes>"
            ],
            "image/png": "[encoded data removed]"
          },
          "metadata": {
            "needs_background": "light"
          }
        },
        {
          "output_type": "display_data",
          "data": {
            "text/plain": [
              "<Figure size 432x288 with 0 Axes>"
            ]
          },
          "metadata": {}
        },
        {
          "output_type": "display_data",
          "data": {
            "text/plain": [
              "<Figure size 432x216 with 2 Axes>"
            ],
            "image/png": "[encoded data removed]"
          },
          "metadata": {
            "needs_background": "light"
          }
        },
        {
          "output_type": "display_data",
          "data": {
            "text/plain": [
              "<Figure size 432x288 with 0 Axes>"
            ]
          },
          "metadata": {}
        },
        {
          "output_type": "display_data",
          "data": {
            "text/plain": [
              "<Figure size 432x216 with 2 Axes>"
            ],
            "image/png": "[encoded data removed]"
          },
          "metadata": {
            "needs_background": "light"
          }
        },
        {
          "output_type": "display_data",
          "data": {
            "text/plain": [
              "<Figure size 432x288 with 0 Axes>"
            ]
          },
          "metadata": {}
        }
      ],
      "source": [
        "#Graficamos para ver como se comporta el modelo.\n",
        "from keras.datasets import fashion_mnist\n",
        "import numpy as np\n",
        "import matplotlib.pyplot as plt\n",
        "\n",
        "(train_images, train_labels), (test_images, test_labels) = fashion_mnist.load_data()\n",
        "train_images = train_images.reshape((60000, 28 * 28))\n",
        "test_images = test_images.reshape((10000, 28 * 28))\n",
        "\n",
        "train_images = train_images.astype('float32') / 255\n",
        "test_images = test_images.astype('float32') / 255\n",
        "\n",
        "predictions = model4.predict(test_images)\n",
        "\n",
        "for i in range(10):\n",
        "  plt.figure(figsize=(6,3))\n",
        "  plt.subplot(1,2,1)\n",
        "  plot_image(i, predictions[i], test_labels, test_images.reshape(10000,28,28))\n",
        "  plt.subplot(1,2,2)\n",
        "  plot_value_array(i, predictions[i],  test_labels)\n",
        "  plt.show()\n",
        "  plt.clf()\n",
        "  "
      ]
    },
    {
      "cell_type": "markdown",
      "metadata": {
        "id": "MOduobBhL7wx"
      },
      "source": [
        "En la primera imagen obtenemos una precisión de un 45% para el caso 9 que \n",
        "equivale a la clase 9, que es un *Ankle boot*.\n",
        "En la segunda imagen tenemos una precisión de un 97% para el caso 2 que equivale a la clase 2 siendo un *Pullover*.\n",
        "La siguiente imagen es obtenemos un 100% para la clase 1 que es un *Trouser*.\n",
        "En la séptima imagen vemos una precisión del 73% de clase 4 que equivale a esa misma clase (*Coat*).\n",
        "En el resto de las imagenes, cada precisión equivale a la clasificación que se hace de cada articulo: *Shirt* (clase 6) con un 48%, *Sandal* (clase 5) con un 44% y *Sneaker* (clase 7) con un 96%\n",
        "\n",
        "Generamos una predicción sobre la sexta imagen."
      ]
    },
    {
      "cell_type": "code",
      "execution_count": 40,
      "metadata": {
        "id": "n-WR_Jz-MAJJ",
        "colab": {
          "base_uri": "https://localhost:8080/"
        },
        "outputId": "8ae1d02d-51a9-4395-b76d-8efbb0731610"
      },
      "outputs": [
        {
          "output_type": "stream",
          "name": "stdout",
          "text": [
            "=VEMOS LA PREDICCIÓN DEL ELEMENTO 6 (QUE DEBERÍA SER UN 1)============\n",
            "[0.   0.98 0.   0.   0.02 0.   0.   0.   0.   0.  ]\n",
            "=======================================================================\n",
            "=VEMOS LA PREDICCIÓN DEL ELEMENTO 6 (QUE DEBERÍA SER UN 1)============\n",
            "1\n"
          ]
        }
      ],
      "source": [
        "import numpy as np\n",
        "print(\"=VEMOS LA PREDICCIÓN DEL ELEMENTO 6 (QUE DEBERÍA SER UN 1)============\")\n",
        "print(predictions[5])\n",
        "print(\"=======================================================================\")\n",
        "print(\"=VEMOS LA PREDICCIÓN DEL ELEMENTO 6 (QUE DEBERÍA SER UN 1)============\")\n",
        "print(np.argmax(predictions[5]))"
      ]
    },
    {
      "cell_type": "markdown",
      "source": [
        "Como se puede observar, clasifica correctamente con un 98%.\n",
        "\n",
        "*Conclusiones caso 5:*\n",
        "Pese a que hemos obtenido una pérdida de un 53% en los de entrenamiento, que todavía se podría considerar bastante alta, hemos obtenido una precisión razonable y hemos mejorado con respecto a los otros modelos creados anteriormente. Una posible mejora sería probar con más épocas."
      ],
      "metadata": {
        "id": "VHienV1petOi"
      }
    },
    {
      "cell_type": "markdown",
      "metadata": {
        "id": "VYRTfei2MICr"
      },
      "source": [
        "***Caso 6***\n",
        "\n",
        "Nº neuronas primera capa:10\n",
        "\n",
        "Fución de activación: `'relu'`\n",
        "\n",
        "Optimizador: `'rmsprop'`"
      ]
    },
    {
      "cell_type": "code",
      "execution_count": 41,
      "metadata": {
        "id": "rttdRzNUMTNz"
      },
      "outputs": [],
      "source": [
        "from keras.datasets import fashion_mnist\n",
        "\n",
        "(train_images, train_labels), (test_images, test_labels) = fashion_mnist.load_data()\n",
        "\n",
        "train_images = train_images.reshape((60000, 28 * 28))\n",
        "train_images = train_images.astype('float32') / 255\n",
        "\n",
        "test_images = test_images.reshape((10000, 28 * 28))\n",
        "test_images = test_images.astype('float32') / 255\n",
        "\n",
        "from keras.utils.np_utils import to_categorical\n",
        "\n",
        "train_labels = to_categorical(train_labels)\n",
        "test_labels = to_categorical(test_labels)"
      ]
    },
    {
      "cell_type": "code",
      "execution_count": 42,
      "metadata": {
        "id": "7SVdLTDCMlfi",
        "colab": {
          "base_uri": "https://localhost:8080/"
        },
        "outputId": "c65eaec4-6f2d-4da5-ec78-5f6891bf2bca"
      },
      "outputs": [
        {
          "output_type": "stream",
          "name": "stdout",
          "text": [
            "Model: \"sequential_6\"\n",
            "_________________________________________________________________\n",
            " Layer (type)                Output Shape              Param #   \n",
            "=================================================================\n",
            " dense_18 (Dense)            (None, 512)               401920    \n",
            "                                                                 \n",
            " dense_19 (Dense)            (None, 10)                5130      \n",
            "                                                                 \n",
            " dense_20 (Dense)            (None, 10)                110       \n",
            "                                                                 \n",
            "=================================================================\n",
            "Total params: 407,160\n",
            "Trainable params: 407,160\n",
            "Non-trainable params: 0\n",
            "_________________________________________________________________\n",
            "Epoch 1/5\n",
            "469/469 [==============================] - 6s 12ms/step - loss: 0.8354 - accuracy: 0.7011\n",
            "Epoch 2/5\n",
            "469/469 [==============================] - 10s 22ms/step - loss: 0.4256 - accuracy: 0.8469\n",
            "Epoch 3/5\n",
            "469/469 [==============================] - 11s 23ms/step - loss: 0.3638 - accuracy: 0.8669\n",
            "Epoch 4/5\n",
            "469/469 [==============================] - 9s 20ms/step - loss: 0.3335 - accuracy: 0.8772\n",
            "Epoch 5/5\n",
            "469/469 [==============================] - 6s 13ms/step - loss: 0.3124 - accuracy: 0.8840\n",
            "313/313 [==============================] - 2s 6ms/step - loss: 0.4331 - accuracy: 0.8362\n",
            "test_loss: 0.43314868211746216\n",
            "test_acc: 0.8361999988555908\n"
          ]
        }
      ],
      "source": [
        "#CASO 6\n",
        "\n",
        "# El tipo de red será secuencial.\n",
        "model5 = models.Sequential()\n",
        "# En el primer caso , la capa 1 tiene 512 neuronas , la función de activación es relu y el optimizador rmsprop.\n",
        "model5.add(layers.Dense(512, activation='relu', input_shape=(28*28,)))\n",
        "model5.add(layers.Dense(10, activation='relu'))\n",
        "#En la capa de salida, la función de activación debe ser softmax ya que queremos que nos devuelva una distribución de probabilidad sobre las 10 clases.\n",
        "model5.add(layers.Dense(10, activation='softmax'))\n",
        "model5.summary()\n",
        "model5.compile(optimizer='rmsprop',\n",
        "              loss='categorical_crossentropy',\n",
        "              metrics=['accuracy'])\n",
        "#Entrenamos el modelo\n",
        "model5.fit(train_images, train_labels, epochs=5, batch_size=128)\n",
        "#VERIFICAMOS NUESTRO MODELO YA ENTRENADO, CONTRA EL CONJUNTO DE PRUEBAS\n",
        "test_loss, test_acc = model5.evaluate(test_images, test_labels)\n",
        "print('test_loss:', test_loss)\n",
        "print('test_acc:', test_acc)"
      ]
    },
    {
      "cell_type": "markdown",
      "source": [
        "Para los datos de entrenamiento, obtenemos una pérdida de alrededor de un 31% y una precisión de un 88% aproximadamente.\n",
        "\n",
        "Comparando con el conjunto de prueba, se obtiene una pérdida de un 43% y una precisión de un 84% aproximadamente."
      ],
      "metadata": {
        "id": "5azGijp5fedV"
      }
    },
    {
      "cell_type": "code",
      "execution_count": 43,
      "metadata": {
        "id": "B3a9tdp8M1-N",
        "colab": {
          "base_uri": "https://localhost:8080/",
          "height": 1000
        },
        "outputId": "c6fd3777-55d4-4117-89f2-b707a282b2f9"
      },
      "outputs": [
        {
          "output_type": "stream",
          "name": "stdout",
          "text": [
            "313/313 [==============================] - 1s 3ms/step\n"
          ]
        },
        {
          "output_type": "display_data",
          "data": {
            "text/plain": [
              "<Figure size 432x216 with 2 Axes>"
            ],
            "image/png": "[encoded data removed]"
          },
          "metadata": {
            "needs_background": "light"
          }
        },
        {
          "output_type": "display_data",
          "data": {
            "text/plain": [
              "<Figure size 432x288 with 0 Axes>"
            ]
          },
          "metadata": {}
        },
        {
          "output_type": "display_data",
          "data": {
            "text/plain": [
              "<Figure size 432x216 with 2 Axes>"
            ],
            "image/png": "[encoded data removed]"
          },
          "metadata": {
            "needs_background": "light"
          }
        },
        {
          "output_type": "display_data",
          "data": {
            "text/plain": [
              "<Figure size 432x288 with 0 Axes>"
            ]
          },
          "metadata": {}
        },
        {
          "output_type": "display_data",
          "data": {
            "text/plain": [
              "<Figure size 432x216 with 2 Axes>"
            ],
            "image/png": "[encoded data removed]"
          },
          "metadata": {
            "needs_background": "light"
          }
        },
        {
          "output_type": "display_data",
          "data": {
            "text/plain": [
              "<Figure size 432x288 with 0 Axes>"
            ]
          },
          "metadata": {}
        },
        {
          "output_type": "display_data",
          "data": {
            "text/plain": [
              "<Figure size 432x216 with 2 Axes>"
            ],
            "image/png": "[encoded data removed]"
          },
          "metadata": {
            "needs_background": "light"
          }
        },
        {
          "output_type": "display_data",
          "data": {
            "text/plain": [
              "<Figure size 432x288 with 0 Axes>"
            ]
          },
          "metadata": {}
        },
        {
          "output_type": "display_data",
          "data": {
            "text/plain": [
              "<Figure size 432x216 with 2 Axes>"
            ],
            "image/png": "[encoded data removed]"
          },
          "metadata": {
            "needs_background": "light"
          }
        },
        {
          "output_type": "display_data",
          "data": {
            "text/plain": [
              "<Figure size 432x288 with 0 Axes>"
            ]
          },
          "metadata": {}
        },
        {
          "output_type": "display_data",
          "data": {
            "text/plain": [
              "<Figure size 432x216 with 2 Axes>"
            ],
            "image/png": "[encoded data removed]"
          },
          "metadata": {
            "needs_background": "light"
          }
        },
        {
          "output_type": "display_data",
          "data": {
            "text/plain": [
              "<Figure size 432x288 with 0 Axes>"
            ]
          },
          "metadata": {}
        },
        {
          "output_type": "display_data",
          "data": {
            "text/plain": [
              "<Figure size 432x216 with 2 Axes>"
            ],
            "image/png": "[encoded data removed]"
          },
          "metadata": {
            "needs_background": "light"
          }
        },
        {
          "output_type": "display_data",
          "data": {
            "text/plain": [
              "<Figure size 432x288 with 0 Axes>"
            ]
          },
          "metadata": {}
        },
        {
          "output_type": "display_data",
          "data": {
            "text/plain": [
              "<Figure size 432x216 with 2 Axes>"
            ],
            "image/png": "[encoded data removed]"
          },
          "metadata": {
            "needs_background": "light"
          }
        },
        {
          "output_type": "display_data",
          "data": {
            "text/plain": [
              "<Figure size 432x288 with 0 Axes>"
            ]
          },
          "metadata": {}
        },
        {
          "output_type": "display_data",
          "data": {
            "text/plain": [
              "<Figure size 432x216 with 2 Axes>"
            ],
            "image/png": "[encoded data removed]"
          },
          "metadata": {
            "needs_background": "light"
          }
        },
        {
          "output_type": "display_data",
          "data": {
            "text/plain": [
              "<Figure size 432x288 with 0 Axes>"
            ]
          },
          "metadata": {}
        },
        {
          "output_type": "display_data",
          "data": {
            "text/plain": [
              "<Figure size 432x216 with 2 Axes>"
            ],
            "image/png": "[encoded data removed]"
          },
          "metadata": {
            "needs_background": "light"
          }
        },
        {
          "output_type": "display_data",
          "data": {
            "text/plain": [
              "<Figure size 432x288 with 0 Axes>"
            ]
          },
          "metadata": {}
        }
      ],
      "source": [
        "#Graficamos para ver como se comporta el modelo.\n",
        "from keras.datasets import fashion_mnist\n",
        "import numpy as np\n",
        "import matplotlib.pyplot as plt\n",
        "\n",
        "(train_images, train_labels), (test_images, test_labels) = fashion_mnist.load_data()\n",
        "train_images = train_images.reshape((60000, 28 * 28))\n",
        "test_images = test_images.reshape((10000, 28 * 28))\n",
        "\n",
        "train_images = train_images.astype('float32') / 255\n",
        "test_images = test_images.astype('float32') / 255\n",
        "\n",
        "predictions = model5.predict(test_images)\n",
        "\n",
        "for i in range(10):\n",
        "  plt.figure(figsize=(6,3))\n",
        "  plt.subplot(1,2,1)\n",
        "  plot_image(i, predictions[i], test_labels, test_images.reshape(10000,28,28))\n",
        "  plt.subplot(1,2,2)\n",
        "  plot_value_array(i, predictions[i],  test_labels)\n",
        "  plt.show()\n",
        "  plt.clf()"
      ]
    },
    {
      "cell_type": "markdown",
      "metadata": {
        "id": "ikh8lWEvNBf1"
      },
      "source": [
        "Para este modelo, las 10 primeras imágenes se clasifican correctamente y de una manera mucho más contundente que en el resto de casos.\n",
        "\n",
        "Generamos una predicción sobre sexta imagen."
      ]
    },
    {
      "cell_type": "code",
      "execution_count": 44,
      "metadata": {
        "id": "4trRYBrMNHk9",
        "colab": {
          "base_uri": "https://localhost:8080/"
        },
        "outputId": "0d7b012d-4a52-45bf-f15f-2a6eee9f4f89"
      },
      "outputs": [
        {
          "output_type": "stream",
          "name": "stdout",
          "text": [
            "=VEMOS LA PREDICCIÓN DEL ELEMENTO 6 (QUE DEBERÍA SER UN 1)============\n",
            "[0. 1. 0. 0. 0. 0. 0. 0. 0. 0.]\n",
            "=======================================================================\n",
            "=VEMOS LA PREDICCIÓN DEL ELEMENTO 6 (QUE DEBERÍA SER UN 1)============\n",
            "1\n"
          ]
        }
      ],
      "source": [
        "import numpy as np\n",
        "print(\"=VEMOS LA PREDICCIÓN DEL ELEMENTO 6 (QUE DEBERÍA SER UN 1)============\")\n",
        "print(predictions[5])\n",
        "print(\"=======================================================================\")\n",
        "print(\"=VEMOS LA PREDICCIÓN DEL ELEMENTO 6 (QUE DEBERÍA SER UN 1)============\")\n",
        "print(np.argmax(predictions[5]))"
      ]
    },
    {
      "cell_type": "markdown",
      "metadata": {
        "id": "CxXt0gO6NN35"
      },
      "source": [
        "Clasifica correctamente la imagen con un 100%.\n",
        "\n",
        "*Conclusiones caso 6:*\n",
        "Debido a los buenos datos tanto de pérdida como de precisión, este modelo es el más eficaz que hemos obtenido hasta ahora.\n",
        "\n",
        "Si lo comparamos con la red creada con la misma función de activación y optimizador pero 10 neuronas, es cierto que hemos mejorado la pérdida pero tampoco ha sido una mejora muy grande en la precisión para haber añadido más de 500 neuronas a la red.\n"
      ]
    },
    {
      "cell_type": "markdown",
      "metadata": {
        "id": "oidjFRc4NScf"
      },
      "source": [
        "***Caso 7 (5 épocas)***\n",
        "\n",
        "Nº neuronas primera capa:512\n",
        "\n",
        "Fución de activación: `'sigmoid'`\n",
        "\n",
        "Optimizador: `'sgd'`"
      ]
    },
    {
      "cell_type": "code",
      "execution_count": 45,
      "metadata": {
        "id": "xBDrwVjCNh3i"
      },
      "outputs": [],
      "source": [
        "from keras.datasets import fashion_mnist\n",
        "\n",
        "(train_images, train_labels), (test_images, test_labels) = fashion_mnist.load_data()\n",
        "\n",
        "train_images = train_images.reshape((60000, 28 * 28))\n",
        "train_images = train_images.astype('float32') / 255\n",
        "\n",
        "test_images = test_images.reshape((10000, 28 * 28))\n",
        "test_images = test_images.astype('float32') / 255\n",
        "\n",
        "from keras.utils.np_utils import to_categorical\n",
        "\n",
        "train_labels = to_categorical(train_labels)\n",
        "test_labels = to_categorical(test_labels)"
      ]
    },
    {
      "cell_type": "code",
      "execution_count": 46,
      "metadata": {
        "id": "y2QMoc66NmPi",
        "colab": {
          "base_uri": "https://localhost:8080/"
        },
        "outputId": "68ab4e46-4d8d-4cb8-9d00-87a8b6b08382"
      },
      "outputs": [
        {
          "output_type": "stream",
          "name": "stdout",
          "text": [
            "Model: \"sequential_7\"\n",
            "_________________________________________________________________\n",
            " Layer (type)                Output Shape              Param #   \n",
            "=================================================================\n",
            " dense_21 (Dense)            (None, 512)               401920    \n",
            "                                                                 \n",
            " dense_22 (Dense)            (None, 10)                5130      \n",
            "                                                                 \n",
            " dense_23 (Dense)            (None, 10)                110       \n",
            "                                                                 \n",
            "=================================================================\n",
            "Total params: 407,160\n",
            "Trainable params: 407,160\n",
            "Non-trainable params: 0\n",
            "_________________________________________________________________\n",
            "Epoch 1/5\n",
            "469/469 [==============================] - 5s 9ms/step - loss: 2.2675 - accuracy: 0.2158\n",
            "Epoch 2/5\n",
            "469/469 [==============================] - 4s 9ms/step - loss: 2.1542 - accuracy: 0.3476\n",
            "Epoch 3/5\n",
            "469/469 [==============================] - 4s 9ms/step - loss: 2.0110 - accuracy: 0.4305\n",
            "Epoch 4/5\n",
            "469/469 [==============================] - 4s 9ms/step - loss: 1.8531 - accuracy: 0.4835\n",
            "Epoch 5/5\n",
            "469/469 [==============================] - 4s 9ms/step - loss: 1.7085 - accuracy: 0.5410\n",
            "313/313 [==============================] - 1s 4ms/step - loss: 1.6485 - accuracy: 0.5562\n",
            "test_loss: 1.6484707593917847\n",
            "test_acc: 0.5562000274658203\n"
          ]
        }
      ],
      "source": [
        "#CASO 7 (5 ÉPOCAS)\n",
        "# El tipo de red será secuencial.\n",
        "model6 = models.Sequential()\n",
        "# En el primer caso , la capa 1 tiene 512 neuronas , la función de activación es sigmoid y el optimizador sgd.\n",
        "model6.add(layers.Dense(512, activation='sigmoid', input_shape=(28*28,)))\n",
        "model6.add(layers.Dense(10, activation='sigmoid'))\n",
        "#En la capa de salida, la función de activación debe ser softmax ya que queremos que nos devuelva una distribución de probabilidad sobre las 10 clases.\n",
        "model6.add(layers.Dense(10, activation='softmax'))\n",
        "model6.summary()\n",
        "model6.compile(optimizer='sgd',\n",
        "              loss='categorical_crossentropy',\n",
        "              metrics=['accuracy'])\n",
        "#Entrenamos el modelo\n",
        "model6.fit(train_images, train_labels, epochs=5, batch_size=128)\n",
        "#VERIFICAMOS NUESTRO MODELO YA ENTRENADO, CONTRA EL CONJUNTO DE PRUEBAS\n",
        "test_loss, test_acc = model6.evaluate(test_images, test_labels)\n",
        "print('test_loss:', test_loss)\n",
        "print('test_acc:', test_acc)"
      ]
    },
    {
      "cell_type": "markdown",
      "metadata": {
        "id": "j0doFgc-N5Fn"
      },
      "source": [
        "Obtenemos los siguientes datos de entrenamiento:Datos de entrenamiento de pérdida con un 175%.Datos de entrenamiento de precisión con un 54%. En la precisión de nuestro conjunto de prueba obtenemos los mismos resultados que en los datos de entrenamiento.\n"
      ]
    },
    {
      "cell_type": "code",
      "execution_count": 47,
      "metadata": {
        "id": "sC60FiLpN66B",
        "colab": {
          "base_uri": "https://localhost:8080/",
          "height": 1000
        },
        "outputId": "14e21a12-feff-41cd-f184-b71372a90a08"
      },
      "outputs": [
        {
          "output_type": "stream",
          "name": "stdout",
          "text": [
            "313/313 [==============================] - 1s 3ms/step\n"
          ]
        },
        {
          "output_type": "display_data",
          "data": {
            "text/plain": [
              "<Figure size 432x216 with 2 Axes>"
            ],
            "image/png": "[encoded data removed]"
          },
          "metadata": {
            "needs_background": "light"
          }
        },
        {
          "output_type": "display_data",
          "data": {
            "text/plain": [
              "<Figure size 432x288 with 0 Axes>"
            ]
          },
          "metadata": {}
        },
        {
          "output_type": "display_data",
          "data": {
            "text/plain": [
              "<Figure size 432x216 with 2 Axes>"
            ],
            "image/png": "[encoded data removed]"
          },
          "metadata": {
            "needs_background": "light"
          }
        },
        {
          "output_type": "display_data",
          "data": {
            "text/plain": [
              "<Figure size 432x288 with 0 Axes>"
            ]
          },
          "metadata": {}
        },
        {
          "output_type": "display_data",
          "data": {
            "text/plain": [
              "<Figure size 432x216 with 2 Axes>"
            ],
            "image/png": "[encoded data removed]"
          },
          "metadata": {
            "needs_background": "light"
          }
        },
        {
          "output_type": "display_data",
          "data": {
            "text/plain": [
              "<Figure size 432x288 with 0 Axes>"
            ]
          },
          "metadata": {}
        },
        {
          "output_type": "display_data",
          "data": {
            "text/plain": [
              "<Figure size 432x216 with 2 Axes>"
            ],
            "image/png": "[encoded data removed]"
          },
          "metadata": {
            "needs_background": "light"
          }
        },
        {
          "output_type": "display_data",
          "data": {
            "text/plain": [
              "<Figure size 432x288 with 0 Axes>"
            ]
          },
          "metadata": {}
        },
        {
          "output_type": "display_data",
          "data": {
            "text/plain": [
              "<Figure size 432x216 with 2 Axes>"
            ],
            "image/png": "[encoded data removed]"
          },
          "metadata": {
            "needs_background": "light"
          }
        },
        {
          "output_type": "display_data",
          "data": {
            "text/plain": [
              "<Figure size 432x288 with 0 Axes>"
            ]
          },
          "metadata": {}
        },
        {
          "output_type": "display_data",
          "data": {
            "text/plain": [
              "<Figure size 432x216 with 2 Axes>"
            ],
            "image/png": "[encoded data removed]"
          },
          "metadata": {
            "needs_background": "light"
          }
        },
        {
          "output_type": "display_data",
          "data": {
            "text/plain": [
              "<Figure size 432x288 with 0 Axes>"
            ]
          },
          "metadata": {}
        },
        {
          "output_type": "display_data",
          "data": {
            "text/plain": [
              "<Figure size 432x216 with 2 Axes>"
            ],
            "image/png": "[encoded data removed]"
          },
          "metadata": {
            "needs_background": "light"
          }
        },
        {
          "output_type": "display_data",
          "data": {
            "text/plain": [
              "<Figure size 432x288 with 0 Axes>"
            ]
          },
          "metadata": {}
        },
        {
          "output_type": "display_data",
          "data": {
            "text/plain": [
              "<Figure size 432x216 with 2 Axes>"
            ],
            "image/png": "[encoded data removed]"
          },
          "metadata": {
            "needs_background": "light"
          }
        },
        {
          "output_type": "display_data",
          "data": {
            "text/plain": [
              "<Figure size 432x288 with 0 Axes>"
            ]
          },
          "metadata": {}
        },
        {
          "output_type": "display_data",
          "data": {
            "text/plain": [
              "<Figure size 432x216 with 2 Axes>"
            ],
            "image/png": "[encoded data removed]"
          },
          "metadata": {
            "needs_background": "light"
          }
        },
        {
          "output_type": "display_data",
          "data": {
            "text/plain": [
              "<Figure size 432x288 with 0 Axes>"
            ]
          },
          "metadata": {}
        },
        {
          "output_type": "display_data",
          "data": {
            "text/plain": [
              "<Figure size 432x216 with 2 Axes>"
            ],
            "image/png": "[encoded data removed]"
          },
          "metadata": {
            "needs_background": "light"
          }
        },
        {
          "output_type": "display_data",
          "data": {
            "text/plain": [
              "<Figure size 432x288 with 0 Axes>"
            ]
          },
          "metadata": {}
        }
      ],
      "source": [
        "from keras.datasets import fashion_mnist\n",
        "import numpy as np\n",
        "import matplotlib.pyplot as plt\n",
        "\n",
        "(train_images, train_labels), (test_images, test_labels) = fashion_mnist.load_data()\n",
        "train_images = train_images.reshape((60000, 28 * 28))\n",
        "test_images = test_images.reshape((10000, 28 * 28))\n",
        "\n",
        "train_images = train_images.astype('float32') / 255\n",
        "test_images = test_images.astype('float32') / 255\n",
        "\n",
        "predictions = model6.predict(test_images)\n",
        "\n",
        "for i in range(10):\n",
        "  plt.figure(figsize=(6,3))\n",
        "  plt.subplot(1,2,1)\n",
        "  plot_image(i, predictions[i], test_labels, test_images.reshape(10000,28,28))\n",
        "  plt.subplot(1,2,2)\n",
        "  plot_value_array(i, predictions[i],  test_labels)\n",
        "  plt.show()\n",
        "  plt.clf()"
      ]
    },
    {
      "cell_type": "markdown",
      "metadata": {
        "id": "UQ97dwyWOFUJ"
      },
      "source": [
        "Clasifica erróneamente 2 de ellas, pero las que clasifica correctamente no lo hace con un porcentaje alto.\n",
        "\n",
        "Generamos una predicción sobre la sexta imagen."
      ]
    },
    {
      "cell_type": "code",
      "execution_count": 48,
      "metadata": {
        "id": "0qp9ZgXDOJvx",
        "colab": {
          "base_uri": "https://localhost:8080/"
        },
        "outputId": "9c6a968e-6a17-416f-d0c9-8f34fbc6fdb0"
      },
      "outputs": [
        {
          "output_type": "stream",
          "name": "stdout",
          "text": [
            "=VEMOS LA PREDICCIÓN DEL ELEMENTO 6 (QUE DEBERÍA SER UN 1)============\n",
            "[0.21 0.26 0.06 0.21 0.08 0.02 0.07 0.03 0.04 0.03]\n",
            "=======================================================================\n",
            "=VEMOS LA PREDICCIÓN DEL ELEMENTO 6 (QUE DEBERÍA SER UN 1)============\n",
            "1\n"
          ]
        }
      ],
      "source": [
        "import numpy as np\n",
        "print(\"=VEMOS LA PREDICCIÓN DEL ELEMENTO 6 (QUE DEBERÍA SER UN 1)============\")\n",
        "print(predictions[5])\n",
        "print(\"=======================================================================\")\n",
        "print(\"=VEMOS LA PREDICCIÓN DEL ELEMENTO 6 (QUE DEBERÍA SER UN 1)============\")\n",
        "print(np.argmax(predictions[5]))"
      ]
    },
    {
      "cell_type": "markdown",
      "source": [
        "Pese a que clasifica correctamente la imagen, lo hace con un 26% no muy distante del 21% de la categoría 0 o de la 3.\n",
        "\n",
        "*Conclusiones Caso 7 (5 épocas)*:\n",
        "Debido a los datos obtenidos, no es una red muy eficaz."
      ],
      "metadata": {
        "id": "3aX6fLbIiPy0"
      }
    },
    {
      "cell_type": "markdown",
      "metadata": {
        "id": "YUg6zhLROT3Z"
      },
      "source": [
        "***Caso 7 (25 épocas)***"
      ]
    },
    {
      "cell_type": "code",
      "execution_count": 49,
      "metadata": {
        "id": "EIDk9zmCOYOu"
      },
      "outputs": [],
      "source": [
        "from keras.datasets import fashion_mnist\n",
        "\n",
        "(train_images, train_labels), (test_images, test_labels) = fashion_mnist.load_data()\n",
        "\n",
        "train_images = train_images.reshape((60000, 28 * 28))\n",
        "train_images = train_images.astype('float32') / 255\n",
        "\n",
        "test_images = test_images.reshape((10000, 28 * 28))\n",
        "test_images = test_images.astype('float32') / 255\n",
        "\n",
        "from keras.utils.np_utils import to_categorical\n",
        "\n",
        "train_labels = to_categorical(train_labels)\n",
        "test_labels = to_categorical(test_labels)"
      ]
    },
    {
      "cell_type": "code",
      "execution_count": 50,
      "metadata": {
        "id": "dgcQwKFwOc6R",
        "colab": {
          "base_uri": "https://localhost:8080/"
        },
        "outputId": "816874bf-2517-4f2d-bd29-e53e7e238bcb"
      },
      "outputs": [
        {
          "output_type": "stream",
          "name": "stdout",
          "text": [
            "Model: \"sequential_8\"\n",
            "_________________________________________________________________\n",
            " Layer (type)                Output Shape              Param #   \n",
            "=================================================================\n",
            " dense_24 (Dense)            (None, 512)               401920    \n",
            "                                                                 \n",
            " dense_25 (Dense)            (None, 10)                5130      \n",
            "                                                                 \n",
            " dense_26 (Dense)            (None, 10)                110       \n",
            "                                                                 \n",
            "=================================================================\n",
            "Total params: 407,160\n",
            "Trainable params: 407,160\n",
            "Non-trainable params: 0\n",
            "_________________________________________________________________\n",
            "Epoch 1/25\n",
            "469/469 [==============================] - 5s 9ms/step - loss: 2.2867 - accuracy: 0.1384\n",
            "Epoch 2/25\n",
            "469/469 [==============================] - 6s 13ms/step - loss: 2.1727 - accuracy: 0.3478\n",
            "Epoch 3/25\n",
            "469/469 [==============================] - 7s 15ms/step - loss: 2.0333 - accuracy: 0.4552\n",
            "Epoch 4/25\n",
            "469/469 [==============================] - 5s 10ms/step - loss: 1.8813 - accuracy: 0.4767\n",
            "Epoch 5/25\n",
            "469/469 [==============================] - 5s 10ms/step - loss: 1.7476 - accuracy: 0.5026\n",
            "Epoch 6/25\n",
            "469/469 [==============================] - 6s 12ms/step - loss: 1.6321 - accuracy: 0.5501\n",
            "Epoch 7/25\n",
            "469/469 [==============================] - 6s 13ms/step - loss: 1.5286 - accuracy: 0.5708\n",
            "Epoch 8/25\n",
            "469/469 [==============================] - 5s 11ms/step - loss: 1.4354 - accuracy: 0.5774\n",
            "Epoch 9/25\n",
            "469/469 [==============================] - 4s 9ms/step - loss: 1.3535 - accuracy: 0.5891\n",
            "Epoch 10/25\n",
            "469/469 [==============================] - 5s 10ms/step - loss: 1.2829 - accuracy: 0.6016\n",
            "Epoch 11/25\n",
            "469/469 [==============================] - 4s 9ms/step - loss: 1.2226 - accuracy: 0.6133\n",
            "Epoch 12/25\n",
            "469/469 [==============================] - 4s 9ms/step - loss: 1.1710 - accuracy: 0.6261\n",
            "Epoch 13/25\n",
            "469/469 [==============================] - 5s 11ms/step - loss: 1.1264 - accuracy: 0.6369\n",
            "Epoch 14/25\n",
            "469/469 [==============================] - 8s 17ms/step - loss: 1.0874 - accuracy: 0.6479\n",
            "Epoch 15/25\n",
            "469/469 [==============================] - 6s 13ms/step - loss: 1.0525 - accuracy: 0.6593\n",
            "Epoch 16/25\n",
            "469/469 [==============================] - 4s 9ms/step - loss: 1.0209 - accuracy: 0.6686\n",
            "Epoch 17/25\n",
            "469/469 [==============================] - 4s 9ms/step - loss: 0.9921 - accuracy: 0.6779\n",
            "Epoch 18/25\n",
            "469/469 [==============================] - 4s 9ms/step - loss: 0.9657 - accuracy: 0.6866\n",
            "Epoch 19/25\n",
            "469/469 [==============================] - 6s 13ms/step - loss: 0.9414 - accuracy: 0.6935\n",
            "Epoch 20/25\n",
            "469/469 [==============================] - 4s 9ms/step - loss: 0.9189 - accuracy: 0.7007\n",
            "Epoch 21/25\n",
            "469/469 [==============================] - 4s 9ms/step - loss: 0.8981 - accuracy: 0.7068\n",
            "Epoch 22/25\n",
            "469/469 [==============================] - 4s 9ms/step - loss: 0.8789 - accuracy: 0.7128\n",
            "Epoch 23/25\n",
            "469/469 [==============================] - 5s 11ms/step - loss: 0.8610 - accuracy: 0.7176\n",
            "Epoch 24/25\n",
            "469/469 [==============================] - 6s 13ms/step - loss: 0.8444 - accuracy: 0.7211\n",
            "Epoch 25/25\n",
            "469/469 [==============================] - 5s 11ms/step - loss: 0.8289 - accuracy: 0.7252\n",
            "313/313 [==============================] - 2s 6ms/step - loss: 0.8324 - accuracy: 0.7249\n",
            "test_loss: 0.8323777318000793\n",
            "test_acc: 0.7249000072479248\n"
          ]
        }
      ],
      "source": [
        "# CASO 7 (25 ÉPOCAS)\n",
        "# El tipo de red será secuencial.\n",
        "model6_1 = models.Sequential()\n",
        "# En el primer caso , la capa 1 tiene 512 neuronas , la función de activación es sigmoid y el optimizador sgd.\n",
        "model6_1.add(layers.Dense(512, activation='sigmoid', input_shape=(28*28,)))\n",
        "model6_1.add(layers.Dense(10, activation='sigmoid'))\n",
        "#En la capa de salida, la función de activación debe ser softmax ya que queremos que nos devuelva una distribución de probabilidad sobre las 10 clases.\n",
        "model6_1.add(layers.Dense(10, activation='softmax'))\n",
        "model6_1.summary()\n",
        "model6_1.compile(optimizer='sgd',\n",
        "              loss='categorical_crossentropy',\n",
        "              metrics=['accuracy'])\n",
        "#Entrenamos el modelo\n",
        "model6_1.fit(train_images, train_labels, epochs=25, batch_size=128)\n",
        "#VERIFICAMOS NUESTRO MODELO YA ENTRENADO, CONTRA EL CONJUNTO DE PRUEBAS\n",
        "test_loss, test_acc = model6_1.evaluate(test_images, test_labels)\n",
        "print('test_loss:', test_loss)\n",
        "print('test_acc:', test_acc)"
      ]
    },
    {
      "cell_type": "markdown",
      "metadata": {
        "id": "CUQXal9_O2s1"
      },
      "source": [
        "Para los datos de entrenamiento, obtenemos una pérdida de un 83% y una precisión de un 72% aproximadamente. Estos datos coinciden al compararlos con los datos de prueba.\n"
      ]
    },
    {
      "cell_type": "code",
      "execution_count": 51,
      "metadata": {
        "id": "tj39KnyVO5LP",
        "colab": {
          "base_uri": "https://localhost:8080/",
          "height": 1000
        },
        "outputId": "7f3a5e0d-0dad-496f-a67f-a655a67ddecd"
      },
      "outputs": [
        {
          "output_type": "stream",
          "name": "stdout",
          "text": [
            "313/313 [==============================] - 2s 5ms/step\n"
          ]
        },
        {
          "output_type": "display_data",
          "data": {
            "text/plain": [
              "<Figure size 432x216 with 2 Axes>"
            ],
            "image/png": "[encoded data removed]"
          },
          "metadata": {
            "needs_background": "light"
          }
        },
        {
          "output_type": "display_data",
          "data": {
            "text/plain": [
              "<Figure size 432x288 with 0 Axes>"
            ]
          },
          "metadata": {}
        },
        {
          "output_type": "display_data",
          "data": {
            "text/plain": [
              "<Figure size 432x216 with 2 Axes>"
            ],
            "image/png": "[encoded data removed]"
          },
          "metadata": {
            "needs_background": "light"
          }
        },
        {
          "output_type": "display_data",
          "data": {
            "text/plain": [
              "<Figure size 432x288 with 0 Axes>"
            ]
          },
          "metadata": {}
        },
        {
          "output_type": "display_data",
          "data": {
            "text/plain": [
              "<Figure size 432x216 with 2 Axes>"
            ],
            "image/png": "[encoded data removed]"
          },
          "metadata": {
            "needs_background": "light"
          }
        },
        {
          "output_type": "display_data",
          "data": {
            "text/plain": [
              "<Figure size 432x288 with 0 Axes>"
            ]
          },
          "metadata": {}
        },
        {
          "output_type": "display_data",
          "data": {
            "text/plain": [
              "<Figure size 432x216 with 2 Axes>"
            ],
            "image/png": "[encoded data removed]"
          },
          "metadata": {
            "needs_background": "light"
          }
        },
        {
          "output_type": "display_data",
          "data": {
            "text/plain": [
              "<Figure size 432x288 with 0 Axes>"
            ]
          },
          "metadata": {}
        },
        {
          "output_type": "display_data",
          "data": {
            "text/plain": [
              "<Figure size 432x216 with 2 Axes>"
            ],
            "image/png": "[encoded data removed]"
          },
          "metadata": {
            "needs_background": "light"
          }
        },
        {
          "output_type": "display_data",
          "data": {
            "text/plain": [
              "<Figure size 432x288 with 0 Axes>"
            ]
          },
          "metadata": {}
        },
        {
          "output_type": "display_data",
          "data": {
            "text/plain": [
              "<Figure size 432x216 with 2 Axes>"
            ],
            "image/png": "[encoded data removed]"
          },
          "metadata": {
            "needs_background": "light"
          }
        },
        {
          "output_type": "display_data",
          "data": {
            "text/plain": [
              "<Figure size 432x288 with 0 Axes>"
            ]
          },
          "metadata": {}
        },
        {
          "output_type": "display_data",
          "data": {
            "text/plain": [
              "<Figure size 432x216 with 2 Axes>"
            ],
            "image/png": "[encoded data removed]"
          },
          "metadata": {
            "needs_background": "light"
          }
        },
        {
          "output_type": "display_data",
          "data": {
            "text/plain": [
              "<Figure size 432x288 with 0 Axes>"
            ]
          },
          "metadata": {}
        },
        {
          "output_type": "display_data",
          "data": {
            "text/plain": [
              "<Figure size 432x216 with 2 Axes>"
            ],
            "image/png": "[encoded data removed]"
          },
          "metadata": {
            "needs_background": "light"
          }
        },
        {
          "output_type": "display_data",
          "data": {
            "text/plain": [
              "<Figure size 432x288 with 0 Axes>"
            ]
          },
          "metadata": {}
        },
        {
          "output_type": "display_data",
          "data": {
            "text/plain": [
              "<Figure size 432x216 with 2 Axes>"
            ],
            "image/png": "[encoded data removed]"
          },
          "metadata": {
            "needs_background": "light"
          }
        },
        {
          "output_type": "display_data",
          "data": {
            "text/plain": [
              "<Figure size 432x288 with 0 Axes>"
            ]
          },
          "metadata": {}
        },
        {
          "output_type": "display_data",
          "data": {
            "text/plain": [
              "<Figure size 432x216 with 2 Axes>"
            ],
            "image/png": "[encoded data removed]"
          },
          "metadata": {
            "needs_background": "light"
          }
        },
        {
          "output_type": "display_data",
          "data": {
            "text/plain": [
              "<Figure size 432x288 with 0 Axes>"
            ]
          },
          "metadata": {}
        }
      ],
      "source": [
        "#Graficamos para ver como se comporta el modelo.\n",
        "from keras.datasets import fashion_mnist\n",
        "import numpy as np\n",
        "import matplotlib.pyplot as plt\n",
        "\n",
        "(train_images, train_labels), (test_images, test_labels) = fashion_mnist.load_data()\n",
        "train_images = train_images.reshape((60000, 28 * 28))\n",
        "test_images = test_images.reshape((10000, 28 * 28))\n",
        "\n",
        "train_images = train_images.astype('float32') / 255\n",
        "test_images = test_images.astype('float32') / 255\n",
        "\n",
        "predictions = model6_1.predict(test_images)\n",
        "\n",
        "for i in range(10):\n",
        "  plt.figure(figsize=(6,3))\n",
        "  plt.subplot(1,2,1)\n",
        "  plot_image(i, predictions[i], test_labels, test_images.reshape(10000,28,28))\n",
        "  plt.subplot(1,2,2)\n",
        "  plot_value_array(i, predictions[i],  test_labels)\n",
        "  plt.show()\n",
        "  plt.clf()\n",
        "  "
      ]
    },
    {
      "cell_type": "markdown",
      "metadata": {
        "id": "y8mmpR7SPJZX"
      },
      "source": [
        "Volvemos a tener un comportamiento muy parecido al que hemos obtenido anteriormente.\n",
        "\n",
        "Generaremos una predicción sobre la sexta imagen"
      ]
    },
    {
      "cell_type": "code",
      "execution_count": 52,
      "metadata": {
        "id": "Hi_KioDFPb7z",
        "colab": {
          "base_uri": "https://localhost:8080/"
        },
        "outputId": "4691471d-c965-41ab-824c-fccc91ea8d7b"
      },
      "outputs": [
        {
          "output_type": "stream",
          "name": "stdout",
          "text": [
            "=VEMOS LA PREDICCIÓN DEL ELEMENTO 6 (QUE DEBERÍA SER UN 1)============\n",
            "[0.01 0.75 0.02 0.14 0.04 0.   0.03 0.   0.   0.  ]\n",
            "=======================================================================\n",
            "=VEMOS LA PREDICCIÓN DEL ELEMENTO 6 (QUE DEBERÍA SER UN 1)============\n",
            "1\n"
          ]
        }
      ],
      "source": [
        "import numpy as np\n",
        "print(\"=VEMOS LA PREDICCIÓN DEL ELEMENTO 6 (QUE DEBERÍA SER UN 1)============\")\n",
        "print(predictions[5])\n",
        "print(\"=======================================================================\")\n",
        "print(\"=VEMOS LA PREDICCIÓN DEL ELEMENTO 6 (QUE DEBERÍA SER UN 1)============\")\n",
        "print(np.argmax(predictions[5]))"
      ]
    },
    {
      "cell_type": "markdown",
      "metadata": {
        "id": "16DXmdVlPfuw"
      },
      "source": [
        "Consigue predecir correctamente la imagen con un 75%. \n",
        "\n",
        "*Conclusiones sobre el caso 7 con 25 épocas:*\n",
        "Al añadir 20 épocas más,observamos que la pérdida disminuye mientras que la precisión aumenta respecto al caso anterior con 5 épocas.Aún así,obtenemos una pérdida bastante alta y una precisión no lo suficiente alta; por lo que tampoco es recomendable.\n"
      ]
    },
    {
      "cell_type": "markdown",
      "metadata": {
        "id": "Ptj8TQpNPqT1"
      },
      "source": [
        "***Caso 8***\n",
        "\n",
        "Nº neuronas primera capa:512\n",
        "\n",
        "Fución de activación: `'sigmoid'`\n",
        "\n",
        "Optimizador: `'rmsprop'`"
      ]
    },
    {
      "cell_type": "code",
      "execution_count": 53,
      "metadata": {
        "id": "OO2tZQ1MPtRU"
      },
      "outputs": [],
      "source": [
        "from keras.datasets import fashion_mnist\n",
        "\n",
        "(train_images, train_labels), (test_images, test_labels) = fashion_mnist.load_data()\n",
        "\n",
        "train_images = train_images.reshape((60000, 28 * 28))\n",
        "train_images = train_images.astype('float32') / 255\n",
        "\n",
        "test_images = test_images.reshape((10000, 28 * 28))\n",
        "test_images = test_images.astype('float32') / 255\n",
        "\n",
        "from keras.utils.np_utils import to_categorical\n",
        "\n",
        "train_labels = to_categorical(train_labels)\n",
        "test_labels = to_categorical(test_labels)"
      ]
    },
    {
      "cell_type": "code",
      "execution_count": 54,
      "metadata": {
        "id": "-YHrazDFPxZJ",
        "colab": {
          "base_uri": "https://localhost:8080/"
        },
        "outputId": "64c64a9a-c0cc-4edc-bdd1-541dbf7f3ff6"
      },
      "outputs": [
        {
          "output_type": "stream",
          "name": "stdout",
          "text": [
            "Model: \"sequential_9\"\n",
            "_________________________________________________________________\n",
            " Layer (type)                Output Shape              Param #   \n",
            "=================================================================\n",
            " dense_27 (Dense)            (None, 512)               401920    \n",
            "                                                                 \n",
            " dense_28 (Dense)            (None, 10)                5130      \n",
            "                                                                 \n",
            " dense_29 (Dense)            (None, 10)                110       \n",
            "                                                                 \n",
            "=================================================================\n",
            "Total params: 407,160\n",
            "Trainable params: 407,160\n",
            "Non-trainable params: 0\n",
            "_________________________________________________________________\n",
            "Epoch 1/5\n",
            "469/469 [==============================] - 7s 13ms/step - loss: 1.2721 - accuracy: 0.7087\n",
            "Epoch 2/5\n",
            "469/469 [==============================] - 8s 17ms/step - loss: 0.7190 - accuracy: 0.8052\n",
            "Epoch 3/5\n",
            "469/469 [==============================] - 5s 12ms/step - loss: 0.5306 - accuracy: 0.8340\n",
            "Epoch 4/5\n",
            "469/469 [==============================] - 6s 12ms/step - loss: 0.4477 - accuracy: 0.8549\n",
            "Epoch 5/5\n",
            "469/469 [==============================] - 6s 12ms/step - loss: 0.4014 - accuracy: 0.8669\n",
            "313/313 [==============================] - 1s 4ms/step - loss: 0.4314 - accuracy: 0.8534\n",
            "test_loss: 0.43136465549468994\n",
            "test_acc: 0.8533999919891357\n"
          ]
        }
      ],
      "source": [
        "#CASO 8\n",
        "\n",
        "# El tipo de red será secuencial.\n",
        "model7= models.Sequential()\n",
        "# En el primer caso , la capa 1 tiene 512 neuronas , la función de activación es sigmoid y el optimizador rmsprop.\n",
        "model7.add(layers.Dense(512, activation='sigmoid', input_shape=(28*28,)))\n",
        "model7.add(layers.Dense(10, activation='sigmoid'))\n",
        "#En la capa de salida, la función de activación debe ser softmax ya que queremos que nos devuelva una distribución de probabilidad sobre las 10 clases.\n",
        "model7.add(layers.Dense(10, activation='softmax'))\n",
        "model7.summary()\n",
        "model7.compile(optimizer='rmsprop',\n",
        "              loss='categorical_crossentropy',\n",
        "              metrics=['accuracy'])\n",
        "#Entrenamos el modelo\n",
        "model7.fit(train_images, train_labels, epochs=5, batch_size=128)\n",
        "#VERIFICAMOS NUESTRO MODELO YA ENTRENADO, CONTRA EL CONJUNTO DE PRUEBAS\n",
        "test_loss, test_acc = model7.evaluate(test_images, test_labels)\n",
        "print('test_loss:', test_loss)\n",
        "print('test_acc:', test_acc)"
      ]
    },
    {
      "cell_type": "markdown",
      "source": [
        "Para los datos de entrenamiento, obtenemos una pérdida de un 40% y una precisión de un 86% aproximadamente.\n",
        "\n",
        "En el caso de los datos de prueba,la pricisión baja ligeramente (85%) y la pérdida sube ligeramente también (43%)."
      ],
      "metadata": {
        "id": "JKtOVbvSkgZz"
      }
    },
    {
      "cell_type": "code",
      "execution_count": 55,
      "metadata": {
        "id": "Y8FcaK5OQSMi",
        "colab": {
          "base_uri": "https://localhost:8080/",
          "height": 1000
        },
        "outputId": "b898dfe4-bcbb-4b82-96f9-e25c4c43446c"
      },
      "outputs": [
        {
          "output_type": "stream",
          "name": "stdout",
          "text": [
            "313/313 [==============================] - 1s 4ms/step\n"
          ]
        },
        {
          "output_type": "display_data",
          "data": {
            "text/plain": [
              "<Figure size 432x216 with 2 Axes>"
            ],
            "image/png": "[encoded data removed]"
          },
          "metadata": {
            "needs_background": "light"
          }
        },
        {
          "output_type": "display_data",
          "data": {
            "text/plain": [
              "<Figure size 432x288 with 0 Axes>"
            ]
          },
          "metadata": {}
        },
        {
          "output_type": "display_data",
          "data": {
            "text/plain": [
              "<Figure size 432x216 with 2 Axes>"
            ],
            "image/png": "[encoded data removed]"
          },
          "metadata": {
            "needs_background": "light"
          }
        },
        {
          "output_type": "display_data",
          "data": {
            "text/plain": [
              "<Figure size 432x288 with 0 Axes>"
            ]
          },
          "metadata": {}
        },
        {
          "output_type": "display_data",
          "data": {
            "text/plain": [
              "<Figure size 432x216 with 2 Axes>"
            ],
            "image/png": "[encoded data removed]"
          },
          "metadata": {
            "needs_background": "light"
          }
        },
        {
          "output_type": "display_data",
          "data": {
            "text/plain": [
              "<Figure size 432x288 with 0 Axes>"
            ]
          },
          "metadata": {}
        },
        {
          "output_type": "display_data",
          "data": {
            "text/plain": [
              "<Figure size 432x216 with 2 Axes>"
            ],
            "image/png": "[encoded data removed]"
          },
          "metadata": {
            "needs_background": "light"
          }
        },
        {
          "output_type": "display_data",
          "data": {
            "text/plain": [
              "<Figure size 432x288 with 0 Axes>"
            ]
          },
          "metadata": {}
        },
        {
          "output_type": "display_data",
          "data": {
            "text/plain": [
              "<Figure size 432x216 with 2 Axes>"
            ],
            "image/png": "[encoded data removed]"
          },
          "metadata": {
            "needs_background": "light"
          }
        },
        {
          "output_type": "display_data",
          "data": {
            "text/plain": [
              "<Figure size 432x288 with 0 Axes>"
            ]
          },
          "metadata": {}
        },
        {
          "output_type": "display_data",
          "data": {
            "text/plain": [
              "<Figure size 432x216 with 2 Axes>"
            ],
            "image/png": "[encoded data removed]"
          },
          "metadata": {
            "needs_background": "light"
          }
        },
        {
          "output_type": "display_data",
          "data": {
            "text/plain": [
              "<Figure size 432x288 with 0 Axes>"
            ]
          },
          "metadata": {}
        },
        {
          "output_type": "display_data",
          "data": {
            "text/plain": [
              "<Figure size 432x216 with 2 Axes>"
            ],
            "image/png": "[encoded data removed]"
          },
          "metadata": {
            "needs_background": "light"
          }
        },
        {
          "output_type": "display_data",
          "data": {
            "text/plain": [
              "<Figure size 432x288 with 0 Axes>"
            ]
          },
          "metadata": {}
        },
        {
          "output_type": "display_data",
          "data": {
            "text/plain": [
              "<Figure size 432x216 with 2 Axes>"
            ],
            "image/png": "[encoded data removed]"
          },
          "metadata": {
            "needs_background": "light"
          }
        },
        {
          "output_type": "display_data",
          "data": {
            "text/plain": [
              "<Figure size 432x288 with 0 Axes>"
            ]
          },
          "metadata": {}
        },
        {
          "output_type": "display_data",
          "data": {
            "text/plain": [
              "<Figure size 432x216 with 2 Axes>"
            ],
            "image/png": "[encoded data removed]"
          },
          "metadata": {
            "needs_background": "light"
          }
        },
        {
          "output_type": "display_data",
          "data": {
            "text/plain": [
              "<Figure size 432x288 with 0 Axes>"
            ]
          },
          "metadata": {}
        },
        {
          "output_type": "display_data",
          "data": {
            "text/plain": [
              "<Figure size 432x216 with 2 Axes>"
            ],
            "image/png": "[encoded data removed]"
          },
          "metadata": {
            "needs_background": "light"
          }
        },
        {
          "output_type": "display_data",
          "data": {
            "text/plain": [
              "<Figure size 432x288 with 0 Axes>"
            ]
          },
          "metadata": {}
        }
      ],
      "source": [
        "#Graficamos para ver como se comporta el modelo.\n",
        "from keras.datasets import fashion_mnist\n",
        "import numpy as np\n",
        "import matplotlib.pyplot as plt\n",
        "\n",
        "(train_images, train_labels), (test_images, test_labels) = fashion_mnist.load_data()\n",
        "train_images = train_images.reshape((60000, 28 * 28))\n",
        "test_images = test_images.reshape((10000, 28 * 28))\n",
        "\n",
        "train_images = train_images.astype('float32') / 255\n",
        "test_images = test_images.astype('float32') / 255\n",
        "\n",
        "predictions = model7.predict(test_images)\n",
        "\n",
        "for i in range(10):\n",
        "  plt.figure(figsize=(6,3))\n",
        "  plt.subplot(1,2,1)\n",
        "  plot_image(i, predictions[i], test_labels, test_images.reshape(10000,28,28))\n",
        "  plt.subplot(1,2,2)\n",
        "  plot_value_array(i, predictions[i],  test_labels)\n",
        "  plt.show()\n",
        "  plt.clf()"
      ]
    },
    {
      "cell_type": "markdown",
      "metadata": {
        "id": "lBiBLHTLQgQi"
      },
      "source": [
        "Para las 10 primeras imágenes, el modelo clasifica bien todas ellas y con porcentajes bastante altos.\n",
        "\n",
        "Generamos una predicción sobre la sexta imagen.\n"
      ]
    },
    {
      "cell_type": "code",
      "execution_count": 56,
      "metadata": {
        "id": "3tP-Bns3Qm2P",
        "colab": {
          "base_uri": "https://localhost:8080/"
        },
        "outputId": "3f4295f2-3b07-41af-c877-fc03b3c5b3ab"
      },
      "outputs": [
        {
          "output_type": "stream",
          "name": "stdout",
          "text": [
            "=VEMOS LA PREDICCIÓN DEL ELEMENTO 6 (QUE DEBERÍA SER UN 1)============\n",
            "[0.   0.99 0.   0.01 0.   0.   0.   0.   0.   0.  ]\n",
            "=======================================================================\n",
            "=VEMOS LA PREDICCIÓN DEL ELEMENTO 6 (QUE DEBERÍA SER UN 1)============\n",
            "1\n"
          ]
        }
      ],
      "source": [
        "import numpy as np\n",
        "print(\"=VEMOS LA PREDICCIÓN DEL ELEMENTO 6 (QUE DEBERÍA SER UN 1)============\")\n",
        "print(predictions[5])\n",
        "print(\"=======================================================================\")\n",
        "print(\"=VEMOS LA PREDICCIÓN DEL ELEMENTO 6 (QUE DEBERÍA SER UN 1)============\")\n",
        "print(np.argmax(predictions[5]))"
      ]
    },
    {
      "cell_type": "markdown",
      "metadata": {
        "id": "-jT_EV2TQs6T"
      },
      "source": [
        "Clafica correctamente la imagen con un 99%.\n",
        "\n",
        "*Conclusiones del caso 8:*\n",
        "En este caso,siguiendo los datos de pérdia y de precisión, obtenemos un modelo bastante eficiente."
      ]
    }
  ],
  "metadata": {
    "colab": {
      "collapsed_sections": [],
      "provenance": []
    },
    "kernelspec": {
      "display_name": "Python 3",
      "name": "python3"
    },
    "language_info": {
      "name": "python"
    }
  },
  "nbformat": 4,
  "nbformat_minor": 0
}