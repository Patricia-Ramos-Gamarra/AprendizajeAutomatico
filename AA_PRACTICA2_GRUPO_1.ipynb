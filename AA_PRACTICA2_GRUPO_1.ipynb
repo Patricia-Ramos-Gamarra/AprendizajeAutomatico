{
  "cells": [
    {
      "cell_type": "markdown",
      "metadata": {
        "id": "XTRp9j0IWoFA"
      },
      "source": [
        "# **GRUPO 1**: Lucía Chicharro, María Montero, Patricia Ramos y Lydia Sánchez-Cano."
      ]
    },
    {
      "cell_type": "markdown",
      "metadata": {
        "id": "iKSTEoCWX8iX"
      },
      "source": [
        "\n",
        "# **Redes de neuronas convolucionales.**\n",
        "\n",
        "El objetivo es crear un modelo de Red de Neuronas Convolucionales que sea capaz de reconocer y clasificar imágenes de ropa en sus diferentes tipologías. Este modelo será definido, configurado, entrenado, evaluado y mejorado para posteriormente usarlo para hacer predicciones.\n",
        "\n",
        "Para ello crearemos un modelo en Keras aplicando de una tirada todos los pasos al conjunto de datos Fashion-MNIST.Fashion-MNIST es un conjunto de datos de las imágenes de los artículos de Zalando, una tienda de moda online alemana especializada en ventas de ropa y zapatos. El conjunto de datos contiene 70K imágenes en escala de grises en 10 categorías. Estas imágenes muestran prendas individuales de ropa en baja resolución (28 x 28 píxeles).\n",
        "\n",
        "La clasificación la haremos según la siguiente tabla:\n",
        "\n",
        "![tabla.png](data:image/png;base64,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)"
      ]
    },
    {
      "cell_type": "code",
      "execution_count": null,
      "metadata": {
        "colab": {
          "base_uri": "https://localhost:8080/"
        },
        "id": "ppcTUMkMZIav",
        "outputId": "7a8d530c-fde9-460a-8e11-4348083a33d3"
      },
      "outputs": [
        {
          "output_type": "stream",
          "name": "stdout",
          "text": [
            "Colab only includes TensorFlow 2.x; %tensorflow_version has no effect.\n",
            "2.9.0\n",
            "GPU Available: [PhysicalDevice(name='/physical_device:GPU:0', device_type='GPU')]\n",
            "2.9.2\n"
          ]
        }
      ],
      "source": [
        "# IMPORTAMOS KERAS\n",
        "%tensorflow_version 2.x\n",
        "import tensorflow as tf\n",
        "from tensorflow import keras\n",
        "import numpy as np\n",
        "import matplotlib.pyplot as plt\n",
        "from tensorflow.keras.models import Sequential\n",
        "from tensorflow.keras.layers import Dense, Flatten, Conv2D, MaxPooling2D\n",
        "\n",
        "print(tf.keras.__version__)\n",
        "print(\"GPU Available:\", tf.config.list_physical_devices('GPU'))\n",
        "print(tf.__version__)\n"
      ]
    },
    {
      "cell_type": "markdown",
      "metadata": {
        "id": "eu-q0fChZjn8"
      },
      "source": [
        "Cargamos el conjunto de datos que vamos a utilizar."
      ]
    },
    {
      "cell_type": "code",
      "execution_count": null,
      "metadata": {
        "id": "ADunEBMNZTuT"
      },
      "outputs": [],
      "source": [
        "# CARGAMOS EL CONJUNTO DE DATOS Fashion_MNIST EN KERAS\n",
        "# fashion-mnist = tf.keras.datasets.fashion_mnist\n",
        "from keras.datasets import fashion_mnist\n",
        "\n",
        "(train_images, train_labels), (test_images, test_labels) = fashion_mnist.load_data()"
      ]
    },
    {
      "cell_type": "markdown",
      "metadata": {
        "id": "FW0Ny3lfZlkl"
      },
      "source": [
        "train_images y train_labels son las imágenes y las etiquetas que vamos a usar como conjunto de entrenamiento.\n",
        "\n",
        "En el caso de test_images, test_labels , hacen referencia a las imágenes y las etiquetas de test que se usarán cuando el modelo ya esté entrenado."
      ]
    },
    {
      "cell_type": "code",
      "execution_count": null,
      "metadata": {
        "colab": {
          "base_uri": "https://localhost:8080/"
        },
        "id": "nKRtKtz4Zw9p",
        "outputId": "05977e9c-e6ad-4302-f5c5-f6589579f116"
      },
      "outputs": [
        {
          "output_type": "stream",
          "name": "stdout",
          "text": [
            "(60000, 28, 28)\n"
          ]
        }
      ],
      "source": [
        "print(train_images.shape)"
      ]
    },
    {
      "cell_type": "markdown",
      "metadata": {
        "id": "q76WA_ISZ3xW"
      },
      "source": [
        "Como ya sabíamos, utilizamos 60000 imágenes de entramiento de 28*28 píxeles."
      ]
    },
    {
      "cell_type": "code",
      "execution_count": null,
      "metadata": {
        "colab": {
          "base_uri": "https://localhost:8080/"
        },
        "id": "0SeSvmLzZ5Hp",
        "outputId": "7a904531-d921-4631-dc2b-7df3349f3871"
      },
      "outputs": [
        {
          "output_type": "stream",
          "name": "stdout",
          "text": [
            "(10000, 28, 28)\n"
          ]
        }
      ],
      "source": [
        "print(test_images.shape)"
      ]
    },
    {
      "cell_type": "markdown",
      "metadata": {
        "id": "Gjb7V_7saB7z"
      },
      "source": [
        "En el caso de las imágenes de test, tenemos 10000 imágenes de 28*28 píxeles."
      ]
    },
    {
      "cell_type": "code",
      "execution_count": null,
      "metadata": {
        "colab": {
          "base_uri": "https://localhost:8080/"
        },
        "id": "fqeucf5caDF9",
        "outputId": "03de92ac-96b6-4fb2-90ed-395cb9457df0"
      },
      "outputs": [
        {
          "output_type": "stream",
          "name": "stdout",
          "text": [
            "[[  0   0   0   0   0   0   0   0   0   0   0   0   0   0   0   0   0   0   0   0   0   0   0   0   0   0   0   0]\n",
            " [  0   0   0   0   0   0   0   0   0   0   0   0   0   0   0   0   0   0   0   0   0   0   0   0   0   0   0   0]\n",
            " [  0   0   0   0   0   0   0   0   0   0   0   0   0   0   0   0   0   0   0   0   0   0   0   0   0   0   0   0]\n",
            " [  0   0   0   0   0   0   0   0   0   0   0   0   0   0   0   0   0   0   0   0   0   0   0   0   0   0   0   0]\n",
            " [  0   0   0   0   0   0   0   0   0   0   0   0   0   0   0   0   0   0   0   0   0   0   0   0   0   0   0   0]\n",
            " [  0   0   0   0   0   0   0   0   0   0   0   0   0   0   0   0   0   0   0   0   0   0   0   0   0   0   0   0]\n",
            " [  0   0   0   0   0   0   0   0   0   0   0   0   0   0   0   0   0   0   0   0   0   0   0   0   0   0   0   0]\n",
            " [  0   0   0   0   0   0   0   0   0   0   0   0   0   0   0   0   0   0   0   0   0   0   0   0   0   0   0   0]\n",
            " [  0   0   0   0   0   0   0   0   0   0   0   0   0   0   0   0   0   0   0   0   0   0   0   0   0   0   0   0]\n",
            " [  0   0   0   0   0   0   0   0   0   0   0   0   0  24  39  75   0   0   0   0   0   0   0   0   3   0   0   0]\n",
            " [  0   0   0   0   0   0   0   0   0   0  12  78 111 171 132  90   0   0   0   0   0   0   0   0   0   0  33   0]\n",
            " [  0   0   0   0   0   0   0   0   0  90 123 102  99  87  90 135 153  30   0   0   0   0   0   0   0 135 255   3]\n",
            " [  0   0   0   0   0   0   0   3  48 102  54  84 201 189 129 126 168 180 129 102  87  90 102 165 153 147 165   0]\n",
            " [  0   0  21  39  54  63  69  78  81  93 105 108 105 111 144 186 198 216 225 240 240 228 195 153 120 120 168  18]\n",
            " [  9  63  90  90  90  96  90  87 120 120 129 132 141 144 117  99 108 105  99  93  96  87  84  87 120 126 189  48]\n",
            " [ 75 102  78  93 105 123 135 141 159 147 159 147 159 177 183 162 150 177 177 138 162 162 150 135 129 123 189  42]\n",
            " [165 138 126 108  99 102 102 120 126 129 141 138 141 162 156 153 156 144 141 147 156 162 159 144 138 132 186  48]\n",
            " [ 18 108 153 186 189 186 162 150 141 138 147 150 144 153 156 159 162 168 171 171 171 171 174 174 177 186 216  81]\n",
            " [  0   0   0  15  48  75 117 141 153 156 156 156 156 156 159 159 156 171 180 171 171 165 159 156 144 138 135  36]\n",
            " [  0   0   0   0   0   0   0   0   0   0   0   0   0   0   0   0   0   0   0   0   0   0   0   0   0   0   0   0]\n",
            " [  0   0   0   0   0   0   0   0   0   0   0   0   0   0   0   0   0   0   0   0   0   0   0   0   0   0   0   0]\n",
            " [  0   0   0   0   0   0   0   0   0   0   0   0   0   0   0   0   0   0   0   0   0   0   0   0   0   0   0   0]\n",
            " [  0   0   0   0   0   0   0   0   0   0   0   0   0   0   0   0   0   0   0   0   0   0   0   0   0   0   0   0]\n",
            " [  0   0   0   0   0   0   0   0   0   0   0   0   0   0   0   0   0   0   0   0   0   0   0   0   0   0   0   0]\n",
            " [  0   0   0   0   0   0   0   0   0   0   0   0   0   0   0   0   0   0   0   0   0   0   0   0   0   0   0   0]\n",
            " [  0   0   0   0   0   0   0   0   0   0   0   0   0   0   0   0   0   0   0   0   0   0   0   0   0   0   0   0]\n",
            " [  0   0   0   0   0   0   0   0   0   0   0   0   0   0   0   0   0   0   0   0   0   0   0   0   0   0   0   0]\n",
            " [  0   0   0   0   0   0   0   0   0   0   0   0   0   0   0   0   0   0   0   0   0   0   0   0   0   0   0   0]]\n"
          ]
        }
      ],
      "source": [
        "# Vemos la matriz de la imagen número 40.000 (28x28)\n",
        "\n",
        "np.set_printoptions(precision=2, suppress=True, linewidth=145)\n",
        "print(np.matrix(train_images[40000]))"
      ]
    },
    {
      "cell_type": "code",
      "execution_count": null,
      "metadata": {
        "colab": {
          "base_uri": "https://localhost:8080/"
        },
        "id": "KZ-cnZHXaWhm",
        "outputId": "614936c6-c7ff-4874-ca50-270eab4c8f3d"
      },
      "outputs": [
        {
          "output_type": "execute_result",
          "data": {
            "text/plain": [
              "7"
            ]
          },
          "metadata": {},
          "execution_count": 33
        }
      ],
      "source": [
        "# La imagen anterior corresponde con la categoría 7, que es un zapato como podíamos ver anteriormente.\n",
        "train_labels[40000]"
      ]
    },
    {
      "cell_type": "code",
      "execution_count": null,
      "metadata": {
        "colab": {
          "base_uri": "https://localhost:8080/",
          "height": 265
        },
        "id": "1I8VYBnDaaj8",
        "outputId": "99313f0c-9f4c-45cc-9cda-540fea134541"
      },
      "outputs": [
        {
          "output_type": "display_data",
          "data": {
            "text/plain": [
              "<Figure size 432x288 with 1 Axes>"
            ],
            "image/png": "[encoded data removed]"
          },
          "metadata": {
            "needs_background": "light"
          }
        }
      ],
      "source": [
        "# Veamos el elemento 40000 de las imágenes de entrenamiento y pintémoslo con matplotlib\n",
        "\n",
        "digit = train_images[40000]\n",
        "plt.imshow(digit, cmap=plt.cm.binary)\n",
        "plt.show()"
      ]
    },
    {
      "cell_type": "code",
      "execution_count": null,
      "metadata": {
        "colab": {
          "base_uri": "https://localhost:8080/"
        },
        "id": "w_QJmrbmadgU",
        "outputId": "177579c3-3e93-46b4-9ace-337c2b87b2f3"
      },
      "outputs": [
        {
          "output_type": "execute_result",
          "data": {
            "text/plain": [
              "array([9, 2, 1, ..., 8, 1, 5], dtype=uint8)"
            ]
          },
          "metadata": {},
          "execution_count": 35
        }
      ],
      "source": [
        "test_labels"
      ]
    },
    {
      "cell_type": "code",
      "execution_count": null,
      "metadata": {
        "colab": {
          "base_uri": "https://localhost:8080/",
          "height": 265
        },
        "id": "ueZiHi_haj5A",
        "outputId": "7f4a5d08-2fb7-497d-94a8-d661570b5daa"
      },
      "outputs": [
        {
          "output_type": "display_data",
          "data": {
            "text/plain": [
              "<Figure size 432x288 with 1 Axes>"
            ],
            "image/png": "[encoded data removed]"
          },
          "metadata": {
            "needs_background": "light"
          }
        }
      ],
      "source": [
        "#Veamos el elemento de la posición 0 de las imágenes de test y pintémoslo con matplotlib (debe pertener a la categoría 9 que son botines)\n",
        "\n",
        "digit = test_images[0]\n",
        "plt.imshow(digit, cmap=plt.cm.binary)\n",
        "plt.show()"
      ]
    },
    {
      "cell_type": "markdown",
      "metadata": {
        "id": "VjTpavLpawQ6"
      },
      "source": [
        "**CONSTRUIMOS LA RED DE NEURONAS CONVOLUCIONALES**"
      ]
    },
    {
      "cell_type": "markdown",
      "metadata": {
        "id": "knTIgqyfcGkn"
      },
      "source": [
        "*Preparamos los datos*\n",
        "\n",
        "Para que nuestra red converja más fácilmente, normalizaremos los datos de entrenamiento y de test evitando así que sean heterogéneos de rango. Convertiremos nuestros datos en una matriz `float32` de la forma `(60000, 28 * 28)` que toma valores en `[0,1]`"
      ]
    },
    {
      "cell_type": "code",
      "execution_count": null,
      "metadata": {
        "colab": {
          "base_uri": "https://localhost:8080/"
        },
        "id": "vWo52dwdcGz2",
        "outputId": "d42910fd-08da-4b2a-a9c3-3832456e7b40"
      },
      "outputs": [
        {
          "output_type": "stream",
          "name": "stdout",
          "text": [
            "(60000, 28, 28, 1)\n",
            "(60000,)\n"
          ]
        }
      ],
      "source": [
        "train_images = train_images.reshape((60000, 28,28,1))\n",
        "train_images = train_images.astype('float32') / 255\n",
        "\n",
        "test_images = test_images.reshape((10000, 28,28,1))\n",
        "test_images = test_images.astype('float32') / 255\n",
        "\n",
        "print (train_images.shape)\n",
        "print (train_labels.shape)"
      ]
    },
    {
      "cell_type": "markdown",
      "metadata": {
        "id": "W7ghBf6NcHYp"
      },
      "source": [
        "Como la función de pérdida en todos los casos será `sparse_categorical_crossentropy`, no codificaremos las etiquetas usando el one-hot encoding."
      ]
    },
    {
      "cell_type": "markdown",
      "metadata": {
        "id": "0ggubwTscxI5"
      },
      "source": [
        "***Caso 1***\n"
      ]
    },
    {
      "cell_type": "code",
      "execution_count": null,
      "metadata": {
        "colab": {
          "base_uri": "https://localhost:8080/"
        },
        "id": "RD5aZlA7dFSA",
        "outputId": "61d4dfc2-b9c8-4241-be14-5ac22f7d96a2"
      },
      "outputs": [
        {
          "output_type": "stream",
          "name": "stdout",
          "text": [
            "Model: \"sequential_5\"\n",
            "_________________________________________________________________\n",
            " Layer (type)                Output Shape              Param #   \n",
            "=================================================================\n",
            " conv2d_10 (Conv2D)          (None, 24, 24, 32)        832       \n",
            "                                                                 \n",
            " max_pooling2d_10 (MaxPoolin  (None, 12, 12, 32)       0         \n",
            " g2D)                                                            \n",
            "                                                                 \n",
            " conv2d_11 (Conv2D)          (None, 8, 8, 64)          51264     \n",
            "                                                                 \n",
            " max_pooling2d_11 (MaxPoolin  (None, 4, 4, 64)         0         \n",
            " g2D)                                                            \n",
            "                                                                 \n",
            " flatten_5 (Flatten)         (None, 1024)              0         \n",
            "                                                                 \n",
            " dense_8 (Dense)             (None, 10)                10250     \n",
            "                                                                 \n",
            "=================================================================\n",
            "Total params: 62,346\n",
            "Trainable params: 62,346\n",
            "Non-trainable params: 0\n",
            "_________________________________________________________________\n"
          ]
        }
      ],
      "source": [
        "# Crear el Modelo de red neuronal CNN con:\n",
        "\n",
        "# La red será secuencial (de la entrada a la salida sin ciclos).\n",
        "model = Sequential()\n",
        "#En la primera capa convolucional hay 32 filtros , el tamaño de la ventana es de 5x5 y la función de activación relu.\n",
        "model.add(Conv2D(32, (5, 5), activation='relu',input_shape=(28,28,1)))\n",
        "#La de pooling correspondiente es de 2x2\n",
        "model.add(MaxPooling2D((2, 2)))\n",
        "# En la segunda capa convolucional hay 64 filtros,el tamaño de la ventana es de 5x5 y la función de activación es relu.\n",
        "model.add(Conv2D(64, (5, 5), activation='relu'))\n",
        "# La de pooling correspondiente es de 2x2\n",
        "model.add(MaxPooling2D((2, 2)))\n",
        "#Capa Flatten\n",
        "model.add(Flatten())\n",
        "# Como tenemos 10 categorías, la última capa tiene que tener 10 neuronas y la función de activación debe ser\n",
        "# softmax ya que queremos que nos devuelva una distribución de probabilidad sobre las 10 clases.\n",
        "model.add(Dense(10, activation='softmax'))\n",
        "\n",
        "# Resultado del summary:\n",
        "#832=((5x5)+1)x32 (filtros)\n",
        "#51264=((25x32)+1)x64 (filtros)\n",
        "#10250=1024(capa Flatten aplana (4x4x64)) x10 + 10(cada bias)\n",
        "# 832+51264+10250=62346(total de parámetros entrenables)\n",
        "model.summary()"
      ]
    },
    {
      "cell_type": "markdown",
      "metadata": {
        "id": "pFOEKBPB8kPo"
      },
      "source": [
        "El siguiente paso es definir la función de activación , de pérdida y la métrica."
      ]
    },
    {
      "cell_type": "code",
      "execution_count": null,
      "metadata": {
        "id": "mKydMGBAd2DY"
      },
      "outputs": [],
      "source": [
        "#Compilamos el modelo\n",
        "model.compile(loss='sparse_categorical_crossentropy', #la función de pérdida \n",
        "              optimizer='sgd',# cargamos el optimizador 'sgd' (Stocastic Gradient Descendent)\n",
        "              metrics=['accuracy']) # la métrica es 'accuracy': Solo tendremos en cuenta la fracción de imágenes que son\n",
        "                                    # correctamente clasificadas \n"
      ]
    },
    {
      "cell_type": "markdown",
      "metadata": {
        "id": "jjLrNgxa8pcS"
      },
      "source": [
        "Ahora sí podemos entrenar la red."
      ]
    },
    {
      "cell_type": "code",
      "execution_count": null,
      "metadata": {
        "colab": {
          "base_uri": "https://localhost:8080/"
        },
        "id": "j_lFxzixeMZf",
        "outputId": "7599a32b-c495-4dc7-cc2a-38bbe7a3fdfa"
      },
      "outputs": [
        {
          "output_type": "stream",
          "name": "stdout",
          "text": [
            "Epoch 1/5\n",
            "1875/1875 [==============================] - 5s 3ms/step - loss: 0.8183 - accuracy: 0.7130\n",
            "Epoch 2/5\n",
            "1875/1875 [==============================] - 5s 3ms/step - loss: 0.5133 - accuracy: 0.8162\n",
            "Epoch 3/5\n",
            "1875/1875 [==============================] - 5s 3ms/step - loss: 0.4472 - accuracy: 0.8420\n",
            "Epoch 4/5\n",
            "1875/1875 [==============================] - 5s 3ms/step - loss: 0.4097 - accuracy: 0.8544\n",
            "Epoch 5/5\n",
            "1875/1875 [==============================] - 5s 3ms/step - loss: 0.3862 - accuracy: 0.8625\n",
            "313/313 [==============================] - 1s 3ms/step - loss: 0.3910 - accuracy: 0.8628\n",
            "Test accuracy: 0.8628000020980835\n"
          ]
        }
      ],
      "source": [
        "# Ejecutamos el entrenamiento \n",
        "# epochs: Épocas:\"una pasada sobre todo el conjunto de datos\",separara el entrenamiento en distintas fases para el registro y la evaluación periódica.\n",
        "#En cada iteración, la red calculará los gradientes de los pesos y ajustará los pesos \n",
        "#Al final de las iteraciones veremos que la red es capaz de clasificar las\n",
        "model.fit(train_images, train_labels,epochs=5)\n",
        "#Verificamos el modelo ya entrenado contra el conjunto de prueba\n",
        "test_loss, test_acc = model.evaluate(test_images, test_labels)\n",
        "\n",
        "print('Test accuracy:', test_acc)"
      ]
    },
    {
      "cell_type": "markdown",
      "metadata": {
        "id": "hwKuaPrw9Dzw"
      },
      "source": [
        "En nuestros datos de entrenamiento, obtenemos una pérdida de un 39% y una precisión de un 86% aproximadamente.\n",
        "\n",
        "En el caso de nuestro conjunto de prueba,la pérdida ha aumentado ligeramente (obtenemos un 39,10% aproximadamente) y la precisión ha disminuido ( obtenemos una precisión de un 86,28% aproximadamente)."
      ]
    },
    {
      "cell_type": "code",
      "execution_count": null,
      "metadata": {
        "id": "5nwMm90Ihd4Q"
      },
      "outputs": [],
      "source": [
        "def plot_image(i, predictions_array, true_label, img):\n",
        "  predictions_array, true_label, img = predictions_array, true_label[i], img[i]\n",
        "  plt.grid(False)\n",
        "  plt.xticks([])\n",
        "  plt.yticks([])\n",
        "\n",
        "  plt.imshow(img, cmap=plt.cm.binary)    \n",
        "\n",
        "  predicted_label = np.argmax(predictions_array)\n",
        "  if predicted_label.all() == true_label.all():\n",
        "    color = 'blue'\n",
        "  else:\n",
        "    color = 'red'\n",
        "\n",
        "  plt.xlabel(\"{} {:2.0f}% ({})\".format(predicted_label,\n",
        "                                100*np.max(predictions_array),\n",
        "                                true_label),\n",
        "                                color=color)\n",
        "\n",
        "def plot_value_array(i, predictions_array, true_label):\n",
        "  predictions_array, true_label = predictions_array, true_label[i]\n",
        "  plt.grid(False)\n",
        "  plt.xticks(range(10))\n",
        "  plt.yticks([])\n",
        "  thisplot = plt.bar(range(10), predictions_array, color=\"#00FF00\")\n",
        "  plt.ylim([0, 1])\n",
        "  predicted_label = np.argmax(predictions_array)\n",
        "\n",
        "  thisplot[predicted_label].set_color('red')\n",
        "  thisplot[true_label].set_color('black')\n",
        "\n",
        "  "
      ]
    },
    {
      "cell_type": "code",
      "execution_count": null,
      "metadata": {
        "colab": {
          "base_uri": "https://localhost:8080/",
          "height": 1000
        },
        "id": "XZ_VPPu6hp2Q",
        "outputId": "0d769291-ffe6-4302-9427-4e4745f9a556"
      },
      "outputs": [
        {
          "output_type": "stream",
          "name": "stdout",
          "text": [
            "313/313 [==============================] - 1s 2ms/step\n"
          ]
        },
        {
          "output_type": "display_data",
          "data": {
            "text/plain": [
              "<Figure size 432x216 with 2 Axes>"
            ],
            "image/png": "[encoded data removed]"
          },
          "metadata": {
            "needs_background": "light"
          }
        },
        {
          "output_type": "display_data",
          "data": {
            "text/plain": [
              "<Figure size 432x288 with 0 Axes>"
            ]
          },
          "metadata": {}
        },
        {
          "output_type": "display_data",
          "data": {
            "text/plain": [
              "<Figure size 432x216 with 2 Axes>"
            ],
            "image/png": "[encoded data removed]"
          },
          "metadata": {
            "needs_background": "light"
          }
        },
        {
          "output_type": "display_data",
          "data": {
            "text/plain": [
              "<Figure size 432x288 with 0 Axes>"
            ]
          },
          "metadata": {}
        },
        {
          "output_type": "display_data",
          "data": {
            "text/plain": [
              "<Figure size 432x216 with 2 Axes>"
            ],
            "image/png": "[encoded data removed]"
          },
          "metadata": {
            "needs_background": "light"
          }
        },
        {
          "output_type": "display_data",
          "data": {
            "text/plain": [
              "<Figure size 432x288 with 0 Axes>"
            ]
          },
          "metadata": {}
        },
        {
          "output_type": "display_data",
          "data": {
            "text/plain": [
              "<Figure size 432x216 with 2 Axes>"
            ],
            "image/png": "[encoded data removed]"
          },
          "metadata": {
            "needs_background": "light"
          }
        },
        {
          "output_type": "display_data",
          "data": {
            "text/plain": [
              "<Figure size 432x288 with 0 Axes>"
            ]
          },
          "metadata": {}
        },
        {
          "output_type": "display_data",
          "data": {
            "text/plain": [
              "<Figure size 432x216 with 2 Axes>"
            ],
            "image/png": "[encoded data removed]"
          },
          "metadata": {
            "needs_background": "light"
          }
        },
        {
          "output_type": "display_data",
          "data": {
            "text/plain": [
              "<Figure size 432x288 with 0 Axes>"
            ]
          },
          "metadata": {}
        },
        {
          "output_type": "display_data",
          "data": {
            "text/plain": [
              "<Figure size 432x216 with 2 Axes>"
            ],
            "image/png": "[encoded data removed]"
          },
          "metadata": {
            "needs_background": "light"
          }
        },
        {
          "output_type": "display_data",
          "data": {
            "text/plain": [
              "<Figure size 432x288 with 0 Axes>"
            ]
          },
          "metadata": {}
        },
        {
          "output_type": "display_data",
          "data": {
            "text/plain": [
              "<Figure size 432x216 with 2 Axes>"
            ],
            "image/png": "[encoded data removed]"
          },
          "metadata": {
            "needs_background": "light"
          }
        },
        {
          "output_type": "display_data",
          "data": {
            "text/plain": [
              "<Figure size 432x288 with 0 Axes>"
            ]
          },
          "metadata": {}
        },
        {
          "output_type": "display_data",
          "data": {
            "text/plain": [
              "<Figure size 432x216 with 2 Axes>"
            ],
            "image/png": "[encoded data removed]"
          },
          "metadata": {
            "needs_background": "light"
          }
        },
        {
          "output_type": "display_data",
          "data": {
            "text/plain": [
              "<Figure size 432x288 with 0 Axes>"
            ]
          },
          "metadata": {}
        },
        {
          "output_type": "display_data",
          "data": {
            "text/plain": [
              "<Figure size 432x216 with 2 Axes>"
            ],
            "image/png": "[encoded data removed]"
          },
          "metadata": {
            "needs_background": "light"
          }
        },
        {
          "output_type": "display_data",
          "data": {
            "text/plain": [
              "<Figure size 432x288 with 0 Axes>"
            ]
          },
          "metadata": {}
        },
        {
          "output_type": "display_data",
          "data": {
            "text/plain": [
              "<Figure size 432x216 with 2 Axes>"
            ],
            "image/png": "[encoded data removed]"
          },
          "metadata": {
            "needs_background": "light"
          }
        },
        {
          "output_type": "display_data",
          "data": {
            "text/plain": [
              "<Figure size 432x288 with 0 Axes>"
            ]
          },
          "metadata": {}
        },
        {
          "output_type": "display_data",
          "data": {
            "text/plain": [
              "<Figure size 432x216 with 2 Axes>"
            ],
            "image/png": "[encoded data removed]"
          },
          "metadata": {
            "needs_background": "light"
          }
        },
        {
          "output_type": "display_data",
          "data": {
            "text/plain": [
              "<Figure size 432x288 with 0 Axes>"
            ]
          },
          "metadata": {}
        },
        {
          "output_type": "display_data",
          "data": {
            "text/plain": [
              "<Figure size 432x216 with 2 Axes>"
            ],
            "image/png": "[encoded data removed]"
          },
          "metadata": {
            "needs_background": "light"
          }
        },
        {
          "output_type": "display_data",
          "data": {
            "text/plain": [
              "<Figure size 432x288 with 0 Axes>"
            ]
          },
          "metadata": {}
        },
        {
          "output_type": "display_data",
          "data": {
            "text/plain": [
              "<Figure size 432x216 with 2 Axes>"
            ],
            "image/png": "[encoded data removed]"
          },
          "metadata": {
            "needs_background": "light"
          }
        },
        {
          "output_type": "display_data",
          "data": {
            "text/plain": [
              "<Figure size 432x288 with 0 Axes>"
            ]
          },
          "metadata": {}
        },
        {
          "output_type": "display_data",
          "data": {
            "text/plain": [
              "<Figure size 432x216 with 2 Axes>"
            ],
            "image/png": "[encoded data removed]"
          },
          "metadata": {
            "needs_background": "light"
          }
        },
        {
          "output_type": "display_data",
          "data": {
            "text/plain": [
              "<Figure size 432x288 with 0 Axes>"
            ]
          },
          "metadata": {}
        }
      ],
      "source": [
        "# graficamos los 14 primeros elementos para ver cómo de bien o de mal se comporta nuestro modelo.\n",
        "\n",
        "predictions = model.predict(test_images)\n",
        "\n",
        "for i in range(14):\n",
        "  plt.figure(figsize=(6,3))\n",
        "  plt.subplot(1,2,1)\n",
        "  plot_image(i, predictions[i], test_labels, test_images.reshape(10000,28,28))\n",
        "  plt.subplot(1,2,2)\n",
        "  plot_value_array(i, predictions[i],  test_labels)\n",
        "  plt.show()\n",
        "  plt.clf()"
      ]
    },
    {
      "cell_type": "markdown",
      "metadata": {
        "id": "EE5g5tx-9zUY"
      },
      "source": [
        "Comentarios sobre las imágenes:\n",
        "\n",
        "En este caso, todas las imágenes son clasificadas correctamente excepto la penúltima.Sin embargo, cabe destacar que el error se debe al tipo de zapato pero no confunde un zapato con otro tipo de prenda.\n"
      ]
    },
    {
      "cell_type": "code",
      "execution_count": null,
      "metadata": {
        "colab": {
          "base_uri": "https://localhost:8080/",
          "height": 265
        },
        "id": "NYfxuTo_igWa",
        "outputId": "a5013d0b-6c18-44e8-d2a0-53a7848d9705"
      },
      "outputs": [
        {
          "output_type": "display_data",
          "data": {
            "text/plain": [
              "<Figure size 432x288 with 1 Axes>"
            ],
            "image/png": "[encoded data removed]"
          },
          "metadata": {
            "needs_background": "light"
          }
        }
      ],
      "source": [
        "# Veamos el sexto elemento\n",
        "from keras.datasets import fashion_mnist\n",
        "(train_images, train_labels), (test_images, test_labels) = fashion_mnist.load_data()\n",
        "\n",
        "digit = test_images[5]\n",
        "plt.imshow(digit, cmap=plt.cm.binary)\n",
        "plt.show()"
      ]
    },
    {
      "cell_type": "markdown",
      "metadata": {
        "id": "dhq67A6jiRN-"
      },
      "source": [
        "Generaremos una predicción sobre este elemento."
      ]
    },
    {
      "cell_type": "code",
      "execution_count": null,
      "metadata": {
        "colab": {
          "base_uri": "https://localhost:8080/"
        },
        "id": "H4eOp739ikLO",
        "outputId": "c3d03831-62f7-4fc6-978a-eccfe0392db7"
      },
      "outputs": [
        {
          "output_type": "stream",
          "name": "stdout",
          "text": [
            "=VEMOS LA PREDICCIÓN DEL ELEMENTO 6 (QUE DEBERÍA SER UN 1)============\n",
            "[0. 1. 0. 0. 0. 0. 0. 0. 0. 0.]\n",
            "=======================================================================\n",
            "=VEMOS LA PREDICCIÓN DEL ELEMENTO 6 (QUE DEBERÍA SER UN 1)============\n",
            "1\n"
          ]
        }
      ],
      "source": [
        "\n",
        "print(\"=VEMOS LA PREDICCIÓN DEL ELEMENTO 6 (QUE DEBERÍA SER UN 1)============\")\n",
        "print(predictions[5])\n",
        "print(\"=======================================================================\")\n",
        "print(\"=VEMOS LA PREDICCIÓN DEL ELEMENTO 6 (QUE DEBERÍA SER UN 1)============\")\n",
        "print(np.argmax(predictions[5]))"
      ]
    },
    {
      "cell_type": "markdown",
      "metadata": {
        "id": "2lrso2SC936O"
      },
      "source": [
        "Con un 100% nuestro modelo clasifica correctamente la sexta imagen.\n",
        "\n",
        "*Conclusiones caso 1:* \n",
        "\n",
        "Pese a que hemos obtenido unos datos de pérdida y precisión bastante razonables, es cierto que podemos mejorarlos modificando los hiperparámetros."
      ]
    },
    {
      "cell_type": "markdown",
      "metadata": {
        "id": "_lek1URulJJF"
      },
      "source": [
        "**Caso 1: 25 épocas**.\n",
        "\n",
        "Veamos qué ocrurre con el mismo modelo anterior solo que entrenado con 25 épocas.\n"
      ]
    },
    {
      "cell_type": "code",
      "execution_count": null,
      "metadata": {
        "id": "TVrJRG6P92Z2"
      },
      "outputs": [],
      "source": [
        "#Normalizamos los datos\n",
        "from keras.datasets import fashion_mnist\n",
        "\n",
        "(train_images, train_labels), (test_images, test_labels) = fashion_mnist.load_data()\n",
        "\n",
        "train_images = train_images.reshape((60000, 28,28,1))\n",
        "train_images = train_images.astype('float32') / 255\n",
        "\n",
        "test_images = test_images.reshape((10000, 28,28,1))\n",
        "test_images = test_images.astype('float32') / 255"
      ]
    },
    {
      "cell_type": "code",
      "execution_count": null,
      "metadata": {
        "colab": {
          "base_uri": "https://localhost:8080/"
        },
        "id": "txHdWIsmlcQ7",
        "outputId": "026684c0-644b-47dd-b474-067e8eebf305"
      },
      "outputs": [
        {
          "output_type": "stream",
          "name": "stdout",
          "text": [
            "Epoch 1/25\n",
            "1875/1875 [==============================] - 7s 4ms/step - loss: 0.3693 - accuracy: 0.8680\n",
            "Epoch 2/25\n",
            "1875/1875 [==============================] - 6s 3ms/step - loss: 0.3552 - accuracy: 0.8752\n",
            "Epoch 3/25\n",
            "1875/1875 [==============================] - 5s 3ms/step - loss: 0.3429 - accuracy: 0.8783\n",
            "Epoch 4/25\n",
            "1875/1875 [==============================] - 5s 3ms/step - loss: 0.3327 - accuracy: 0.8820\n",
            "Epoch 5/25\n",
            "1875/1875 [==============================] - 5s 3ms/step - loss: 0.3223 - accuracy: 0.8854\n",
            "Epoch 6/25\n",
            "1875/1875 [==============================] - 5s 3ms/step - loss: 0.3140 - accuracy: 0.8885\n",
            "Epoch 7/25\n",
            "1875/1875 [==============================] - 6s 3ms/step - loss: 0.3066 - accuracy: 0.8913\n",
            "Epoch 8/25\n",
            "1875/1875 [==============================] - 5s 3ms/step - loss: 0.2988 - accuracy: 0.8940\n",
            "Epoch 9/25\n",
            "1875/1875 [==============================] - 5s 3ms/step - loss: 0.2931 - accuracy: 0.8958\n",
            "Epoch 10/25\n",
            "1875/1875 [==============================] - 5s 3ms/step - loss: 0.2859 - accuracy: 0.8990\n",
            "Epoch 11/25\n",
            "1875/1875 [==============================] - 5s 3ms/step - loss: 0.2808 - accuracy: 0.9003\n",
            "Epoch 12/25\n",
            "1875/1875 [==============================] - 5s 3ms/step - loss: 0.2754 - accuracy: 0.9020\n",
            "Epoch 13/25\n",
            "1875/1875 [==============================] - 5s 3ms/step - loss: 0.2699 - accuracy: 0.9041\n",
            "Epoch 14/25\n",
            "1875/1875 [==============================] - 5s 3ms/step - loss: 0.2650 - accuracy: 0.9062\n",
            "Epoch 15/25\n",
            "1875/1875 [==============================] - 5s 3ms/step - loss: 0.2603 - accuracy: 0.9086\n",
            "Epoch 16/25\n",
            "1875/1875 [==============================] - 5s 3ms/step - loss: 0.2551 - accuracy: 0.9097\n",
            "Epoch 17/25\n",
            "1875/1875 [==============================] - 5s 3ms/step - loss: 0.2510 - accuracy: 0.9102\n",
            "Epoch 18/25\n",
            "1875/1875 [==============================] - 5s 3ms/step - loss: 0.2465 - accuracy: 0.9120\n",
            "Epoch 19/25\n",
            "1875/1875 [==============================] - 5s 3ms/step - loss: 0.2427 - accuracy: 0.9141\n",
            "Epoch 20/25\n",
            "1875/1875 [==============================] - 5s 3ms/step - loss: 0.2378 - accuracy: 0.9149\n",
            "Epoch 21/25\n",
            "1875/1875 [==============================] - 5s 3ms/step - loss: 0.2348 - accuracy: 0.9156\n",
            "Epoch 22/25\n",
            "1875/1875 [==============================] - 5s 3ms/step - loss: 0.2301 - accuracy: 0.9175\n",
            "Epoch 23/25\n",
            "1875/1875 [==============================] - 5s 3ms/step - loss: 0.2273 - accuracy: 0.9188\n",
            "Epoch 24/25\n",
            "1875/1875 [==============================] - 6s 3ms/step - loss: 0.2226 - accuracy: 0.9202\n",
            "Epoch 25/25\n",
            "1875/1875 [==============================] - 5s 3ms/step - loss: 0.2198 - accuracy: 0.9211\n",
            "313/313 [==============================] - 1s 3ms/step - loss: 0.2795 - accuracy: 0.9010\n",
            "Test accuracy: 0.9010000228881836\n"
          ]
        }
      ],
      "source": [
        "# Ejecutamos el entrenamiento \n",
        "model.compile(loss='sparse_categorical_crossentropy',\n",
        "              optimizer='sgd',\n",
        "              metrics=['accuracy'])\n",
        "\n",
        "model.fit(train_images, train_labels,epochs=25)\n",
        "test_loss, test_acc = model.evaluate(test_images, test_labels)\n",
        "\n",
        "print('Test accuracy:', test_acc)"
      ]
    },
    {
      "cell_type": "markdown",
      "metadata": {
        "id": "NAW6I_rl_gtG"
      },
      "source": [
        "Para los datos de entrenamiento,obtenemos una precisión de un 92% y una pérdida del 22% aproximadamente.\n",
        "Al compararlo con los datos de prueba, vemos que la pérdida aumenta hasta un 28% y una precisión de un 90% aproximadamente."
      ]
    },
    {
      "cell_type": "code",
      "execution_count": null,
      "metadata": {
        "colab": {
          "base_uri": "https://localhost:8080/",
          "height": 1000
        },
        "id": "yw8jIlUzlojW",
        "outputId": "ac28ca39-b8c9-44d0-c771-e618a67a84b9"
      },
      "outputs": [
        {
          "name": "stdout",
          "output_type": "stream",
          "text": [
            "313/313 [==============================] - 1s 2ms/step\n"
          ]
        },
        {
          "data": {
            "image/png": "[encoded data removed]",
            "text/plain": [
              "<Figure size 432x216 with 2 Axes>"
            ]
          },
          "metadata": {},
          "output_type": "display_data"
        },
        {
          "data": {
            "text/plain": [
              "<Figure size 432x288 with 0 Axes>"
            ]
          },
          "metadata": {},
          "output_type": "display_data"
        },
        {
          "data": {
            "image/png": "[encoded data removed]",
            "text/plain": [
              "<Figure size 432x216 with 2 Axes>"
            ]
          },
          "metadata": {},
          "output_type": "display_data"
        },
        {
          "data": {
            "text/plain": [
              "<Figure size 432x288 with 0 Axes>"
            ]
          },
          "metadata": {},
          "output_type": "display_data"
        },
        {
          "data": {
            "image/png": "[encoded data removed]",
            "text/plain": [
              "<Figure size 432x216 with 2 Axes>"
            ]
          },
          "metadata": {},
          "output_type": "display_data"
        },
        {
          "data": {
            "text/plain": [
              "<Figure size 432x288 with 0 Axes>"
            ]
          },
          "metadata": {},
          "output_type": "display_data"
        },
        {
          "data": {
            "image/png": "[encoded data removed]",
            "text/plain": [
              "<Figure size 432x216 with 2 Axes>"
            ]
          },
          "metadata": {},
          "output_type": "display_data"
        },
        {
          "data": {
            "text/plain": [
              "<Figure size 432x288 with 0 Axes>"
            ]
          },
          "metadata": {},
          "output_type": "display_data"
        },
        {
          "data": {
            "image/png": "[encoded data removed]",
            "text/plain": [
              "<Figure size 432x216 with 2 Axes>"
            ]
          },
          "metadata": {},
          "output_type": "display_data"
        },
        {
          "data": {
            "text/plain": [
              "<Figure size 432x288 with 0 Axes>"
            ]
          },
          "metadata": {},
          "output_type": "display_data"
        },
        {
          "data": {
            "image/png": "[encoded data removed]",
            "text/plain": [
              "<Figure size 432x216 with 2 Axes>"
            ]
          },
          "metadata": {},
          "output_type": "display_data"
        },
        {
          "data": {
            "text/plain": [
              "<Figure size 432x288 with 0 Axes>"
            ]
          },
          "metadata": {},
          "output_type": "display_data"
        },
        {
          "data": {
            "image/png": "[encoded data removed]",
            "text/plain": [
              "<Figure size 432x216 with 2 Axes>"
            ]
          },
          "metadata": {},
          "output_type": "display_data"
        },
        {
          "data": {
            "text/plain": [
              "<Figure size 432x288 with 0 Axes>"
            ]
          },
          "metadata": {},
          "output_type": "display_data"
        },
        {
          "data": {
            "image/png": "[encoded data removed]",
            "text/plain": [
              "<Figure size 432x216 with 2 Axes>"
            ]
          },
          "metadata": {},
          "output_type": "display_data"
        },
        {
          "data": {
            "text/plain": [
              "<Figure size 432x288 with 0 Axes>"
            ]
          },
          "metadata": {},
          "output_type": "display_data"
        },
        {
          "data": {
            "image/png": "[encoded data removed]",
            "text/plain": [
              "<Figure size 432x216 with 2 Axes>"
            ]
          },
          "metadata": {},
          "output_type": "display_data"
        },
        {
          "data": {
            "text/plain": [
              "<Figure size 432x288 with 0 Axes>"
            ]
          },
          "metadata": {},
          "output_type": "display_data"
        },
        {
          "data": {
            "image/png": "[encoded data removed]",
            "text/plain": [
              "<Figure size 432x216 with 2 Axes>"
            ]
          },
          "metadata": {},
          "output_type": "display_data"
        },
        {
          "data": {
            "text/plain": [
              "<Figure size 432x288 with 0 Axes>"
            ]
          },
          "metadata": {},
          "output_type": "display_data"
        },
        {
          "data": {
            "image/png": "[encoded data removed]",
            "text/plain": [
              "<Figure size 432x216 with 2 Axes>"
            ]
          },
          "metadata": {},
          "output_type": "display_data"
        },
        {
          "data": {
            "text/plain": [
              "<Figure size 432x288 with 0 Axes>"
            ]
          },
          "metadata": {},
          "output_type": "display_data"
        },
        {
          "data": {
            "image/png": "[encoded data removed]",
            "text/plain": [
              "<Figure size 432x216 with 2 Axes>"
            ]
          },
          "metadata": {},
          "output_type": "display_data"
        },
        {
          "data": {
            "text/plain": [
              "<Figure size 432x288 with 0 Axes>"
            ]
          },
          "metadata": {},
          "output_type": "display_data"
        },
        {
          "data": {
            "image/png": "[encoded data removed]",
            "text/plain": [
              "<Figure size 432x216 with 2 Axes>"
            ]
          },
          "metadata": {},
          "output_type": "display_data"
        },
        {
          "data": {
            "text/plain": [
              "<Figure size 432x288 with 0 Axes>"
            ]
          },
          "metadata": {},
          "output_type": "display_data"
        },
        {
          "data": {
            "image/png": "[encoded data removed]",
            "text/plain": [
              "<Figure size 432x216 with 2 Axes>"
            ]
          },
          "metadata": {},
          "output_type": "display_data"
        },
        {
          "data": {
            "text/plain": [
              "<Figure size 432x288 with 0 Axes>"
            ]
          },
          "metadata": {},
          "output_type": "display_data"
        }
      ],
      "source": [
        "predictions = model.predict(test_images)\n",
        "\n",
        "for i in range(14):\n",
        "  plt.figure(figsize=(6,3))\n",
        "  plt.subplot(1,2,1)\n",
        "  plot_image(i, predictions[i], test_labels, test_images.reshape(10000,28,28))\n",
        "  plt.subplot(1,2,2)\n",
        "  plot_value_array(i, predictions[i],  test_labels)\n",
        "  plt.show()\n",
        "  plt.clf()"
      ]
    },
    {
      "cell_type": "markdown",
      "metadata": {
        "id": "infyI3BbANtf"
      },
      "source": [
        "Comentarios sobre las imágenes:\n",
        "\n",
        "Volvemos a obtener resultados semejantes a los del caso anterior. La mayoría de las imágenes son clasificadas correctamente y con porcentajes bastante altos, excepto la penúltima del zapato."
      ]
    },
    {
      "cell_type": "code",
      "execution_count": null,
      "metadata": {
        "colab": {
          "base_uri": "https://localhost:8080/"
        },
        "id": "fxkPPQQXluAN",
        "outputId": "b63c6c61-88f5-49cd-aeee-7063fbf03e95"
      },
      "outputs": [
        {
          "output_type": "stream",
          "name": "stdout",
          "text": [
            "=VEMOS LA PREDICCIÓN DEL ELEMENTO 6 (QUE DEBERÍA SER UN 1)============\n",
            "[0. 1. 0. 0. 0. 0. 0. 0. 0. 0.]\n",
            "=======================================================================\n",
            "=VEMOS LA PREDICCIÓN DEL ELEMENTO 6 (QUE DEBERÍA SER UN 1)============\n",
            "1\n"
          ]
        }
      ],
      "source": [
        "\n",
        "print(\"=VEMOS LA PREDICCIÓN DEL ELEMENTO 6 (QUE DEBERÍA SER UN 1)============\")\n",
        "print(predictions[5])\n",
        "print(\"=======================================================================\")\n",
        "print(\"=VEMOS LA PREDICCIÓN DEL ELEMENTO 6 (QUE DEBERÍA SER UN 1)============\")\n",
        "print(np.argmax(predictions[5]))"
      ]
    },
    {
      "cell_type": "markdown",
      "metadata": {
        "id": "u-9j2mJ8-nO0"
      },
      "source": [
        "El modelo clasifica correctamente la imagen con un 100%.\n",
        "\n",
        "*Conclusiones caso 1 (25 épocas):*\n",
        "Vemos que al añadir 20 épocas más,tanto la precisión como la pérdida que hemos obtenido ahora son mucho mejores que en el caso de no añadir esas épocas."
      ]
    },
    {
      "cell_type": "markdown",
      "metadata": {
        "id": "MFa-pWAforj8"
      },
      "source": [
        "**Caso 1: usamos tanh como función de activación**"
      ]
    },
    {
      "cell_type": "markdown",
      "metadata": {
        "id": "QSsfLtBi-5RL"
      },
      "source": [
        "En lugar de usar como función de activación `relu` , usaremos `tanh`."
      ]
    },
    {
      "cell_type": "code",
      "execution_count": null,
      "metadata": {
        "id": "yXqOCUhCpApk"
      },
      "outputs": [],
      "source": [
        "#Normalizamos los datos\n",
        "from keras.datasets import fashion_mnist\n",
        "\n",
        "(train_images, train_labels), (test_images, test_labels) = fashion_mnist.load_data()\n",
        "\n",
        "train_images = train_images.reshape((60000, 28,28,1))\n",
        "train_images = train_images.astype('float32') / 255\n",
        "\n",
        "test_images = test_images.reshape((10000, 28,28,1))\n",
        "test_images = test_images.astype('float32') / 255"
      ]
    },
    {
      "cell_type": "code",
      "execution_count": null,
      "metadata": {
        "colab": {
          "base_uri": "https://localhost:8080/"
        },
        "id": "qe-aaOH9pG-i",
        "outputId": "1f9920a9-97b2-49c2-c0d0-93c5e43b7117"
      },
      "outputs": [
        {
          "output_type": "stream",
          "name": "stdout",
          "text": [
            "Model: \"sequential_6\"\n",
            "_________________________________________________________________\n",
            " Layer (type)                Output Shape              Param #   \n",
            "=================================================================\n",
            " conv2d_12 (Conv2D)          (None, 24, 24, 32)        832       \n",
            "                                                                 \n",
            " max_pooling2d_12 (MaxPoolin  (None, 12, 12, 32)       0         \n",
            " g2D)                                                            \n",
            "                                                                 \n",
            " conv2d_13 (Conv2D)          (None, 10, 10, 64)        18496     \n",
            "                                                                 \n",
            " max_pooling2d_13 (MaxPoolin  (None, 5, 5, 64)         0         \n",
            " g2D)                                                            \n",
            "                                                                 \n",
            " flatten_6 (Flatten)         (None, 1600)              0         \n",
            "                                                                 \n",
            " dense_9 (Dense)             (None, 65)                104065    \n",
            "                                                                 \n",
            " dense_10 (Dense)            (None, 10)                660       \n",
            "                                                                 \n",
            "=================================================================\n",
            "Total params: 124,053\n",
            "Trainable params: 124,053\n",
            "Non-trainable params: 0\n",
            "_________________________________________________________________\n"
          ]
        }
      ],
      "source": [
        "# Crear el Modelo de red neuronal CNN con:\n",
        "\n",
        "\n",
        "#Los datos vuelven a ser los mismos, solo hemos cambiado la función de activación.\n",
        "model_1= Sequential()\n",
        "\n",
        "model_1.add(Conv2D(32, (5, 5), activation='tanh',input_shape=(28,28,1)))\n",
        "model_1.add(MaxPooling2D((2, 2)))\n",
        "\n",
        "model_1.add(Conv2D(64, (3, 3), activation='tanh'))\n",
        "model_1.add(MaxPooling2D((2, 2)))\n",
        "\n",
        "model_1.add(Flatten())\n",
        "model_1.add(Dense(65, activation='relu'))\n",
        "model_1.add(Dense(10, activation='softmax'))\n",
        "\n",
        "model_1.summary()\n",
        "#832=((5x5)+1)x32 (filtros)\n",
        "#18.496=((9x32)+1)x64 (filtros)\n",
        "#104.065=((5x5x64)x65)+65\n",
        "#660=(65x10)+10\n",
        "#Total de parámetros=832+18.496+104.065+660=124.053"
      ]
    },
    {
      "cell_type": "code",
      "execution_count": null,
      "metadata": {
        "colab": {
          "base_uri": "https://localhost:8080/"
        },
        "id": "najJ5_JPqF2u",
        "outputId": "41d50b6f-8cb4-4a51-946a-f2ef964e70bf"
      },
      "outputs": [
        {
          "output_type": "stream",
          "name": "stdout",
          "text": [
            "Epoch 1/5\n",
            "1875/1875 [==============================] - 6s 3ms/step - loss: 0.7675 - accuracy: 0.7240\n",
            "Epoch 2/5\n",
            "1875/1875 [==============================] - 5s 3ms/step - loss: 0.4813 - accuracy: 0.8227\n",
            "Epoch 3/5\n",
            "1875/1875 [==============================] - 6s 3ms/step - loss: 0.4195 - accuracy: 0.8480\n",
            "Epoch 4/5\n",
            "1875/1875 [==============================] - 6s 3ms/step - loss: 0.3866 - accuracy: 0.8608\n",
            "Epoch 5/5\n",
            "1875/1875 [==============================] - 7s 4ms/step - loss: 0.3613 - accuracy: 0.8697\n",
            "313/313 [==============================] - 1s 4ms/step - loss: 0.3765 - accuracy: 0.8643\n",
            "Test accuracy: 0.864300012588501\n"
          ]
        }
      ],
      "source": [
        "#Compilamos el modelo\n",
        "model_1.compile(loss='sparse_categorical_crossentropy',\n",
        "              optimizer='sgd',\n",
        "              metrics=['accuracy'])\n",
        "\n",
        "# Ejecutamos el entrenamiento \n",
        "model_1.fit(train_images, train_labels,epochs=5)\n",
        "test_loss, test_acc = model_1.evaluate(test_images, test_labels)\n",
        "\n",
        "print('Test accuracy:', test_acc)"
      ]
    },
    {
      "cell_type": "markdown",
      "metadata": {
        "id": "9noEBODLE44a"
      },
      "source": [
        "Para los datos de entrenamiento, obtenemos una precisión de un 87% y una pérdida de un 36% aproximadamente.\n",
        "\n",
        "Al validarlo en nuestro conjunto de prueba,obtenemos una pérdida de un 38% y una precisión de un 86% aproximadamente."
      ]
    },
    {
      "cell_type": "code",
      "execution_count": null,
      "metadata": {
        "colab": {
          "base_uri": "https://localhost:8080/",
          "height": 1000
        },
        "id": "IwkUsQWdqJr7",
        "outputId": "7e99cc4f-447a-4aba-d7cb-6f2b4febb1e6"
      },
      "outputs": [
        {
          "output_type": "stream",
          "name": "stdout",
          "text": [
            "313/313 [==============================] - 1s 2ms/step\n"
          ]
        },
        {
          "output_type": "display_data",
          "data": {
            "text/plain": [
              "<Figure size 432x216 with 2 Axes>"
            ],
            "image/png": "[encoded data removed]"
          },
          "metadata": {
            "needs_background": "light"
          }
        },
        {
          "output_type": "display_data",
          "data": {
            "text/plain": [
              "<Figure size 432x288 with 0 Axes>"
            ]
          },
          "metadata": {}
        },
        {
          "output_type": "display_data",
          "data": {
            "text/plain": [
              "<Figure size 432x216 with 2 Axes>"
            ],
            "image/png": "[encoded data removed]"
          },
          "metadata": {
            "needs_background": "light"
          }
        },
        {
          "output_type": "display_data",
          "data": {
            "text/plain": [
              "<Figure size 432x288 with 0 Axes>"
            ]
          },
          "metadata": {}
        },
        {
          "output_type": "display_data",
          "data": {
            "text/plain": [
              "<Figure size 432x216 with 2 Axes>"
            ],
            "image/png": "[encoded data removed]"
          },
          "metadata": {
            "needs_background": "light"
          }
        },
        {
          "output_type": "display_data",
          "data": {
            "text/plain": [
              "<Figure size 432x288 with 0 Axes>"
            ]
          },
          "metadata": {}
        },
        {
          "output_type": "display_data",
          "data": {
            "text/plain": [
              "<Figure size 432x216 with 2 Axes>"
            ],
            "image/png": "[encoded data removed]"
          },
          "metadata": {
            "needs_background": "light"
          }
        },
        {
          "output_type": "display_data",
          "data": {
            "text/plain": [
              "<Figure size 432x288 with 0 Axes>"
            ]
          },
          "metadata": {}
        },
        {
          "output_type": "display_data",
          "data": {
            "text/plain": [
              "<Figure size 432x216 with 2 Axes>"
            ],
            "image/png": "[encoded data removed]"
          },
          "metadata": {
            "needs_background": "light"
          }
        },
        {
          "output_type": "display_data",
          "data": {
            "text/plain": [
              "<Figure size 432x288 with 0 Axes>"
            ]
          },
          "metadata": {}
        },
        {
          "output_type": "display_data",
          "data": {
            "text/plain": [
              "<Figure size 432x216 with 2 Axes>"
            ],
            "image/png": "[encoded data removed]"
          },
          "metadata": {
            "needs_background": "light"
          }
        },
        {
          "output_type": "display_data",
          "data": {
            "text/plain": [
              "<Figure size 432x288 with 0 Axes>"
            ]
          },
          "metadata": {}
        },
        {
          "output_type": "display_data",
          "data": {
            "text/plain": [
              "<Figure size 432x216 with 2 Axes>"
            ],
            "image/png": "[encoded data removed]"
          },
          "metadata": {
            "needs_background": "light"
          }
        },
        {
          "output_type": "display_data",
          "data": {
            "text/plain": [
              "<Figure size 432x288 with 0 Axes>"
            ]
          },
          "metadata": {}
        },
        {
          "output_type": "display_data",
          "data": {
            "text/plain": [
              "<Figure size 432x216 with 2 Axes>"
            ],
            "image/png": "[encoded data removed]"
          },
          "metadata": {
            "needs_background": "light"
          }
        },
        {
          "output_type": "display_data",
          "data": {
            "text/plain": [
              "<Figure size 432x288 with 0 Axes>"
            ]
          },
          "metadata": {}
        },
        {
          "output_type": "display_data",
          "data": {
            "text/plain": [
              "<Figure size 432x216 with 2 Axes>"
            ],
            "image/png": "[encoded data removed]"
          },
          "metadata": {
            "needs_background": "light"
          }
        },
        {
          "output_type": "display_data",
          "data": {
            "text/plain": [
              "<Figure size 432x288 with 0 Axes>"
            ]
          },
          "metadata": {}
        },
        {
          "output_type": "display_data",
          "data": {
            "text/plain": [
              "<Figure size 432x216 with 2 Axes>"
            ],
            "image/png": "[encoded data removed]"
          },
          "metadata": {
            "needs_background": "light"
          }
        },
        {
          "output_type": "display_data",
          "data": {
            "text/plain": [
              "<Figure size 432x288 with 0 Axes>"
            ]
          },
          "metadata": {}
        },
        {
          "output_type": "display_data",
          "data": {
            "text/plain": [
              "<Figure size 432x216 with 2 Axes>"
            ],
            "image/png": "[encoded data removed]"
          },
          "metadata": {
            "needs_background": "light"
          }
        },
        {
          "output_type": "display_data",
          "data": {
            "text/plain": [
              "<Figure size 432x288 with 0 Axes>"
            ]
          },
          "metadata": {}
        },
        {
          "output_type": "display_data",
          "data": {
            "text/plain": [
              "<Figure size 432x216 with 2 Axes>"
            ],
            "image/png": "[encoded data removed]"
          },
          "metadata": {
            "needs_background": "light"
          }
        },
        {
          "output_type": "display_data",
          "data": {
            "text/plain": [
              "<Figure size 432x288 with 0 Axes>"
            ]
          },
          "metadata": {}
        },
        {
          "output_type": "display_data",
          "data": {
            "text/plain": [
              "<Figure size 432x216 with 2 Axes>"
            ],
            "image/png": "[encoded data removed]"
          },
          "metadata": {
            "needs_background": "light"
          }
        },
        {
          "output_type": "display_data",
          "data": {
            "text/plain": [
              "<Figure size 432x288 with 0 Axes>"
            ]
          },
          "metadata": {}
        },
        {
          "output_type": "display_data",
          "data": {
            "text/plain": [
              "<Figure size 432x216 with 2 Axes>"
            ],
            "image/png": "[encoded data removed]"
          },
          "metadata": {
            "needs_background": "light"
          }
        },
        {
          "output_type": "display_data",
          "data": {
            "text/plain": [
              "<Figure size 432x288 with 0 Axes>"
            ]
          },
          "metadata": {}
        }
      ],
      "source": [
        "\n",
        "predictions= model_1.predict(test_images)\n",
        "\n",
        "for i in range(14):\n",
        "  plt.figure(figsize=(6,3))\n",
        "  plt.subplot(1,2,1)\n",
        "  plot_image(i, predictions[i], test_labels, test_images.reshape(10000,28,28))\n",
        "  plt.subplot(1,2,2)\n",
        "  plot_value_array(i, predictions[i],  test_labels)\n",
        "  plt.show()\n",
        "  plt.clf()"
      ]
    },
    {
      "cell_type": "markdown",
      "metadata": {
        "id": "tTc73UUkFtAo"
      },
      "source": [
        "Comentarios sobre las imágenes:\n",
        "\n",
        "En este caso, todas las imágenes son clasificadas correctamente."
      ]
    },
    {
      "cell_type": "code",
      "execution_count": null,
      "metadata": {
        "colab": {
          "base_uri": "https://localhost:8080/",
          "height": 265
        },
        "id": "wXoaJ3KnqS2M",
        "outputId": "3ef3b9a7-a381-4c48-c4d2-7a6e44c46c5b"
      },
      "outputs": [
        {
          "output_type": "display_data",
          "data": {
            "text/plain": [
              "<Figure size 432x288 with 1 Axes>"
            ],
            "image/png": "[encoded data removed]"
          },
          "metadata": {
            "needs_background": "light"
          }
        }
      ],
      "source": [
        "# Veamos el sexto elemento\n",
        "from keras.datasets import fashion_mnist\n",
        "(train_images, train_labels), (test_images, test_labels) = fashion_mnist.load_data()\n",
        "\n",
        "digit = test_images[5]\n",
        "plt.imshow(digit, cmap=plt.cm.binary)\n",
        "plt.show()"
      ]
    },
    {
      "cell_type": "code",
      "execution_count": null,
      "metadata": {
        "colab": {
          "base_uri": "https://localhost:8080/"
        },
        "id": "cXdeblzSqnsC",
        "outputId": "4fe51b93-2230-4d91-e6c2-3a1aab0e9fbd"
      },
      "outputs": [
        {
          "output_type": "stream",
          "name": "stdout",
          "text": [
            "=VEMOS LA PREDICCIÓN DEL ELEMENTO 6 (QUE DEBERÍA SER UN 1)============\n",
            "[0.   0.99 0.   0.   0.   0.   0.   0.   0.   0.  ]\n",
            "=======================================================================\n",
            "=VEMOS LA PREDICCIÓN DEL ELEMENTO 6 (QUE DEBERÍA SER UN 1)============\n",
            "1\n"
          ]
        }
      ],
      "source": [
        "\n",
        "print(\"=VEMOS LA PREDICCIÓN DEL ELEMENTO 6 (QUE DEBERÍA SER UN 1)============\")\n",
        "print(predictions[5])\n",
        "print(\"=======================================================================\")\n",
        "print(\"=VEMOS LA PREDICCIÓN DEL ELEMENTO 6 (QUE DEBERÍA SER UN 1)============\")\n",
        "print(np.argmax(predictions[5]))"
      ]
    },
    {
      "cell_type": "markdown",
      "metadata": {
        "id": "xnrRqs25Fwnu"
      },
      "source": [
        "El modelo clasifica correctamente la imágen con un 99%.\n",
        "\n",
        "*Conclusiones caso 1 (`tanh`):*\n",
        "\n",
        "Tras implementar la función de activación `tanh` hemos obtenidos datos algo peores que al aplicar la función de ativación `relu`. Sin embargo, es notable que al aplicar la función de activación `relu` y 25 épocas es cuando hemos obtenido los mejores datos de precisión y pérdida."
      ]
    },
    {
      "cell_type": "markdown",
      "metadata": {
        "id": "Qf3CaM8ljEyq"
      },
      "source": [
        "***Caso 2***"
      ]
    },
    {
      "cell_type": "code",
      "execution_count": null,
      "metadata": {
        "id": "j4cyJ6j0jPh1"
      },
      "outputs": [],
      "source": [
        "#Normalizamos los datos\n",
        "from keras.datasets import fashion_mnist\n",
        "\n",
        "(train_images, train_labels), (test_images, test_labels) = fashion_mnist.load_data()\n",
        "train_images = train_images.reshape((60000, 28,28,1))\n",
        "train_images = train_images.astype('float32') / 255\n",
        "\n",
        "test_images = test_images.reshape((10000, 28,28,1))\n",
        "test_images = test_images.astype('float32') / 255"
      ]
    },
    {
      "cell_type": "code",
      "execution_count": null,
      "metadata": {
        "colab": {
          "base_uri": "https://localhost:8080/"
        },
        "id": "ORTGkeOWjHzG",
        "outputId": "d1006692-8ad4-429b-fbaa-1246967965fa"
      },
      "outputs": [
        {
          "output_type": "stream",
          "name": "stdout",
          "text": [
            "Model: \"sequential_8\"\n",
            "_________________________________________________________________\n",
            " Layer (type)                Output Shape              Param #   \n",
            "=================================================================\n",
            " conv2d_16 (Conv2D)          (None, 28, 28, 64)        3200      \n",
            "                                                                 \n",
            " max_pooling2d_16 (MaxPoolin  (None, 14, 14, 64)       0         \n",
            " g2D)                                                            \n",
            "                                                                 \n",
            " conv2d_17 (Conv2D)          (None, 14, 14, 128)       73856     \n",
            "                                                                 \n",
            " max_pooling2d_17 (MaxPoolin  (None, 7, 7, 128)        0         \n",
            " g2D)                                                            \n",
            "                                                                 \n",
            " flatten_8 (Flatten)         (None, 6272)              0         \n",
            "                                                                 \n",
            " dense_13 (Dense)            (None, 65)                407745    \n",
            "                                                                 \n",
            " dense_14 (Dense)            (None, 10)                660       \n",
            "                                                                 \n",
            "=================================================================\n",
            "Total params: 485,461\n",
            "Trainable params: 485,461\n",
            "Non-trainable params: 0\n",
            "_________________________________________________________________\n"
          ]
        }
      ],
      "source": [
        "# Crear el Modelo de red neuronal CNN con:\n",
        "model1= Sequential()\n",
        "#El número de filtros de la primera capa convolucional es 64 , el tamaño de la ventana 7x7 y la función de activación relu.\n",
        "model1.add(Conv2D(64, (7, 7), activation='relu',input_shape=(28,28,1),padding='same'))#queremos obtener un tensor de salida\n",
        "#La capa de pooling correspondiente es de 2x2                                        #de las mismas dimensiones que la entrada (se añaden tantas filas y columnas de ceros como sean necesarias)\n",
        "model1.add(MaxPooling2D((2, 2)))\n",
        "#El número de filtros de la segunda capa convolucional son 128, el tamaño de la ventana es 3x3 y la función de activación es relu.\n",
        "model1.add(Conv2D(128, (3, 3), activation='relu',padding='same'))\n",
        "#La ventana de pooling correspondiente es de 2x2\n",
        "model1.add(MaxPooling2D((2, 2)))\n",
        "\n",
        "model1.add(Flatten())\n",
        "#La primera capa Dense es de 65 neuronas y de función de activación relu.\n",
        "model1.add(Dense(65, activation='relu'))\n",
        "#La última capa tiene 10 nueronas y función de activación softmax.\n",
        "model1.add(Dense(10, activation='softmax'))\n",
        "\n",
        "model1.summary()\n",
        "#3.200=((7x7)+1)x64\n",
        "#73.856=((9x64)x128)+padding\n",
        "#407.745=(7x7x128)x65+65\n",
        "#660=65x10+10\n",
        "#485.461=3.200+73.856+407.745+660 (total de parámetros entrenables)"
      ]
    },
    {
      "cell_type": "code",
      "execution_count": null,
      "metadata": {
        "colab": {
          "base_uri": "https://localhost:8080/"
        },
        "id": "bs_u69-BkBIB",
        "outputId": "881f9ae9-db9d-4d84-8f63-27272a00a736"
      },
      "outputs": [
        {
          "output_type": "stream",
          "name": "stdout",
          "text": [
            "Epoch 1/5\n",
            "1875/1875 [==============================] - 6s 3ms/step - loss: 0.7921 - accuracy: 0.7131\n",
            "Epoch 2/5\n",
            "1875/1875 [==============================] - 6s 3ms/step - loss: 0.5111 - accuracy: 0.8148\n",
            "Epoch 3/5\n",
            "1875/1875 [==============================] - 6s 3ms/step - loss: 0.4349 - accuracy: 0.8446\n",
            "Epoch 4/5\n",
            "1875/1875 [==============================] - 6s 3ms/step - loss: 0.3952 - accuracy: 0.8575\n",
            "Epoch 5/5\n",
            "1875/1875 [==============================] - 6s 3ms/step - loss: 0.3686 - accuracy: 0.8676\n",
            "313/313 [==============================] - 1s 3ms/step - loss: 0.3741 - accuracy: 0.8665\n",
            "Test accuracy: 0.8665000200271606\n"
          ]
        }
      ],
      "source": [
        "#Compilamos el modelo\n",
        "model1.compile(loss='sparse_categorical_crossentropy',\n",
        "              optimizer='sgd',\n",
        "              metrics=['accuracy'])\n",
        "\n",
        "# Ejecutamos el entrenamiento \n",
        "model1.fit(train_images, train_labels,epochs=5)\n",
        "test_loss, test_acc = model1.evaluate(test_images, test_labels)\n",
        "\n",
        "print('Test accuracy:', test_acc)"
      ]
    },
    {
      "cell_type": "markdown",
      "metadata": {
        "id": "OLuAn1iRFssc"
      },
      "source": [
        "Para los datos de entrenamiento, obtenemos una pérdida de un 36% y una precisión de un 87% aproximadamente.\n",
        "\n",
        "Al validarlo en nuestro conjunto de prueba, obtenemos una pérdida de un 37% y una precisión de un 86%."
      ]
    },
    {
      "cell_type": "code",
      "execution_count": null,
      "metadata": {
        "colab": {
          "base_uri": "https://localhost:8080/",
          "height": 1000
        },
        "id": "TUoAmBLUkXyB",
        "outputId": "ca0b75eb-5ea4-440a-b7f2-711e636849d6"
      },
      "outputs": [
        {
          "output_type": "stream",
          "name": "stdout",
          "text": [
            "313/313 [==============================] - 1s 2ms/step\n"
          ]
        },
        {
          "output_type": "display_data",
          "data": {
            "text/plain": [
              "<Figure size 432x216 with 2 Axes>"
            ],
            "image/png": "[encoded data removed]"
          },
          "metadata": {
            "needs_background": "light"
          }
        },
        {
          "output_type": "display_data",
          "data": {
            "text/plain": [
              "<Figure size 432x288 with 0 Axes>"
            ]
          },
          "metadata": {}
        },
        {
          "output_type": "display_data",
          "data": {
            "text/plain": [
              "<Figure size 432x216 with 2 Axes>"
            ],
            "image/png": "[encoded data removed]"
          },
          "metadata": {
            "needs_background": "light"
          }
        },
        {
          "output_type": "display_data",
          "data": {
            "text/plain": [
              "<Figure size 432x288 with 0 Axes>"
            ]
          },
          "metadata": {}
        },
        {
          "output_type": "display_data",
          "data": {
            "text/plain": [
              "<Figure size 432x216 with 2 Axes>"
            ],
            "image/png": "[encoded data removed]"
          },
          "metadata": {
            "needs_background": "light"
          }
        },
        {
          "output_type": "display_data",
          "data": {
            "text/plain": [
              "<Figure size 432x288 with 0 Axes>"
            ]
          },
          "metadata": {}
        },
        {
          "output_type": "display_data",
          "data": {
            "text/plain": [
              "<Figure size 432x216 with 2 Axes>"
            ],
            "image/png": "[encoded data removed]"
          },
          "metadata": {
            "needs_background": "light"
          }
        },
        {
          "output_type": "display_data",
          "data": {
            "text/plain": [
              "<Figure size 432x288 with 0 Axes>"
            ]
          },
          "metadata": {}
        },
        {
          "output_type": "display_data",
          "data": {
            "text/plain": [
              "<Figure size 432x216 with 2 Axes>"
            ],
            "image/png": "[encoded data removed]"
          },
          "metadata": {
            "needs_background": "light"
          }
        },
        {
          "output_type": "display_data",
          "data": {
            "text/plain": [
              "<Figure size 432x288 with 0 Axes>"
            ]
          },
          "metadata": {}
        },
        {
          "output_type": "display_data",
          "data": {
            "text/plain": [
              "<Figure size 432x216 with 2 Axes>"
            ],
            "image/png": "[encoded data removed]"
          },
          "metadata": {
            "needs_background": "light"
          }
        },
        {
          "output_type": "display_data",
          "data": {
            "text/plain": [
              "<Figure size 432x288 with 0 Axes>"
            ]
          },
          "metadata": {}
        },
        {
          "output_type": "display_data",
          "data": {
            "text/plain": [
              "<Figure size 432x216 with 2 Axes>"
            ],
            "image/png": "[encoded data removed]"
          },
          "metadata": {
            "needs_background": "light"
          }
        },
        {
          "output_type": "display_data",
          "data": {
            "text/plain": [
              "<Figure size 432x288 with 0 Axes>"
            ]
          },
          "metadata": {}
        },
        {
          "output_type": "display_data",
          "data": {
            "text/plain": [
              "<Figure size 432x216 with 2 Axes>"
            ],
            "image/png": "[encoded data removed]"
          },
          "metadata": {
            "needs_background": "light"
          }
        },
        {
          "output_type": "display_data",
          "data": {
            "text/plain": [
              "<Figure size 432x288 with 0 Axes>"
            ]
          },
          "metadata": {}
        },
        {
          "output_type": "display_data",
          "data": {
            "text/plain": [
              "<Figure size 432x216 with 2 Axes>"
            ],
            "image/png": "[encoded data removed]"
          },
          "metadata": {
            "needs_background": "light"
          }
        },
        {
          "output_type": "display_data",
          "data": {
            "text/plain": [
              "<Figure size 432x288 with 0 Axes>"
            ]
          },
          "metadata": {}
        },
        {
          "output_type": "display_data",
          "data": {
            "text/plain": [
              "<Figure size 432x216 with 2 Axes>"
            ],
            "image/png": "[encoded data removed]"
          },
          "metadata": {
            "needs_background": "light"
          }
        },
        {
          "output_type": "display_data",
          "data": {
            "text/plain": [
              "<Figure size 432x288 with 0 Axes>"
            ]
          },
          "metadata": {}
        },
        {
          "output_type": "display_data",
          "data": {
            "text/plain": [
              "<Figure size 432x216 with 2 Axes>"
            ],
            "image/png": "[encoded data removed]"
          },
          "metadata": {
            "needs_background": "light"
          }
        },
        {
          "output_type": "display_data",
          "data": {
            "text/plain": [
              "<Figure size 432x288 with 0 Axes>"
            ]
          },
          "metadata": {}
        },
        {
          "output_type": "display_data",
          "data": {
            "text/plain": [
              "<Figure size 432x216 with 2 Axes>"
            ],
            "image/png": "[encoded data removed]"
          },
          "metadata": {
            "needs_background": "light"
          }
        },
        {
          "output_type": "display_data",
          "data": {
            "text/plain": [
              "<Figure size 432x288 with 0 Axes>"
            ]
          },
          "metadata": {}
        },
        {
          "output_type": "display_data",
          "data": {
            "text/plain": [
              "<Figure size 432x216 with 2 Axes>"
            ],
            "image/png": "[encoded data removed]"
          },
          "metadata": {
            "needs_background": "light"
          }
        },
        {
          "output_type": "display_data",
          "data": {
            "text/plain": [
              "<Figure size 432x288 with 0 Axes>"
            ]
          },
          "metadata": {}
        },
        {
          "output_type": "display_data",
          "data": {
            "text/plain": [
              "<Figure size 432x216 with 2 Axes>"
            ],
            "image/png": "[encoded data removed]"
          },
          "metadata": {
            "needs_background": "light"
          }
        },
        {
          "output_type": "display_data",
          "data": {
            "text/plain": [
              "<Figure size 432x288 with 0 Axes>"
            ]
          },
          "metadata": {}
        }
      ],
      "source": [
        "\n",
        "predictions= model1.predict(test_images)\n",
        "\n",
        "for i in range(14):\n",
        "  plt.figure(figsize=(6,3))\n",
        "  plt.subplot(1,2,1)\n",
        "  plot_image(i, predictions[i], test_labels, test_images.reshape(10000,28,28))\n",
        "  plt.subplot(1,2,2)\n",
        "  plot_value_array(i, predictions[i],  test_labels)\n",
        "  plt.show()\n",
        "  plt.clf()"
      ]
    },
    {
      "cell_type": "markdown",
      "metadata": {
        "id": "xjHMsTyJGylJ"
      },
      "source": [
        "Comentarios sobre las imágenes: \n",
        "\n",
        "Se puede observar que el modelo clasifica correctamente todas las imágenes con porcentajes bastante altos,excepto la penúltima."
      ]
    },
    {
      "cell_type": "code",
      "execution_count": null,
      "metadata": {
        "colab": {
          "base_uri": "https://localhost:8080/",
          "height": 265
        },
        "id": "yDs-P4HBko7l",
        "outputId": "97099ed9-4e1b-4a4e-97cb-ebb3f2cbcdcf"
      },
      "outputs": [
        {
          "output_type": "display_data",
          "data": {
            "text/plain": [
              "<Figure size 432x288 with 1 Axes>"
            ],
            "image/png": "[encoded data removed]"
          },
          "metadata": {
            "needs_background": "light"
          }
        }
      ],
      "source": [
        "# Veamos el sexto elemento\n",
        "from keras.datasets import fashion_mnist\n",
        "(train_images, train_labels), (test_images, test_labels) = fashion_mnist.load_data()\n",
        "\n",
        "digit = test_images[5]\n",
        "plt.imshow(digit, cmap=plt.cm.binary)\n",
        "plt.show()"
      ]
    },
    {
      "cell_type": "markdown",
      "metadata": {
        "id": "D5LNN0AIHMnp"
      },
      "source": [
        "Generaremos una predicción sobre el sexto elemento."
      ]
    },
    {
      "cell_type": "code",
      "execution_count": null,
      "metadata": {
        "colab": {
          "base_uri": "https://localhost:8080/"
        },
        "id": "PxV53CkdkvZD",
        "outputId": "2e277079-ae89-4a36-dd53-c9e6c6ef9118"
      },
      "outputs": [
        {
          "output_type": "stream",
          "name": "stdout",
          "text": [
            "=VEMOS LA PREDICCIÓN DEL ELEMENTO 6 (QUE DEBERÍA SER UN 1)============\n",
            "[0. 1. 0. 0. 0. 0. 0. 0. 0. 0.]\n",
            "=======================================================================\n",
            "=VEMOS LA PREDICCIÓN DEL ELEMENTO 6 (QUE DEBERÍA SER UN 1)============\n",
            "1\n"
          ]
        }
      ],
      "source": [
        "\n",
        "print(\"=VEMOS LA PREDICCIÓN DEL ELEMENTO 6 (QUE DEBERÍA SER UN 1)============\")\n",
        "print(predictions[5])\n",
        "print(\"=======================================================================\")\n",
        "print(\"=VEMOS LA PREDICCIÓN DEL ELEMENTO 6 (QUE DEBERÍA SER UN 1)============\")\n",
        "print(np.argmax(predictions[5]))"
      ]
    },
    {
      "cell_type": "markdown",
      "metadata": {
        "id": "nekpKLdXHROx"
      },
      "source": [
        "El modelo clasifica correctamente el sexto elemento con un 100%\n",
        "\n",
        "*Conclusiones caso 2:*\n",
        "\n",
        "Hemos obtenido unos datos bastante semejantes a los del caso 1.Sin embargo, hay que destacar que aunque la precisión es parecida, la pérdida es algo inferior."
      ]
    },
    {
      "cell_type": "markdown",
      "metadata": {
        "id": "hEy8MdpDk_U_"
      },
      "source": [
        "***Caso 3***\n"
      ]
    },
    {
      "cell_type": "code",
      "execution_count": null,
      "metadata": {
        "id": "WRwnUGkelEgW"
      },
      "outputs": [],
      "source": [
        "from keras.datasets import fashion_mnist\n",
        "\n",
        "(train_images, train_labels), (test_images, test_labels) = fashion_mnist.load_data()\n",
        "train_images = train_images.reshape((60000, 28,28,1))\n",
        "train_images = train_images.astype('float32') / 255\n",
        "\n",
        "test_images = test_images.reshape((10000, 28,28,1))\n",
        "test_images = test_images.astype('float32') / 255"
      ]
    },
    {
      "cell_type": "code",
      "execution_count": null,
      "metadata": {
        "colab": {
          "base_uri": "https://localhost:8080/"
        },
        "id": "seoS-VN3lJcG",
        "outputId": "1e58bb87-0306-4341-abbe-0842fe1845ad"
      },
      "outputs": [
        {
          "output_type": "stream",
          "name": "stdout",
          "text": [
            "Model: \"sequential_9\"\n",
            "_________________________________________________________________\n",
            " Layer (type)                Output Shape              Param #   \n",
            "=================================================================\n",
            " conv2d_18 (Conv2D)          (None, 28, 28, 64)        3200      \n",
            "                                                                 \n",
            " max_pooling2d_18 (MaxPoolin  (None, 14, 14, 64)       0         \n",
            " g2D)                                                            \n",
            "                                                                 \n",
            " conv2d_19 (Conv2D)          (None, 14, 14, 128)       73856     \n",
            "                                                                 \n",
            " max_pooling2d_19 (MaxPoolin  (None, 7, 7, 128)        0         \n",
            " g2D)                                                            \n",
            "                                                                 \n",
            " flatten_9 (Flatten)         (None, 6272)              0         \n",
            "                                                                 \n",
            " dense_15 (Dense)            (None, 65)                407745    \n",
            "                                                                 \n",
            " dense_16 (Dense)            (None, 10)                660       \n",
            "                                                                 \n",
            "=================================================================\n",
            "Total params: 485,461\n",
            "Trainable params: 485,461\n",
            "Non-trainable params: 0\n",
            "_________________________________________________________________\n"
          ]
        }
      ],
      "source": [
        "# Crear el Modelo de red neuronal CNN con:\n",
        "model2= Sequential()\n",
        "#El número de filtros de la primera capa convolucional es de 64, la ventana es de 7x7 y la función de activación es relu\n",
        "model2.add(Conv2D(64, (7, 7), activation='relu',input_shape=(28,28,1),padding='same'))\n",
        "#La ventana de pooling correspondiente es de 2x2\n",
        "model2.add(MaxPooling2D((2, 2)))\n",
        "#El número de filtros de la segunda capa convolucional es de 128, la ventana es de 3x3 y la función de actiación es relu.\n",
        "model2.add(Conv2D(128, (3, 3), activation='relu',padding='same'))\n",
        "#La ventana de pooling correspondiente es de 2x2\n",
        "model2.add(MaxPooling2D((2, 2)))\n",
        "\n",
        "model2.add(Flatten())\n",
        "#La primera capa Dense es de 65 neuronas y función de activación relu.\n",
        "model2.add(Dense(65, activation='relu'))\n",
        "#La última capa Dense es de 10 neuronas y función de activación softmax\n",
        "model2.add(Dense(10, activation='softmax'))\n",
        "\n",
        "model2.summary()\n",
        "#3.200=((7x7)+1)x64\n",
        "#73.856=((9x64)x128)+padding\n",
        "#407.745=(7x7x128)x65+65\n",
        "#660=65x10+10\n",
        "#485.461=3.200+73.856+407.745+660"
      ]
    },
    {
      "cell_type": "code",
      "execution_count": null,
      "metadata": {
        "colab": {
          "base_uri": "https://localhost:8080/"
        },
        "id": "tjDKIi3UlnQ5",
        "outputId": "376edb79-b2a4-422b-afee-245db7ceb9ae"
      },
      "outputs": [
        {
          "output_type": "stream",
          "name": "stdout",
          "text": [
            "Epoch 1/5\n",
            "1875/1875 [==============================] - 7s 3ms/step - loss: 0.4177 - accuracy: 0.8506\n",
            "Epoch 2/5\n",
            "1875/1875 [==============================] - 6s 3ms/step - loss: 0.2727 - accuracy: 0.8993\n",
            "Epoch 3/5\n",
            "1875/1875 [==============================] - 6s 3ms/step - loss: 0.2269 - accuracy: 0.9159\n",
            "Epoch 4/5\n",
            "1875/1875 [==============================] - 6s 3ms/step - loss: 0.1975 - accuracy: 0.9259\n",
            "Epoch 5/5\n",
            "1875/1875 [==============================] - 6s 3ms/step - loss: 0.1722 - accuracy: 0.9351\n",
            "313/313 [==============================] - 1s 3ms/step - loss: 0.2552 - accuracy: 0.9101\n",
            "Test accuracy: 0.910099983215332\n"
          ]
        }
      ],
      "source": [
        "#Compilamos el modelo\n",
        "model2.compile(loss='sparse_categorical_crossentropy',\n",
        "               # en este caso el optimizador es Adam.\n",
        "              optimizer='adam',\n",
        "              metrics=['accuracy'])\n",
        "\n",
        "# Ejecutamos el entrenamiento \n",
        "model2.fit(train_images, train_labels,epochs=5)\n",
        "test_loss, test_acc = model2.evaluate(test_images, test_labels)\n",
        "\n",
        "print('Test accuracy:', test_acc)"
      ]
    },
    {
      "cell_type": "markdown",
      "metadata": {
        "id": "j0ZzpokeJ6LR"
      },
      "source": [
        "Para nuestros datos de entrenamiento, obtenemos una pérdida de un 17% y una precisión de un 94% aproximadamente.\n",
        "\n",
        "Al validarlo contra el conjunto de prueba la pérdida aumenta a un 26% y la precisión disminuye a un 91% aproximadamente."
      ]
    },
    {
      "cell_type": "code",
      "execution_count": null,
      "metadata": {
        "colab": {
          "base_uri": "https://localhost:8080/",
          "height": 1000
        },
        "id": "uPSOUVQql9FS",
        "outputId": "29be5184-455d-4e91-e673-f7f6ad8a69ef"
      },
      "outputs": [
        {
          "output_type": "stream",
          "name": "stdout",
          "text": [
            "313/313 [==============================] - 1s 2ms/step\n"
          ]
        },
        {
          "output_type": "display_data",
          "data": {
            "text/plain": [
              "<Figure size 432x216 with 2 Axes>"
            ],
            "image/png": "[encoded data removed]"
          },
          "metadata": {
            "needs_background": "light"
          }
        },
        {
          "output_type": "display_data",
          "data": {
            "text/plain": [
              "<Figure size 432x288 with 0 Axes>"
            ]
          },
          "metadata": {}
        },
        {
          "output_type": "display_data",
          "data": {
            "text/plain": [
              "<Figure size 432x216 with 2 Axes>"
            ],
            "image/png": "[encoded data removed]"
          },
          "metadata": {
            "needs_background": "light"
          }
        },
        {
          "output_type": "display_data",
          "data": {
            "text/plain": [
              "<Figure size 432x288 with 0 Axes>"
            ]
          },
          "metadata": {}
        },
        {
          "output_type": "display_data",
          "data": {
            "text/plain": [
              "<Figure size 432x216 with 2 Axes>"
            ],
            "image/png": "[encoded data removed]"
          },
          "metadata": {
            "needs_background": "light"
          }
        },
        {
          "output_type": "display_data",
          "data": {
            "text/plain": [
              "<Figure size 432x288 with 0 Axes>"
            ]
          },
          "metadata": {}
        },
        {
          "output_type": "display_data",
          "data": {
            "text/plain": [
              "<Figure size 432x216 with 2 Axes>"
            ],
            "image/png": "[encoded data removed]"
          },
          "metadata": {
            "needs_background": "light"
          }
        },
        {
          "output_type": "display_data",
          "data": {
            "text/plain": [
              "<Figure size 432x288 with 0 Axes>"
            ]
          },
          "metadata": {}
        },
        {
          "output_type": "display_data",
          "data": {
            "text/plain": [
              "<Figure size 432x216 with 2 Axes>"
            ],
            "image/png": "[encoded data removed]"
          },
          "metadata": {
            "needs_background": "light"
          }
        },
        {
          "output_type": "display_data",
          "data": {
            "text/plain": [
              "<Figure size 432x288 with 0 Axes>"
            ]
          },
          "metadata": {}
        },
        {
          "output_type": "display_data",
          "data": {
            "text/plain": [
              "<Figure size 432x216 with 2 Axes>"
            ],
            "image/png": "[encoded data removed]"
          },
          "metadata": {
            "needs_background": "light"
          }
        },
        {
          "output_type": "display_data",
          "data": {
            "text/plain": [
              "<Figure size 432x288 with 0 Axes>"
            ]
          },
          "metadata": {}
        },
        {
          "output_type": "display_data",
          "data": {
            "text/plain": [
              "<Figure size 432x216 with 2 Axes>"
            ],
            "image/png": "[encoded data removed]"
          },
          "metadata": {
            "needs_background": "light"
          }
        },
        {
          "output_type": "display_data",
          "data": {
            "text/plain": [
              "<Figure size 432x288 with 0 Axes>"
            ]
          },
          "metadata": {}
        },
        {
          "output_type": "display_data",
          "data": {
            "text/plain": [
              "<Figure size 432x216 with 2 Axes>"
            ],
            "image/png": "[encoded data removed]"
          },
          "metadata": {
            "needs_background": "light"
          }
        },
        {
          "output_type": "display_data",
          "data": {
            "text/plain": [
              "<Figure size 432x288 with 0 Axes>"
            ]
          },
          "metadata": {}
        },
        {
          "output_type": "display_data",
          "data": {
            "text/plain": [
              "<Figure size 432x216 with 2 Axes>"
            ],
            "image/png": "[encoded data removed]"
          },
          "metadata": {
            "needs_background": "light"
          }
        },
        {
          "output_type": "display_data",
          "data": {
            "text/plain": [
              "<Figure size 432x288 with 0 Axes>"
            ]
          },
          "metadata": {}
        },
        {
          "output_type": "display_data",
          "data": {
            "text/plain": [
              "<Figure size 432x216 with 2 Axes>"
            ],
            "image/png": "[encoded data removed]"
          },
          "metadata": {
            "needs_background": "light"
          }
        },
        {
          "output_type": "display_data",
          "data": {
            "text/plain": [
              "<Figure size 432x288 with 0 Axes>"
            ]
          },
          "metadata": {}
        },
        {
          "output_type": "display_data",
          "data": {
            "text/plain": [
              "<Figure size 432x216 with 2 Axes>"
            ],
            "image/png": "[encoded data removed]"
          },
          "metadata": {
            "needs_background": "light"
          }
        },
        {
          "output_type": "display_data",
          "data": {
            "text/plain": [
              "<Figure size 432x288 with 0 Axes>"
            ]
          },
          "metadata": {}
        },
        {
          "output_type": "display_data",
          "data": {
            "text/plain": [
              "<Figure size 432x216 with 2 Axes>"
            ],
            "image/png": "[encoded data removed]"
          },
          "metadata": {
            "needs_background": "light"
          }
        },
        {
          "output_type": "display_data",
          "data": {
            "text/plain": [
              "<Figure size 432x288 with 0 Axes>"
            ]
          },
          "metadata": {}
        },
        {
          "output_type": "display_data",
          "data": {
            "text/plain": [
              "<Figure size 432x216 with 2 Axes>"
            ],
            "image/png": "[encoded data removed]"
          },
          "metadata": {
            "needs_background": "light"
          }
        },
        {
          "output_type": "display_data",
          "data": {
            "text/plain": [
              "<Figure size 432x288 with 0 Axes>"
            ]
          },
          "metadata": {}
        },
        {
          "output_type": "display_data",
          "data": {
            "text/plain": [
              "<Figure size 432x216 with 2 Axes>"
            ],
            "image/png": "[encoded data removed]"
          },
          "metadata": {
            "needs_background": "light"
          }
        },
        {
          "output_type": "display_data",
          "data": {
            "text/plain": [
              "<Figure size 432x288 with 0 Axes>"
            ]
          },
          "metadata": {}
        }
      ],
      "source": [
        "\n",
        "predictions= model2.predict(test_images)\n",
        "\n",
        "for i in range(14):\n",
        "  plt.figure(figsize=(6,3))\n",
        "  plt.subplot(1,2,1)\n",
        "  plot_image(i, predictions[i], test_labels, test_images.reshape(10000,28,28))\n",
        "  plt.subplot(1,2,2)\n",
        "  plot_value_array(i, predictions[i],  test_labels)\n",
        "  plt.show()\n",
        "  plt.clf()"
      ]
    },
    {
      "cell_type": "markdown",
      "metadata": {
        "id": "dxookgEoKl4x"
      },
      "source": [
        "Comentarios sobre las imágenes:\n",
        "\n",
        "El modelo clasifica correctamente todas las imágenes."
      ]
    },
    {
      "cell_type": "code",
      "execution_count": null,
      "metadata": {
        "colab": {
          "base_uri": "https://localhost:8080/",
          "height": 265
        },
        "id": "AgCwqJvIl-uK",
        "outputId": "1bd2846f-13d8-44cf-c9f8-3091d6dd1d9b"
      },
      "outputs": [
        {
          "output_type": "display_data",
          "data": {
            "text/plain": [
              "<Figure size 432x288 with 1 Axes>"
            ],
            "image/png": "[encoded data removed]"
          },
          "metadata": {
            "needs_background": "light"
          }
        }
      ],
      "source": [
        "# Veamos el sexto elemento\n",
        "from keras.datasets import fashion_mnist\n",
        "(train_images, train_labels), (test_images, test_labels) = fashion_mnist.load_data()\n",
        "\n",
        "digit = test_images[5]\n",
        "plt.imshow(digit, cmap=plt.cm.binary)\n",
        "plt.show()"
      ]
    },
    {
      "cell_type": "markdown",
      "metadata": {
        "id": "Gy4i2nNOLLLO"
      },
      "source": [
        "Generaremos una predicción sobre el sexto elemento."
      ]
    },
    {
      "cell_type": "code",
      "execution_count": null,
      "metadata": {
        "colab": {
          "base_uri": "https://localhost:8080/"
        },
        "id": "5Cx5mmGlmGaO",
        "outputId": "2b1d39a7-5fa6-4ca6-de81-ef8e81ad0500"
      },
      "outputs": [
        {
          "output_type": "stream",
          "name": "stdout",
          "text": [
            "=VEMOS LA PREDICCIÓN DEL ELEMENTO 6 (QUE DEBERÍA SER UN 1)============\n",
            "[0. 1. 0. 0. 0. 0. 0. 0. 0. 0.]\n",
            "=======================================================================\n",
            "=VEMOS LA PREDICCIÓN DEL ELEMENTO 6 (QUE DEBERÍA SER UN 1)============\n",
            "1\n"
          ]
        }
      ],
      "source": [
        "\n",
        "print(\"=VEMOS LA PREDICCIÓN DEL ELEMENTO 6 (QUE DEBERÍA SER UN 1)============\")\n",
        "print(predictions[5])\n",
        "print(\"=======================================================================\")\n",
        "print(\"=VEMOS LA PREDICCIÓN DEL ELEMENTO 6 (QUE DEBERÍA SER UN 1)============\")\n",
        "print(np.argmax(predictions[5]))"
      ]
    },
    {
      "cell_type": "markdown",
      "metadata": {
        "id": "taL4ru4ZLPQM"
      },
      "source": [
        "Clasifica correctamente el sexto elemento con un 100%.\n",
        "\n",
        "*Conclusiones caso 3:*\n",
        "En este caso hemos obtenido la precisión más alta y la pérdida más baja."
      ]
    },
    {
      "cell_type": "markdown",
      "metadata": {
        "id": "R9viPOhSMl9b"
      },
      "source": [
        "*Conclusiones en comparación a los datos de la Práctica 1:*\n",
        "\n",
        "En la práctica 1, los resultados de precisión que hemos obtenido pueden llegar como mucho a un 89-90% aproximadamente. Sin embargo, si observamos los datos que hemos obtenido en la práctica 2; vemos que hemos llegado incluso a una precisión de un 94% aproximadamente.\n",
        "Esto se debe a que las redes de neuronas convolucionales proporcionan buenos resultados en el reconocimiento de la imegen.Las capas convolucionales aprenden patrones locales en pequeñas ventanas, a diferencia de las Dense que aprenden patrones globales."
      ]
    },
    {
      "cell_type": "markdown",
      "metadata": {
        "id": "jJbCsz23__Kv"
      },
      "source": [
        "# Estudio del `batch_normalization`.\n",
        "\n",
        "La normalización por lotes (Batch normalization) es una técnica que consiste en normalizar las activaciones de salida. Cuando se usa como optimizador el descenso de gradiente estocástisco,se normaliza los datos con la media y varianza de cada mini-lotede entrada."
      ]
    },
    {
      "cell_type": "code",
      "execution_count": null,
      "metadata": {
        "colab": {
          "base_uri": "https://localhost:8080/"
        },
        "id": "FjzqhwbJIG8F",
        "outputId": "8a9d02ab-cc71-4554-ea3a-71c3fe8c1d69"
      },
      "outputs": [
        {
          "output_type": "stream",
          "name": "stdout",
          "text": [
            "Model: \"sequential_11\"\n",
            "_________________________________________________________________\n",
            " Layer (type)                Output Shape              Param #   \n",
            "=================================================================\n",
            " conv2d_21 (Conv2D)          (None, 24, 24, 32)        832       \n",
            "                                                                 \n",
            " batch_normalization (BatchN  (None, 24, 24, 32)       128       \n",
            " ormalization)                                                   \n",
            "                                                                 \n",
            " activation (Activation)     (None, 24, 24, 32)        0         \n",
            "                                                                 \n",
            " max_pooling2d_20 (MaxPoolin  (None, 12, 12, 32)       0         \n",
            " g2D)                                                            \n",
            "                                                                 \n",
            " conv2d_22 (Conv2D)          (None, 8, 8, 64)          51264     \n",
            "                                                                 \n",
            " max_pooling2d_21 (MaxPoolin  (None, 4, 4, 64)         0         \n",
            " g2D)                                                            \n",
            "                                                                 \n",
            " flatten_10 (Flatten)        (None, 1024)              0         \n",
            "                                                                 \n",
            " dense_17 (Dense)            (None, 10)                10250     \n",
            "                                                                 \n",
            "=================================================================\n",
            "Total params: 62,474\n",
            "Trainable params: 62,410\n",
            "Non-trainable params: 64\n",
            "_________________________________________________________________\n"
          ]
        }
      ],
      "source": [
        "# Crear el Modelo de red neuronal CNN con:\n",
        "from tensorflow.keras.layers import BatchNormalization, Activation\n",
        "#Utilizaremos el modelo del caso 1\n",
        "model = Sequential()\n",
        "model.add(Conv2D(32,(5, 5),input_shape=(28, 28, 1)))\n",
        "# metemos el BatchNormalization\n",
        "model.add(BatchNormalization())\n",
        "model.add(Activation('relu'))\n",
        "model.add(MaxPooling2D((2, 2)))\n",
        "model.add(Conv2D(64, (5, 5), activation='relu'))\n",
        "model.add(MaxPooling2D((2, 2)))\n",
        "model.add(Flatten())\n",
        "model.add(Dense(10, activation='softmax'))\n",
        "\n",
        "\n",
        "model.summary()"
      ]
    },
    {
      "cell_type": "code",
      "execution_count": null,
      "metadata": {
        "id": "cCCe7nW2IORq"
      },
      "outputs": [],
      "source": [
        "#Compilamos el modelo\n",
        "model.compile(loss='sparse_categorical_crossentropy', \n",
        "              optimizer='sgd',\n",
        "              metrics=['accuracy']) \n",
        "                                   "
      ]
    },
    {
      "cell_type": "code",
      "execution_count": null,
      "metadata": {
        "colab": {
          "base_uri": "https://localhost:8080/"
        },
        "id": "pcJ8AWhDIQ5n",
        "outputId": "ec725f48-a5b3-4c03-c131-9f48b9498774"
      },
      "outputs": [
        {
          "output_type": "stream",
          "name": "stdout",
          "text": [
            "Epoch 1/5\n",
            "1875/1875 [==============================] - 6s 3ms/step - loss: 0.4812 - accuracy: 0.8298\n",
            "Epoch 2/5\n",
            "1875/1875 [==============================] - 7s 4ms/step - loss: 0.3365 - accuracy: 0.8803\n",
            "Epoch 3/5\n",
            "1875/1875 [==============================] - 7s 4ms/step - loss: 0.2957 - accuracy: 0.8955\n",
            "Epoch 4/5\n",
            "1875/1875 [==============================] - 7s 4ms/step - loss: 0.2693 - accuracy: 0.9043\n",
            "Epoch 5/5\n",
            "1875/1875 [==============================] - 7s 4ms/step - loss: 0.2497 - accuracy: 0.9099\n",
            "313/313 [==============================] - 1s 3ms/step - loss: 0.3117 - accuracy: 0.8905\n",
            "Test accuracy: 0.890500009059906\n"
          ]
        }
      ],
      "source": [
        "# Entrenamos el modelo\n",
        "model.fit(train_images, train_labels,epochs=5) \n",
        "test_loss, test_acc = model.evaluate(test_images, test_labels)\n",
        "print('Test accuracy:', test_acc)"
      ]
    },
    {
      "cell_type": "markdown",
      "source": [
        "Tras aplicar este parámetro, observamos que con respecto al caso 1 la pérdida ha disminuido (pérdida actual de un 25%) y la precisión ha aumentado (precisión actual 90%). Esto nos quiere decir que para el caso 1 sí puede ser una mejora en el entrenamiento."
      ],
      "metadata": {
        "id": "dDcNZMEsVmUf"
      }
    },
    {
      "cell_type": "markdown",
      "metadata": {
        "id": "OWp77CGHALaI"
      },
      "source": [
        "# Estudio del `dropout`."
      ]
    },
    {
      "cell_type": "markdown",
      "metadata": {
        "id": "sNBulvd_MNLo"
      },
      "source": [
        "El método de Dropout trata de desactivar, de forma aleatoria, neuronas de la red neuronal.\n",
        "\n",
        "Estas neuronas desactivadas no participan en el forwardpropagation ni el backwardpropagation, pues así las que siguen activas no dependen tanto de las que no. \n",
        "\n",
        "Se trata de evitar o reducir el sobreentrenamiento pues las neuronas aprenderán a trabajar más en solitario que en conjunto con el resto.\n",
        "\n",
        "Puede comprender valores entre 0 y 1. Cuendo el valor tiende a 0 se activarían más neuronas, mientras que cuando tiende a 1 habrían más neuronas desactivadas. Si el valor es 0.5, se activarían el mismo número de neuronas desactivadas."
      ]
    },
    {
      "cell_type": "code",
      "execution_count": null,
      "metadata": {
        "id": "lZSAXYWLNiqb"
      },
      "outputs": [],
      "source": [
        "from keras.datasets import fashion_mnist\n",
        "\n",
        "(train_images, train_labels), (test_images, test_labels) = fashion_mnist.load_data()\n",
        "train_images = train_images.reshape((60000, 28,28,1))\n",
        "train_images = train_images.astype('float32') / 255\n",
        "\n",
        "test_images = test_images.reshape((10000, 28,28,1))\n",
        "test_images = test_images.astype('float32') / 255\n",
        "\n",
        "validation_images=train_images[50000:]\n",
        "validation_labels=train_labels[50000:]\n",
        "\n",
        "train_images=train_images[0:49999]\n",
        "train_labels=train_labels[0:49999]\n"
      ]
    },
    {
      "cell_type": "code",
      "execution_count": null,
      "metadata": {
        "colab": {
          "base_uri": "https://localhost:8080/"
        },
        "id": "t0SmlN_GNl3O",
        "outputId": "708ab385-7a9a-4662-e3a4-f9eaad0c899b"
      },
      "outputs": [
        {
          "output_type": "stream",
          "name": "stdout",
          "text": [
            "Model: \"sequential_13\"\n",
            "_________________________________________________________________\n",
            " Layer (type)                Output Shape              Param #   \n",
            "=================================================================\n",
            " conv2d_25 (Conv2D)          (None, 28, 28, 64)        3200      \n",
            "                                                                 \n",
            " max_pooling2d_24 (MaxPoolin  (None, 14, 14, 64)       0         \n",
            " g2D)                                                            \n",
            "                                                                 \n",
            " conv2d_26 (Conv2D)          (None, 14, 14, 128)       73856     \n",
            "                                                                 \n",
            " max_pooling2d_25 (MaxPoolin  (None, 7, 7, 128)        0         \n",
            " g2D)                                                            \n",
            "                                                                 \n",
            " flatten_12 (Flatten)        (None, 6272)              0         \n",
            "                                                                 \n",
            " dense_20 (Dense)            (None, 65)                407745    \n",
            "                                                                 \n",
            " dropout_4 (Dropout)         (None, 65)                0         \n",
            "                                                                 \n",
            " dense_21 (Dense)            (None, 10)                660       \n",
            "                                                                 \n",
            "=================================================================\n",
            "Total params: 485,461\n",
            "Trainable params: 485,461\n",
            "Non-trainable params: 0\n",
            "_________________________________________________________________\n"
          ]
        }
      ],
      "source": [
        "# Crear el Modelo de red neuronal CNN con:\n",
        "from keras import layers\n",
        "\n",
        "#Usaremos el mismo modelo que en el caso 2\n",
        "model3= Sequential()\n",
        "\n",
        "model3.add(Conv2D(64, (7, 7), activation='relu',input_shape=(28,28,1),padding='same'))\n",
        "model3.add(MaxPooling2D((2, 2)))\n",
        "\n",
        "model3.add(Conv2D(128, (3, 3), activation='relu',padding='same'))\n",
        "\n",
        "model3.add(MaxPooling2D((2, 2)))\n",
        "\n",
        "model3.add(Flatten())\n",
        "\n",
        "model3.add(Dense(65, activation='relu'))\n",
        "model3.add(layers.Dropout(0.2))\n",
        "model3.add(Dense(10, activation='softmax'))\n",
        "\n",
        "model3.summary()\n"
      ]
    },
    {
      "cell_type": "code",
      "execution_count": null,
      "metadata": {
        "colab": {
          "base_uri": "https://localhost:8080/"
        },
        "id": "uj_IBN-65kLI",
        "outputId": "e570049f-2a3a-4bd9-f160-8fe998ec8627"
      },
      "outputs": [
        {
          "output_type": "stream",
          "name": "stdout",
          "text": [
            "Epoch 1/30\n",
            "1563/1563 [==============================] - 8s 5ms/step - loss: 0.8781 - accuracy: 0.6835 - val_loss: 0.5677 - val_accuracy: 0.7861\n",
            "Epoch 2/30\n",
            "1563/1563 [==============================] - 7s 4ms/step - loss: 0.5662 - accuracy: 0.7919 - val_loss: 0.4865 - val_accuracy: 0.8178\n",
            "Epoch 3/30\n",
            "1563/1563 [==============================] - 7s 4ms/step - loss: 0.4896 - accuracy: 0.8212 - val_loss: 0.4506 - val_accuracy: 0.8295\n",
            "Epoch 4/30\n",
            "1563/1563 [==============================] - 7s 5ms/step - loss: 0.4507 - accuracy: 0.8370 - val_loss: 0.4091 - val_accuracy: 0.8517\n",
            "Epoch 5/30\n",
            "1563/1563 [==============================] - 7s 4ms/step - loss: 0.4225 - accuracy: 0.8468 - val_loss: 0.3943 - val_accuracy: 0.8609\n",
            "Epoch 6/30\n",
            "1563/1563 [==============================] - 9s 5ms/step - loss: 0.4009 - accuracy: 0.8569 - val_loss: 0.3891 - val_accuracy: 0.8560\n",
            "Epoch 7/30\n",
            "1563/1563 [==============================] - 6s 4ms/step - loss: 0.3861 - accuracy: 0.8605 - val_loss: 0.3590 - val_accuracy: 0.8674\n",
            "Epoch 8/30\n",
            "1563/1563 [==============================] - 6s 4ms/step - loss: 0.3672 - accuracy: 0.8668 - val_loss: 0.3568 - val_accuracy: 0.8741\n",
            "Epoch 9/30\n",
            "1563/1563 [==============================] - 7s 4ms/step - loss: 0.3546 - accuracy: 0.8729 - val_loss: 0.3510 - val_accuracy: 0.8711\n",
            "Epoch 10/30\n",
            "1563/1563 [==============================] - 6s 4ms/step - loss: 0.3433 - accuracy: 0.8750 - val_loss: 0.3406 - val_accuracy: 0.8748\n",
            "Epoch 11/30\n",
            "1563/1563 [==============================] - 6s 4ms/step - loss: 0.3327 - accuracy: 0.8796 - val_loss: 0.3286 - val_accuracy: 0.8819\n",
            "Epoch 12/30\n",
            "1563/1563 [==============================] - 7s 4ms/step - loss: 0.3223 - accuracy: 0.8835 - val_loss: 0.3247 - val_accuracy: 0.8859\n",
            "Epoch 13/30\n",
            "1563/1563 [==============================] - 6s 4ms/step - loss: 0.3136 - accuracy: 0.8872 - val_loss: 0.3093 - val_accuracy: 0.8890\n",
            "Epoch 14/30\n",
            "1563/1563 [==============================] - 6s 4ms/step - loss: 0.3041 - accuracy: 0.8899 - val_loss: 0.2994 - val_accuracy: 0.8897\n",
            "Epoch 15/30\n",
            "1563/1563 [==============================] - 7s 4ms/step - loss: 0.2971 - accuracy: 0.8914 - val_loss: 0.2960 - val_accuracy: 0.8938\n",
            "Epoch 16/30\n",
            "1563/1563 [==============================] - 6s 4ms/step - loss: 0.2908 - accuracy: 0.8950 - val_loss: 0.3033 - val_accuracy: 0.8881\n",
            "Epoch 17/30\n",
            "1563/1563 [==============================] - 6s 4ms/step - loss: 0.2863 - accuracy: 0.8969 - val_loss: 0.2865 - val_accuracy: 0.8939\n",
            "Epoch 18/30\n",
            "1563/1563 [==============================] - 6s 4ms/step - loss: 0.2790 - accuracy: 0.8996 - val_loss: 0.2818 - val_accuracy: 0.8974\n",
            "Epoch 19/30\n",
            "1563/1563 [==============================] - 6s 4ms/step - loss: 0.2709 - accuracy: 0.9009 - val_loss: 0.2739 - val_accuracy: 0.9000\n",
            "Epoch 20/30\n",
            "1563/1563 [==============================] - 6s 4ms/step - loss: 0.2672 - accuracy: 0.9027 - val_loss: 0.2734 - val_accuracy: 0.9016\n",
            "Epoch 21/30\n",
            "1563/1563 [==============================] - 7s 4ms/step - loss: 0.2620 - accuracy: 0.9048 - val_loss: 0.2789 - val_accuracy: 0.8995\n",
            "Epoch 22/30\n",
            "1563/1563 [==============================] - 7s 4ms/step - loss: 0.2571 - accuracy: 0.9060 - val_loss: 0.2695 - val_accuracy: 0.9015\n",
            "Epoch 23/30\n",
            "1563/1563 [==============================] - 7s 4ms/step - loss: 0.2527 - accuracy: 0.9087 - val_loss: 0.2737 - val_accuracy: 0.9008\n",
            "Epoch 24/30\n",
            "1563/1563 [==============================] - 7s 4ms/step - loss: 0.2482 - accuracy: 0.9093 - val_loss: 0.2713 - val_accuracy: 0.9001\n",
            "Epoch 25/30\n",
            "1563/1563 [==============================] - 6s 4ms/step - loss: 0.2435 - accuracy: 0.9111 - val_loss: 0.2604 - val_accuracy: 0.9043\n",
            "Epoch 26/30\n",
            "1563/1563 [==============================] - 6s 4ms/step - loss: 0.2392 - accuracy: 0.9121 - val_loss: 0.2677 - val_accuracy: 0.9051\n",
            "Epoch 27/30\n",
            "1563/1563 [==============================] - 7s 4ms/step - loss: 0.2352 - accuracy: 0.9142 - val_loss: 0.2598 - val_accuracy: 0.9049\n",
            "Epoch 28/30\n",
            "1563/1563 [==============================] - 7s 4ms/step - loss: 0.2323 - accuracy: 0.9146 - val_loss: 0.2529 - val_accuracy: 0.9086\n",
            "Epoch 29/30\n",
            "1563/1563 [==============================] - 6s 4ms/step - loss: 0.2282 - accuracy: 0.9174 - val_loss: 0.2565 - val_accuracy: 0.9073\n",
            "Epoch 30/30\n",
            "1563/1563 [==============================] - 6s 4ms/step - loss: 0.2219 - accuracy: 0.9189 - val_loss: 0.2534 - val_accuracy: 0.9078\n",
            "313/313 [==============================] - 1s 3ms/step - loss: 0.2745 - accuracy: 0.9018\n",
            "Test accuracy: 0.9017999768257141\n"
          ]
        }
      ],
      "source": [
        "#Compilamos el modelo\n",
        "model3.compile(loss='sparse_categorical_crossentropy',\n",
        "              optimizer='sgd',\n",
        "              metrics=['accuracy'])\n",
        "\n",
        "# Ejecutamos el entrenamiento \n",
        "history=model3.fit(train_images,\n",
        "                    train_labels,\n",
        "                    epochs=30,\n",
        "                    validation_data=(validation_images, validation_labels))\n",
        "test_loss, test_acc = model3.evaluate(test_images, test_labels)\n",
        "\n",
        "print('Test accuracy:', test_acc)"
      ]
    },
    {
      "cell_type": "code",
      "execution_count": null,
      "metadata": {
        "id": "9E0oNY28FyS3"
      },
      "outputs": [],
      "source": [
        "def pinta_perdida_entrenamiento_validacion(historia):\n",
        "  history_dict = historia.history\n",
        "  acc = historia.history['accuracy']\n",
        "  val_acc = historia.history['val_accuracy']\n",
        "  loss = historia.history['loss']\n",
        "  val_loss = historia.history['val_loss']\n",
        "  epochs = range(1, len(acc) + 1)\n",
        "  # \"bo\" es para \"punto azun\"\n",
        "  plt.plot(epochs, loss, 'bo', label='Pérdida de Entrenamiento')\n",
        "  # \"b\" es para \"linea continua azul\"\n",
        "  plt.plot(epochs, val_loss, 'b', label='Pérdida de Validación')\n",
        "  plt.title('Pérdida de Entrenamiento y Validación')\n",
        "  plt.xlabel('Epochs')\n",
        "  plt.ylabel('Loss')\n",
        "  plt.legend()\n",
        "  plt.show()"
      ]
    },
    {
      "cell_type": "code",
      "execution_count": null,
      "metadata": {
        "id": "DcOe9RUnFgJS"
      },
      "outputs": [],
      "source": [
        "def pinta_precision_entrenamiento_validacion(historia):\n",
        "  history_dict = historia.history\n",
        "  acc = historia.history['accuracy']\n",
        "  val_acc = historia.history['val_accuracy']\n",
        "  loss = historia.history['loss']\n",
        "  val_loss = historia.history['val_loss']\n",
        "  plt.clf()   # Limpia la figura\n",
        "  acc_values = history_dict['accuracy']\n",
        "  val_acc_values = history_dict['val_accuracy']\n",
        "  epochs = range(1, len(acc) + 1)\n",
        "  plt.plot(epochs, acc, 'bo', label='Precisión de Entrenamiento')\n",
        "  plt.plot(epochs, val_acc, 'b', label='Precisión de Validación')\n",
        "  plt.title('Precisión de Entrenamiento y Valización')\n",
        "  plt.xlabel('Epochs')\n",
        "  plt.ylabel('Loss')\n",
        "  plt.legend()\n",
        "  plt.show()"
      ]
    },
    {
      "cell_type": "code",
      "execution_count": null,
      "metadata": {
        "colab": {
          "base_uri": "https://localhost:8080/",
          "height": 295
        },
        "id": "2uA7bRZeG-td",
        "outputId": "c04a89a6-1873-4899-a664-2476e5f45010"
      },
      "outputs": [
        {
          "output_type": "display_data",
          "data": {
            "text/plain": [
              "<Figure size 432x288 with 1 Axes>"
            ],
            "image/png": "[encoded data removed]"
          },
          "metadata": {
            "needs_background": "light"
          }
        }
      ],
      "source": [
        "pinta_perdida_entrenamiento_validacion(history)"
      ]
    },
    {
      "cell_type": "code",
      "execution_count": null,
      "metadata": {
        "colab": {
          "base_uri": "https://localhost:8080/",
          "height": 295
        },
        "id": "oe6UsRBVHE8m",
        "outputId": "0e0c2fc2-c188-4378-debe-dc9174fdcc37"
      },
      "outputs": [
        {
          "output_type": "display_data",
          "data": {
            "text/plain": [
              "<Figure size 432x288 with 1 Axes>"
            ],
            "image/png": "[encoded data removed]"
          },
          "metadata": {
            "needs_background": "light"
          }
        }
      ],
      "source": [
        "pinta_precision_entrenamiento_validacion(history)"
      ]
    },
    {
      "cell_type": "code",
      "execution_count": null,
      "metadata": {
        "colab": {
          "base_uri": "https://localhost:8080/",
          "height": 1000
        },
        "id": "Iv08didoN1bt",
        "outputId": "d4eb007d-9a07-4a09-878b-1d55a0a8341a"
      },
      "outputs": [
        {
          "output_type": "stream",
          "name": "stdout",
          "text": [
            "313/313 [==============================] - 1s 2ms/step\n"
          ]
        },
        {
          "output_type": "display_data",
          "data": {
            "text/plain": [
              "<Figure size 432x216 with 2 Axes>"
            ],
            "image/png": "[encoded data removed]"
          },
          "metadata": {
            "needs_background": "light"
          }
        },
        {
          "output_type": "display_data",
          "data": {
            "text/plain": [
              "<Figure size 432x288 with 0 Axes>"
            ]
          },
          "metadata": {}
        },
        {
          "output_type": "display_data",
          "data": {
            "text/plain": [
              "<Figure size 432x216 with 2 Axes>"
            ],
            "image/png": "[encoded data removed]"
          },
          "metadata": {
            "needs_background": "light"
          }
        },
        {
          "output_type": "display_data",
          "data": {
            "text/plain": [
              "<Figure size 432x288 with 0 Axes>"
            ]
          },
          "metadata": {}
        },
        {
          "output_type": "display_data",
          "data": {
            "text/plain": [
              "<Figure size 432x216 with 2 Axes>"
            ],
            "image/png": "[encoded data removed]"
          },
          "metadata": {
            "needs_background": "light"
          }
        },
        {
          "output_type": "display_data",
          "data": {
            "text/plain": [
              "<Figure size 432x288 with 0 Axes>"
            ]
          },
          "metadata": {}
        },
        {
          "output_type": "display_data",
          "data": {
            "text/plain": [
              "<Figure size 432x216 with 2 Axes>"
            ],
            "image/png": "[encoded data removed]"
          },
          "metadata": {
            "needs_background": "light"
          }
        },
        {
          "output_type": "display_data",
          "data": {
            "text/plain": [
              "<Figure size 432x288 with 0 Axes>"
            ]
          },
          "metadata": {}
        },
        {
          "output_type": "display_data",
          "data": {
            "text/plain": [
              "<Figure size 432x216 with 2 Axes>"
            ],
            "image/png": "[encoded data removed]"
          },
          "metadata": {
            "needs_background": "light"
          }
        },
        {
          "output_type": "display_data",
          "data": {
            "text/plain": [
              "<Figure size 432x288 with 0 Axes>"
            ]
          },
          "metadata": {}
        },
        {
          "output_type": "display_data",
          "data": {
            "text/plain": [
              "<Figure size 432x216 with 2 Axes>"
            ],
            "image/png": "[encoded data removed]"
          },
          "metadata": {
            "needs_background": "light"
          }
        },
        {
          "output_type": "display_data",
          "data": {
            "text/plain": [
              "<Figure size 432x288 with 0 Axes>"
            ]
          },
          "metadata": {}
        },
        {
          "output_type": "display_data",
          "data": {
            "text/plain": [
              "<Figure size 432x216 with 2 Axes>"
            ],
            "image/png": "[encoded data removed]"
          },
          "metadata": {
            "needs_background": "light"
          }
        },
        {
          "output_type": "display_data",
          "data": {
            "text/plain": [
              "<Figure size 432x288 with 0 Axes>"
            ]
          },
          "metadata": {}
        },
        {
          "output_type": "display_data",
          "data": {
            "text/plain": [
              "<Figure size 432x216 with 2 Axes>"
            ],
            "image/png": "[encoded data removed]"
          },
          "metadata": {
            "needs_background": "light"
          }
        },
        {
          "output_type": "display_data",
          "data": {
            "text/plain": [
              "<Figure size 432x288 with 0 Axes>"
            ]
          },
          "metadata": {}
        },
        {
          "output_type": "display_data",
          "data": {
            "text/plain": [
              "<Figure size 432x216 with 2 Axes>"
            ],
            "image/png": "[encoded data removed]"
          },
          "metadata": {
            "needs_background": "light"
          }
        },
        {
          "output_type": "display_data",
          "data": {
            "text/plain": [
              "<Figure size 432x288 with 0 Axes>"
            ]
          },
          "metadata": {}
        },
        {
          "output_type": "display_data",
          "data": {
            "text/plain": [
              "<Figure size 432x216 with 2 Axes>"
            ],
            "image/png": "[encoded data removed]"
          },
          "metadata": {
            "needs_background": "light"
          }
        },
        {
          "output_type": "display_data",
          "data": {
            "text/plain": [
              "<Figure size 432x288 with 0 Axes>"
            ]
          },
          "metadata": {}
        },
        {
          "output_type": "display_data",
          "data": {
            "text/plain": [
              "<Figure size 432x216 with 2 Axes>"
            ],
            "image/png": "[encoded data removed]"
          },
          "metadata": {
            "needs_background": "light"
          }
        },
        {
          "output_type": "display_data",
          "data": {
            "text/plain": [
              "<Figure size 432x288 with 0 Axes>"
            ]
          },
          "metadata": {}
        },
        {
          "output_type": "display_data",
          "data": {
            "text/plain": [
              "<Figure size 432x216 with 2 Axes>"
            ],
            "image/png": "[encoded data removed]"
          },
          "metadata": {
            "needs_background": "light"
          }
        },
        {
          "output_type": "display_data",
          "data": {
            "text/plain": [
              "<Figure size 432x288 with 0 Axes>"
            ]
          },
          "metadata": {}
        },
        {
          "output_type": "display_data",
          "data": {
            "text/plain": [
              "<Figure size 432x216 with 2 Axes>"
            ],
            "image/png": "[encoded data removed]"
          },
          "metadata": {
            "needs_background": "light"
          }
        },
        {
          "output_type": "display_data",
          "data": {
            "text/plain": [
              "<Figure size 432x288 with 0 Axes>"
            ]
          },
          "metadata": {}
        },
        {
          "output_type": "display_data",
          "data": {
            "text/plain": [
              "<Figure size 432x216 with 2 Axes>"
            ],
            "image/png": "[encoded data removed]"
          },
          "metadata": {
            "needs_background": "light"
          }
        },
        {
          "output_type": "display_data",
          "data": {
            "text/plain": [
              "<Figure size 432x288 with 0 Axes>"
            ]
          },
          "metadata": {}
        }
      ],
      "source": [
        "# graficamos los 14 primeros elementos para ver cómo de bien o de mal se comporta nuestro modelo.\n",
        "\n",
        "predictions = model3.predict(test_images)\n",
        "\n",
        "for i in range(14):\n",
        "  plt.figure(figsize=(6,3))\n",
        "  plt.subplot(1,2,1)\n",
        "  plot_image(i, predictions[i], test_labels, test_images.reshape(10000,28,28))\n",
        "  plt.subplot(1,2,2)\n",
        "  plot_value_array(i, predictions[i],  test_labels)\n",
        "  plt.show()\n",
        "  plt.clf()"
      ]
    },
    {
      "cell_type": "markdown",
      "source": [
        "En este caso, si lo empleamos en el caso 1, el modelo no cambia, sin embargo en el caso 2; como vemos en las gráficas, el modelo no se sobreentrena, aunque es cierto que la precisión ha aumentado con respecto al modelo sin el Dropout."
      ],
      "metadata": {
        "id": "q6udZd73WKKQ"
      }
    },
    {
      "cell_type": "markdown",
      "metadata": {
        "id": "HOJp0-DpAQii"
      },
      "source": [
        "# Estudio de los conceptos de `callbacks`."
      ]
    },
    {
      "cell_type": "markdown",
      "metadata": {
        "id": "GcmB5tCYHTi9"
      },
      "source": [
        "### Hiperparámetro Learning rate en caso 1 con 25 épocas"
      ]
    },
    {
      "cell_type": "code",
      "execution_count": null,
      "metadata": {
        "colab": {
          "base_uri": "https://localhost:8080/"
        },
        "id": "BzBAPkfPG2F8",
        "outputId": "fb83a087-195a-43c5-9c65-66f19120f733"
      },
      "outputs": [
        {
          "name": "stdout",
          "output_type": "stream",
          "text": [
            "Model: \"sequential_13\"\n",
            "_________________________________________________________________\n",
            " Layer (type)                Output Shape              Param #   \n",
            "=================================================================\n",
            " conv2d_26 (Conv2D)          (None, 24, 24, 32)        832       \n",
            "                                                                 \n",
            " max_pooling2d_26 (MaxPoolin  (None, 12, 12, 32)       0         \n",
            " g2D)                                                            \n",
            "                                                                 \n",
            " conv2d_27 (Conv2D)          (None, 8, 8, 64)          51264     \n",
            "                                                                 \n",
            " max_pooling2d_27 (MaxPoolin  (None, 4, 4, 64)         0         \n",
            " g2D)                                                            \n",
            "                                                                 \n",
            " flatten_13 (Flatten)        (None, 1024)              0         \n",
            "                                                                 \n",
            " dense_21 (Dense)            (None, 10)                10250     \n",
            "                                                                 \n",
            "=================================================================\n",
            "Total params: 62,346\n",
            "Trainable params: 62,346\n",
            "Non-trainable params: 0\n",
            "_________________________________________________________________\n"
          ]
        }
      ],
      "source": [
        "# Crear el Modelo de red neuronal CNN con:\n",
        "#Utilizaremos el modelo del caso 1:\n",
        "model = Sequential()\n",
        "\n",
        "model.add(Conv2D(32, (5, 5), activation='relu',input_shape=(28,28,1)))\n",
        "\n",
        "model.add(MaxPooling2D((2, 2)))\n",
        "\n",
        "model.add(Conv2D(64, (5, 5), activation='relu'))\n",
        "\n",
        "model.add(MaxPooling2D((2, 2)))\n",
        "\n",
        "model.add(Flatten())\n",
        "model.add(Dense(10, activation='softmax'))\n",
        "\n",
        "model.summary()"
      ]
    },
    {
      "cell_type": "code",
      "execution_count": null,
      "metadata": {
        "id": "VuFoTGqRG-NY"
      },
      "outputs": [],
      "source": [
        "#Compilamos el modelo\n",
        "model.compile(loss='sparse_categorical_crossentropy',\n",
        "              optimizer='sgd',\n",
        "              metrics=['accuracy']) \n",
        "                                    "
      ]
    },
    {
      "cell_type": "code",
      "execution_count": null,
      "metadata": {
        "id": "RAtM2B-UHHvo"
      },
      "outputs": [],
      "source": [
        "# Definimos la función scheduler que mantiene la tasa de aprendizaje durante las primeras 15 épocas y, a partir de ésta, decrece de forma exponencial\n",
        "# A esta función entra la época en la que se está entrenando el modelo y la tasa de aprendizaje de la época anterior\n",
        "def scheduler(epoch, lr):\n",
        "  if epoch < 15:\n",
        "    return lr\n",
        "  else:\n",
        "    return lr * tf.math.exp(-0.1)\n",
        "    "
      ]
    },
    {
      "cell_type": "markdown",
      "metadata": {
        "id": "fF2u0SZCHvQ4"
      },
      "source": [
        "El learning rate es un hiperparametro que indica la rapidez con la que aprende la red. Además, establece cómo de rápido pueden cambiar los hiperparámetros de un modelo segús éste va aprendiendo. En el caso de ser un valor muy pequeño hace que la red aprenda muy despacio y que pueda llegar a estancarse en un mínimo local y, por tanto, que los valores de los pesos y del bias no se modificaran correctamente. En caso contrario, si el valor de lr es muuy alto, el aprendizaje sería muy rápido pero habría sobreentrenamiento, ya que podría saltarse el valor del mínimo global. \n",
        "\n"
      ]
    },
    {
      "cell_type": "markdown",
      "metadata": {
        "id": "3t-OIpJZKQvo"
      },
      "source": [
        "Es un hiperparámetro difícil de ajustar, pero es recomendable no usar un valor constante durante todo el entrenamiento y que, según va avanzando el proceso de entrenamiento, el valor del learning rate disminuya, es decir, que haya valores más grandes al principio y más pequeños al final.\n"
      ]
    },
    {
      "cell_type": "code",
      "execution_count": null,
      "metadata": {
        "id": "MXvl3yiVHI85"
      },
      "outputs": [],
      "source": [
        "# Introducimos la función callbacks learning rate que tiene como entrada la tasa de aprendizaje \n",
        "callback = tf.keras.callbacks.LearningRateScheduler(scheduler, verbose=1)\n"
      ]
    },
    {
      "cell_type": "code",
      "execution_count": null,
      "metadata": {
        "colab": {
          "background_save": true,
          "base_uri": "https://localhost:8080/"
        },
        "id": "3YwiLRV-HLcg",
        "outputId": "034d8b80-e2bf-43bf-f774-bae0c89d3f9f"
      },
      "outputs": [
        {
          "name": "stdout",
          "output_type": "stream",
          "text": [
            "\n",
            "Epoch 1: LearningRateScheduler setting learning rate to 0.009999999776482582.\n",
            "Epoch 1/25\n",
            "1563/1563 [==============================] - 5s 3ms/step - loss: 0.8658 - accuracy: 0.6937 - lr: 0.0100\n",
            "\n",
            "Epoch 2: LearningRateScheduler setting learning rate to 0.009999999776482582.\n",
            "Epoch 2/25\n",
            "1563/1563 [==============================] - 5s 3ms/step - loss: 0.5342 - accuracy: 0.8083 - lr: 0.0100\n",
            "\n",
            "Epoch 3: LearningRateScheduler setting learning rate to 0.009999999776482582.\n",
            "Epoch 3/25\n",
            "1563/1563 [==============================] - 5s 4ms/step - loss: 0.4673 - accuracy: 0.8333 - lr: 0.0100\n",
            "\n",
            "Epoch 4: LearningRateScheduler setting learning rate to 0.009999999776482582.\n",
            "Epoch 4/25\n",
            "1563/1563 [==============================] - 5s 3ms/step - loss: 0.4300 - accuracy: 0.8485 - lr: 0.0100\n",
            "\n",
            "Epoch 5: LearningRateScheduler setting learning rate to 0.009999999776482582.\n",
            "Epoch 5/25\n",
            "1563/1563 [==============================] - 5s 3ms/step - loss: 0.4039 - accuracy: 0.8567 - lr: 0.0100\n",
            "\n",
            "Epoch 6: LearningRateScheduler setting learning rate to 0.009999999776482582.\n",
            "Epoch 6/25\n",
            "1563/1563 [==============================] - 5s 3ms/step - loss: 0.3874 - accuracy: 0.8619 - lr: 0.0100\n",
            "\n",
            "Epoch 7: LearningRateScheduler setting learning rate to 0.009999999776482582.\n",
            "Epoch 7/25\n",
            "1563/1563 [==============================] - 5s 3ms/step - loss: 0.3725 - accuracy: 0.8672 - lr: 0.0100\n",
            "\n",
            "Epoch 8: LearningRateScheduler setting learning rate to 0.009999999776482582.\n",
            "Epoch 8/25\n",
            "1563/1563 [==============================] - 5s 3ms/step - loss: 0.3580 - accuracy: 0.8719 - lr: 0.0100\n",
            "\n",
            "Epoch 9: LearningRateScheduler setting learning rate to 0.009999999776482582.\n",
            "Epoch 9/25\n",
            "1563/1563 [==============================] - 5s 3ms/step - loss: 0.3476 - accuracy: 0.8766 - lr: 0.0100\n",
            "\n",
            "Epoch 10: LearningRateScheduler setting learning rate to 0.009999999776482582.\n",
            "Epoch 10/25\n",
            "1563/1563 [==============================] - 5s 3ms/step - loss: 0.3386 - accuracy: 0.8787 - lr: 0.0100\n",
            "\n",
            "Epoch 11: LearningRateScheduler setting learning rate to 0.009999999776482582.\n",
            "Epoch 11/25\n",
            "1563/1563 [==============================] - 5s 3ms/step - loss: 0.3299 - accuracy: 0.8822 - lr: 0.0100\n",
            "\n",
            "Epoch 12: LearningRateScheduler setting learning rate to 0.009999999776482582.\n",
            "Epoch 12/25\n",
            "1563/1563 [==============================] - 5s 3ms/step - loss: 0.3212 - accuracy: 0.8859 - lr: 0.0100\n",
            "\n",
            "Epoch 13: LearningRateScheduler setting learning rate to 0.009999999776482582.\n",
            "Epoch 13/25\n",
            "1563/1563 [==============================] - 5s 3ms/step - loss: 0.3139 - accuracy: 0.8888 - lr: 0.0100\n",
            "\n",
            "Epoch 14: LearningRateScheduler setting learning rate to 0.009999999776482582.\n",
            "Epoch 14/25\n",
            "1563/1563 [==============================] - 5s 3ms/step - loss: 0.3078 - accuracy: 0.8912 - lr: 0.0100\n",
            "\n",
            "Epoch 15: LearningRateScheduler setting learning rate to 0.009999999776482582.\n",
            "Epoch 15/25\n",
            "1563/1563 [==============================] - 5s 3ms/step - loss: 0.3008 - accuracy: 0.8938 - lr: 0.0100\n",
            "\n",
            "Epoch 16: LearningRateScheduler setting learning rate to 0.009048373438417912.\n",
            "Epoch 16/25\n",
            "1563/1563 [==============================] - 5s 3ms/step - loss: 0.2930 - accuracy: 0.8971 - lr: 0.0090\n",
            "\n",
            "Epoch 17: LearningRateScheduler setting learning rate to 0.008187306113541126.\n",
            "Epoch 17/25\n",
            "1563/1563 [==============================] - 5s 3ms/step - loss: 0.2863 - accuracy: 0.8982 - lr: 0.0082\n",
            "\n",
            "Epoch 18: LearningRateScheduler setting learning rate to 0.0074081807397305965.\n",
            "Epoch 18/25\n",
            "1563/1563 [==============================] - 5s 3ms/step - loss: 0.2794 - accuracy: 0.9016 - lr: 0.0074\n",
            "\n",
            "Epoch 19: LearningRateScheduler setting learning rate to 0.00670319888740778.\n",
            "Epoch 19/25\n",
            "1563/1563 [==============================] - 5s 3ms/step - loss: 0.2744 - accuracy: 0.9033 - lr: 0.0067\n",
            "\n",
            "Epoch 20: LearningRateScheduler setting learning rate to 0.006065304856747389.\n",
            "Epoch 20/25\n",
            "1563/1563 [==============================] - 5s 3ms/step - loss: 0.2699 - accuracy: 0.9040 - lr: 0.0061\n",
            "\n",
            "Epoch 21: LearningRateScheduler setting learning rate to 0.005488114431500435.\n",
            "Epoch 21/25\n",
            "1563/1563 [==============================] - 5s 3ms/step - loss: 0.2657 - accuracy: 0.9067 - lr: 0.0055\n",
            "\n",
            "Epoch 22: LearningRateScheduler setting learning rate to 0.004965851083397865.\n",
            "Epoch 22/25\n",
            "1563/1563 [==============================] - 5s 3ms/step - loss: 0.2614 - accuracy: 0.9083 - lr: 0.0050\n",
            "\n",
            "Epoch 23: LearningRateScheduler setting learning rate to 0.004493287764489651.\n",
            "Epoch 23/25\n",
            "1563/1563 [==============================] - 5s 3ms/step - loss: 0.2582 - accuracy: 0.9095 - lr: 0.0045\n",
            "\n",
            "Epoch 24: LearningRateScheduler setting learning rate to 0.0040656947530806065.\n",
            "Epoch 24/25\n",
            "1563/1563 [==============================] - 5s 3ms/step - loss: 0.2552 - accuracy: 0.9100 - lr: 0.0041\n",
            "\n",
            "Epoch 25: LearningRateScheduler setting learning rate to 0.0036787926219403744.\n",
            "Epoch 25/25\n",
            "1563/1563 [==============================] - 5s 3ms/step - loss: 0.2525 - accuracy: 0.9121 - lr: 0.0037\n",
            "313/313 [==============================] - 1s 3ms/step - loss: 0.3083 - accuracy: 0.8880\n",
            "Test accuracy: 0.8880000114440918\n"
          ]
        }
      ],
      "source": [
        "# Ejecutamos el entrenamiento \n",
        "# Introducimos la tasa de aprendizaje\n",
        "model.fit(train_images, train_labels, epochs=25, callbacks=[callback])\n",
        "#Verificamos el modelo ya entrenado contra el conjunto de prueba\n",
        "test_loss, test_acc = model.evaluate(test_images, test_labels)\n",
        "\n",
        "print('Test accuracy:', test_acc)"
      ]
    }
  ],
  "metadata": {
    "accelerator": "GPU",
    "colab": {
      "collapsed_sections": [
        "jJbCsz23__Kv"
      ],
      "provenance": []
    },
    "gpuClass": "standard",
    "kernelspec": {
      "display_name": "Python 3",
      "name": "python3"
    },
    "language_info": {
      "name": "python"
    }
  },
  "nbformat": 4,
  "nbformat_minor": 0
}